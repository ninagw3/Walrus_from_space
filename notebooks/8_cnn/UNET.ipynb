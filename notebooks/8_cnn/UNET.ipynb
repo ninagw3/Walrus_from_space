{
 "cells": [
  {
   "cell_type": "code",
   "outputs": [
    {
     "name": "stdout",
     "output_type": "stream",
     "text": [
      "Requirement already satisfied: jupyter in c:\\users\\student\\documents\\walrus_code\\.venv\\lib\\site-packages (1.0.0)\n",
      "Requirement already satisfied: notebook in c:\\users\\student\\documents\\walrus_code\\.venv\\lib\\site-packages (7.1.3)\n",
      "Requirement already satisfied: qtconsole in c:\\users\\student\\documents\\walrus_code\\.venv\\lib\\site-packages (from jupyter) (5.5.1)\n",
      "Requirement already satisfied: jupyter-console in c:\\users\\student\\documents\\walrus_code\\.venv\\lib\\site-packages (from jupyter) (6.6.3)\n",
      "Requirement already satisfied: nbconvert in c:\\users\\student\\documents\\walrus_code\\.venv\\lib\\site-packages (from jupyter) (7.16.3)\n",
      "Requirement already satisfied: ipykernel in c:\\users\\student\\documents\\walrus_code\\.venv\\lib\\site-packages (from jupyter) (6.29.4)\n",
      "Requirement already satisfied: ipywidgets in c:\\users\\student\\documents\\walrus_code\\.venv\\lib\\site-packages (from jupyter) (8.1.2)\n",
      "Requirement already satisfied: jupyter-server<3,>=2.4.0 in c:\\users\\student\\documents\\walrus_code\\.venv\\lib\\site-packages (from notebook) (2.14.0)\n",
      "Requirement already satisfied: jupyterlab-server<3,>=2.22.1 in c:\\users\\student\\documents\\walrus_code\\.venv\\lib\\site-packages (from notebook) (2.26.0)\n",
      "Requirement already satisfied: jupyterlab<4.2,>=4.1.1 in c:\\users\\student\\documents\\walrus_code\\.venv\\lib\\site-packages (from notebook) (4.1.6)\n",
      "Requirement already satisfied: notebook-shim<0.3,>=0.2 in c:\\users\\student\\documents\\walrus_code\\.venv\\lib\\site-packages (from notebook) (0.2.4)\n",
      "Requirement already satisfied: tornado>=6.2.0 in c:\\users\\student\\documents\\walrus_code\\.venv\\lib\\site-packages (from notebook) (6.4)\n",
      "Requirement already satisfied: anyio>=3.1.0 in c:\\users\\student\\documents\\walrus_code\\.venv\\lib\\site-packages (from jupyter-server<3,>=2.4.0->notebook) (4.3.0)\n",
      "Requirement already satisfied: argon2-cffi>=21.1 in c:\\users\\student\\documents\\walrus_code\\.venv\\lib\\site-packages (from jupyter-server<3,>=2.4.0->notebook) (23.1.0)\n",
      "Requirement already satisfied: jinja2>=3.0.3 in c:\\users\\student\\documents\\walrus_code\\.venv\\lib\\site-packages (from jupyter-server<3,>=2.4.0->notebook) (3.1.3)\n",
      "Requirement already satisfied: jupyter-client>=7.4.4 in c:\\users\\student\\documents\\walrus_code\\.venv\\lib\\site-packages (from jupyter-server<3,>=2.4.0->notebook) (8.6.1)\n",
      "Requirement already satisfied: jupyter-core!=5.0.*,>=4.12 in c:\\users\\student\\documents\\walrus_code\\.venv\\lib\\site-packages (from jupyter-server<3,>=2.4.0->notebook) (5.7.2)\n",
      "Requirement already satisfied: jupyter-events>=0.9.0 in c:\\users\\student\\documents\\walrus_code\\.venv\\lib\\site-packages (from jupyter-server<3,>=2.4.0->notebook) (0.10.0)\n",
      "Requirement already satisfied: jupyter-server-terminals>=0.4.4 in c:\\users\\student\\documents\\walrus_code\\.venv\\lib\\site-packages (from jupyter-server<3,>=2.4.0->notebook) (0.5.3)\n",
      "Requirement already satisfied: nbformat>=5.3.0 in c:\\users\\student\\documents\\walrus_code\\.venv\\lib\\site-packages (from jupyter-server<3,>=2.4.0->notebook) (5.10.4)\n",
      "Requirement already satisfied: overrides>=5.0 in c:\\users\\student\\documents\\walrus_code\\.venv\\lib\\site-packages (from jupyter-server<3,>=2.4.0->notebook) (7.7.0)\n",
      "Requirement already satisfied: packaging>=22.0 in c:\\users\\student\\documents\\walrus_code\\.venv\\lib\\site-packages (from jupyter-server<3,>=2.4.0->notebook) (24.0)\n",
      "Requirement already satisfied: prometheus-client>=0.9 in c:\\users\\student\\documents\\walrus_code\\.venv\\lib\\site-packages (from jupyter-server<3,>=2.4.0->notebook) (0.20.0)\n",
      "Requirement already satisfied: pywinpty>=2.0.1 in c:\\users\\student\\documents\\walrus_code\\.venv\\lib\\site-packages (from jupyter-server<3,>=2.4.0->notebook) (2.0.13)\n",
      "Requirement already satisfied: pyzmq>=24 in c:\\users\\student\\documents\\walrus_code\\.venv\\lib\\site-packages (from jupyter-server<3,>=2.4.0->notebook) (26.0.0)\n",
      "Requirement already satisfied: send2trash>=1.8.2 in c:\\users\\student\\documents\\walrus_code\\.venv\\lib\\site-packages (from jupyter-server<3,>=2.4.0->notebook) (1.8.3)\n",
      "Requirement already satisfied: terminado>=0.8.3 in c:\\users\\student\\documents\\walrus_code\\.venv\\lib\\site-packages (from jupyter-server<3,>=2.4.0->notebook) (0.18.1)\n",
      "Requirement already satisfied: traitlets>=5.6.0 in c:\\users\\student\\documents\\walrus_code\\.venv\\lib\\site-packages (from jupyter-server<3,>=2.4.0->notebook) (5.14.2)\n",
      "Requirement already satisfied: websocket-client>=1.7 in c:\\users\\student\\documents\\walrus_code\\.venv\\lib\\site-packages (from jupyter-server<3,>=2.4.0->notebook) (1.7.0)\n",
      "Requirement already satisfied: async-lru>=1.0.0 in c:\\users\\student\\documents\\walrus_code\\.venv\\lib\\site-packages (from jupyterlab<4.2,>=4.1.1->notebook) (2.0.4)\n",
      "Requirement already satisfied: httpx>=0.25.0 in c:\\users\\student\\documents\\walrus_code\\.venv\\lib\\site-packages (from jupyterlab<4.2,>=4.1.1->notebook) (0.27.0)\n",
      "Requirement already satisfied: importlib-metadata>=4.8.3 in c:\\users\\student\\documents\\walrus_code\\.venv\\lib\\site-packages (from jupyterlab<4.2,>=4.1.1->notebook) (7.1.0)\n",
      "Requirement already satisfied: jupyter-lsp>=2.0.0 in c:\\users\\student\\documents\\walrus_code\\.venv\\lib\\site-packages (from jupyterlab<4.2,>=4.1.1->notebook) (2.2.5)\n",
      "Requirement already satisfied: tomli>=1.2.2 in c:\\users\\student\\documents\\walrus_code\\.venv\\lib\\site-packages (from jupyterlab<4.2,>=4.1.1->notebook) (2.0.1)\n",
      "Requirement already satisfied: comm>=0.1.1 in c:\\users\\student\\documents\\walrus_code\\.venv\\lib\\site-packages (from ipykernel->jupyter) (0.2.2)\n",
      "Requirement already satisfied: debugpy>=1.6.5 in c:\\users\\student\\documents\\walrus_code\\.venv\\lib\\site-packages (from ipykernel->jupyter) (1.8.1)\n",
      "Requirement already satisfied: ipython>=7.23.1 in c:\\users\\student\\documents\\walrus_code\\.venv\\lib\\site-packages (from ipykernel->jupyter) (8.18.1)\n",
      "Requirement already satisfied: matplotlib-inline>=0.1 in c:\\users\\student\\documents\\walrus_code\\.venv\\lib\\site-packages (from ipykernel->jupyter) (0.1.7)\n",
      "Requirement already satisfied: nest-asyncio in c:\\users\\student\\documents\\walrus_code\\.venv\\lib\\site-packages (from ipykernel->jupyter) (1.6.0)\n",
      "Requirement already satisfied: psutil in c:\\users\\student\\documents\\walrus_code\\.venv\\lib\\site-packages (from ipykernel->jupyter) (5.9.8)\n",
      "Requirement already satisfied: babel>=2.10 in c:\\users\\student\\documents\\walrus_code\\.venv\\lib\\site-packages (from jupyterlab-server<3,>=2.22.1->notebook) (2.14.0)\n",
      "Requirement already satisfied: json5>=0.9.0 in c:\\users\\student\\documents\\walrus_code\\.venv\\lib\\site-packages (from jupyterlab-server<3,>=2.22.1->notebook) (0.9.25)\n",
      "Requirement already satisfied: jsonschema>=4.18.0 in c:\\users\\student\\documents\\walrus_code\\.venv\\lib\\site-packages (from jupyterlab-server<3,>=2.22.1->notebook) (4.21.1)\n",
      "Requirement already satisfied: requests>=2.31 in c:\\users\\student\\documents\\walrus_code\\.venv\\lib\\site-packages (from jupyterlab-server<3,>=2.22.1->notebook) (2.31.0)\n",
      "Requirement already satisfied: beautifulsoup4 in c:\\users\\student\\documents\\walrus_code\\.venv\\lib\\site-packages (from nbconvert->jupyter) (4.12.3)\n",
      "Requirement already satisfied: bleach!=5.0.0 in c:\\users\\student\\documents\\walrus_code\\.venv\\lib\\site-packages (from nbconvert->jupyter) (6.1.0)\n",
      "Requirement already satisfied: defusedxml in c:\\users\\student\\documents\\walrus_code\\.venv\\lib\\site-packages (from nbconvert->jupyter) (0.7.1)\n",
      "Requirement already satisfied: jupyterlab-pygments in c:\\users\\student\\documents\\walrus_code\\.venv\\lib\\site-packages (from nbconvert->jupyter) (0.3.0)\n",
      "Requirement already satisfied: markupsafe>=2.0 in c:\\users\\student\\documents\\walrus_code\\.venv\\lib\\site-packages (from nbconvert->jupyter) (2.1.5)\n",
      "Requirement already satisfied: mistune<4,>=2.0.3 in c:\\users\\student\\documents\\walrus_code\\.venv\\lib\\site-packages (from nbconvert->jupyter) (3.0.2)\n",
      "Requirement already satisfied: nbclient>=0.5.0 in c:\\users\\student\\documents\\walrus_code\\.venv\\lib\\site-packages (from nbconvert->jupyter) (0.10.0)\n",
      "Requirement already satisfied: pandocfilters>=1.4.1 in c:\\users\\student\\documents\\walrus_code\\.venv\\lib\\site-packages (from nbconvert->jupyter) (1.5.1)\n",
      "Requirement already satisfied: pygments>=2.4.1 in c:\\users\\student\\documents\\walrus_code\\.venv\\lib\\site-packages (from nbconvert->jupyter) (2.17.2)\n",
      "Requirement already satisfied: tinycss2 in c:\\users\\student\\documents\\walrus_code\\.venv\\lib\\site-packages (from nbconvert->jupyter) (1.2.1)\n",
      "Requirement already satisfied: widgetsnbextension~=4.0.10 in c:\\users\\student\\documents\\walrus_code\\.venv\\lib\\site-packages (from ipywidgets->jupyter) (4.0.10)\n",
      "Requirement already satisfied: jupyterlab-widgets~=3.0.10 in c:\\users\\student\\documents\\walrus_code\\.venv\\lib\\site-packages (from ipywidgets->jupyter) (3.0.10)\n",
      "Requirement already satisfied: prompt-toolkit>=3.0.30 in c:\\users\\student\\documents\\walrus_code\\.venv\\lib\\site-packages (from jupyter-console->jupyter) (3.0.43)\n",
      "Requirement already satisfied: qtpy>=2.4.0 in c:\\users\\student\\documents\\walrus_code\\.venv\\lib\\site-packages (from qtconsole->jupyter) (2.4.1)\n",
      "Requirement already satisfied: idna>=2.8 in c:\\users\\student\\documents\\walrus_code\\.venv\\lib\\site-packages (from anyio>=3.1.0->jupyter-server<3,>=2.4.0->notebook) (3.7)\n",
      "Requirement already satisfied: sniffio>=1.1 in c:\\users\\student\\documents\\walrus_code\\.venv\\lib\\site-packages (from anyio>=3.1.0->jupyter-server<3,>=2.4.0->notebook) (1.3.1)\n",
      "Requirement already satisfied: exceptiongroup>=1.0.2 in c:\\users\\student\\documents\\walrus_code\\.venv\\lib\\site-packages (from anyio>=3.1.0->jupyter-server<3,>=2.4.0->notebook) (1.2.0)\n",
      "Requirement already satisfied: typing-extensions>=4.1 in c:\\users\\student\\documents\\walrus_code\\.venv\\lib\\site-packages (from anyio>=3.1.0->jupyter-server<3,>=2.4.0->notebook) (4.11.0)\n",
      "Requirement already satisfied: argon2-cffi-bindings in c:\\users\\student\\documents\\walrus_code\\.venv\\lib\\site-packages (from argon2-cffi>=21.1->jupyter-server<3,>=2.4.0->notebook) (21.2.0)\n",
      "Requirement already satisfied: six>=1.9.0 in c:\\users\\student\\documents\\walrus_code\\.venv\\lib\\site-packages (from bleach!=5.0.0->nbconvert->jupyter) (1.16.0)\n",
      "Requirement already satisfied: webencodings in c:\\users\\student\\documents\\walrus_code\\.venv\\lib\\site-packages (from bleach!=5.0.0->nbconvert->jupyter) (0.5.1)\n",
      "Requirement already satisfied: certifi in c:\\users\\student\\documents\\walrus_code\\.venv\\lib\\site-packages (from httpx>=0.25.0->jupyterlab<4.2,>=4.1.1->notebook) (2024.2.2)\n",
      "Requirement already satisfied: httpcore==1.* in c:\\users\\student\\documents\\walrus_code\\.venv\\lib\\site-packages (from httpx>=0.25.0->jupyterlab<4.2,>=4.1.1->notebook) (1.0.5)\n",
      "Requirement already satisfied: h11<0.15,>=0.13 in c:\\users\\student\\documents\\walrus_code\\.venv\\lib\\site-packages (from httpcore==1.*->httpx>=0.25.0->jupyterlab<4.2,>=4.1.1->notebook) (0.14.0)\n",
      "Requirement already satisfied: zipp>=0.5 in c:\\users\\student\\documents\\walrus_code\\.venv\\lib\\site-packages (from importlib-metadata>=4.8.3->jupyterlab<4.2,>=4.1.1->notebook) (3.18.1)\n",
      "Requirement already satisfied: decorator in c:\\users\\student\\documents\\walrus_code\\.venv\\lib\\site-packages (from ipython>=7.23.1->ipykernel->jupyter) (5.1.1)\n",
      "Requirement already satisfied: jedi>=0.16 in c:\\users\\student\\documents\\walrus_code\\.venv\\lib\\site-packages (from ipython>=7.23.1->ipykernel->jupyter) (0.19.1)\n",
      "Requirement already satisfied: stack-data in c:\\users\\student\\documents\\walrus_code\\.venv\\lib\\site-packages (from ipython>=7.23.1->ipykernel->jupyter) (0.6.3)\n",
      "Requirement already satisfied: colorama in c:\\users\\student\\documents\\walrus_code\\.venv\\lib\\site-packages (from ipython>=7.23.1->ipykernel->jupyter) (0.4.6)\n",
      "Requirement already satisfied: attrs>=22.2.0 in c:\\users\\student\\documents\\walrus_code\\.venv\\lib\\site-packages (from jsonschema>=4.18.0->jupyterlab-server<3,>=2.22.1->notebook) (23.2.0)\n",
      "Requirement already satisfied: jsonschema-specifications>=2023.03.6 in c:\\users\\student\\documents\\walrus_code\\.venv\\lib\\site-packages (from jsonschema>=4.18.0->jupyterlab-server<3,>=2.22.1->notebook) (2023.12.1)\n",
      "Requirement already satisfied: referencing>=0.28.4 in c:\\users\\student\\documents\\walrus_code\\.venv\\lib\\site-packages (from jsonschema>=4.18.0->jupyterlab-server<3,>=2.22.1->notebook) (0.34.0)\n",
      "Requirement already satisfied: rpds-py>=0.7.1 in c:\\users\\student\\documents\\walrus_code\\.venv\\lib\\site-packages (from jsonschema>=4.18.0->jupyterlab-server<3,>=2.22.1->notebook) (0.18.0)\n",
      "Requirement already satisfied: python-dateutil>=2.8.2 in c:\\users\\student\\documents\\walrus_code\\.venv\\lib\\site-packages (from jupyter-client>=7.4.4->jupyter-server<3,>=2.4.0->notebook) (2.9.0.post0)\n",
      "Requirement already satisfied: platformdirs>=2.5 in c:\\users\\student\\documents\\walrus_code\\.venv\\lib\\site-packages (from jupyter-core!=5.0.*,>=4.12->jupyter-server<3,>=2.4.0->notebook) (4.2.0)\n",
      "Requirement already satisfied: pywin32>=300 in c:\\users\\student\\documents\\walrus_code\\.venv\\lib\\site-packages (from jupyter-core!=5.0.*,>=4.12->jupyter-server<3,>=2.4.0->notebook) (306)\n",
      "Requirement already satisfied: python-json-logger>=2.0.4 in c:\\users\\student\\documents\\walrus_code\\.venv\\lib\\site-packages (from jupyter-events>=0.9.0->jupyter-server<3,>=2.4.0->notebook) (2.0.7)\n",
      "Requirement already satisfied: pyyaml>=5.3 in c:\\users\\student\\documents\\walrus_code\\.venv\\lib\\site-packages (from jupyter-events>=0.9.0->jupyter-server<3,>=2.4.0->notebook) (6.0.1)\n",
      "Requirement already satisfied: rfc3339-validator in c:\\users\\student\\documents\\walrus_code\\.venv\\lib\\site-packages (from jupyter-events>=0.9.0->jupyter-server<3,>=2.4.0->notebook) (0.1.4)\n",
      "Requirement already satisfied: rfc3986-validator>=0.1.1 in c:\\users\\student\\documents\\walrus_code\\.venv\\lib\\site-packages (from jupyter-events>=0.9.0->jupyter-server<3,>=2.4.0->notebook) (0.1.1)\n",
      "Requirement already satisfied: fastjsonschema>=2.15 in c:\\users\\student\\documents\\walrus_code\\.venv\\lib\\site-packages (from nbformat>=5.3.0->jupyter-server<3,>=2.4.0->notebook) (2.19.1)\n",
      "Requirement already satisfied: wcwidth in c:\\users\\student\\documents\\walrus_code\\.venv\\lib\\site-packages (from prompt-toolkit>=3.0.30->jupyter-console->jupyter) (0.2.13)\n",
      "Requirement already satisfied: charset-normalizer<4,>=2 in c:\\users\\student\\documents\\walrus_code\\.venv\\lib\\site-packages (from requests>=2.31->jupyterlab-server<3,>=2.22.1->notebook) (3.3.2)\n",
      "Requirement already satisfied: urllib3<3,>=1.21.1 in c:\\users\\student\\documents\\walrus_code\\.venv\\lib\\site-packages (from requests>=2.31->jupyterlab-server<3,>=2.22.1->notebook) (2.2.1)\n",
      "Requirement already satisfied: soupsieve>1.2 in c:\\users\\student\\documents\\walrus_code\\.venv\\lib\\site-packages (from beautifulsoup4->nbconvert->jupyter) (2.5)\n",
      "Requirement already satisfied: parso<0.9.0,>=0.8.3 in c:\\users\\student\\documents\\walrus_code\\.venv\\lib\\site-packages (from jedi>=0.16->ipython>=7.23.1->ipykernel->jupyter) (0.8.4)\n",
      "Requirement already satisfied: fqdn in c:\\users\\student\\documents\\walrus_code\\.venv\\lib\\site-packages (from jsonschema>=4.18.0->jupyterlab-server<3,>=2.22.1->notebook) (1.5.1)\n",
      "Requirement already satisfied: isoduration in c:\\users\\student\\documents\\walrus_code\\.venv\\lib\\site-packages (from jsonschema>=4.18.0->jupyterlab-server<3,>=2.22.1->notebook) (20.11.0)\n",
      "Requirement already satisfied: jsonpointer>1.13 in c:\\users\\student\\documents\\walrus_code\\.venv\\lib\\site-packages (from jsonschema>=4.18.0->jupyterlab-server<3,>=2.22.1->notebook) (2.4)\n",
      "Requirement already satisfied: uri-template in c:\\users\\student\\documents\\walrus_code\\.venv\\lib\\site-packages (from jsonschema>=4.18.0->jupyterlab-server<3,>=2.22.1->notebook) (1.3.0)\n",
      "Requirement already satisfied: webcolors>=1.11 in c:\\users\\student\\documents\\walrus_code\\.venv\\lib\\site-packages (from jsonschema>=4.18.0->jupyterlab-server<3,>=2.22.1->notebook) (1.13)\n",
      "Requirement already satisfied: cffi>=1.0.1 in c:\\users\\student\\documents\\walrus_code\\.venv\\lib\\site-packages (from argon2-cffi-bindings->argon2-cffi>=21.1->jupyter-server<3,>=2.4.0->notebook) (1.16.0)\n",
      "Requirement already satisfied: executing>=1.2.0 in c:\\users\\student\\documents\\walrus_code\\.venv\\lib\\site-packages (from stack-data->ipython>=7.23.1->ipykernel->jupyter) (2.0.1)\n",
      "Requirement already satisfied: asttokens>=2.1.0 in c:\\users\\student\\documents\\walrus_code\\.venv\\lib\\site-packages (from stack-data->ipython>=7.23.1->ipykernel->jupyter) (2.4.1)\n",
      "Requirement already satisfied: pure-eval in c:\\users\\student\\documents\\walrus_code\\.venv\\lib\\site-packages (from stack-data->ipython>=7.23.1->ipykernel->jupyter) (0.2.2)\n",
      "Requirement already satisfied: pycparser in c:\\users\\student\\documents\\walrus_code\\.venv\\lib\\site-packages (from cffi>=1.0.1->argon2-cffi-bindings->argon2-cffi>=21.1->jupyter-server<3,>=2.4.0->notebook) (2.22)\n",
      "Requirement already satisfied: arrow>=0.15.0 in c:\\users\\student\\documents\\walrus_code\\.venv\\lib\\site-packages (from isoduration->jsonschema>=4.18.0->jupyterlab-server<3,>=2.22.1->notebook) (1.3.0)\n",
      "Requirement already satisfied: types-python-dateutil>=2.8.10 in c:\\users\\student\\documents\\walrus_code\\.venv\\lib\\site-packages (from arrow>=0.15.0->isoduration->jsonschema>=4.18.0->jupyterlab-server<3,>=2.22.1->notebook) (2.9.0.20240316)\n"
     ]
    },
    {
     "name": "stderr",
     "output_type": "stream",
     "text": [
      "\n",
      "[notice] A new release of pip is available: 23.2.1 -> 24.1.1\n",
      "[notice] To update, run: python.exe -m pip install --upgrade pip\n"
     ]
    },
    {
     "name": "stdout",
     "output_type": "stream",
     "text": [
      "Collecting jupyter_http_over_ws\n",
      "  Obtaining dependency information for jupyter_http_over_ws from https://files.pythonhosted.org/packages/71/b8/d0047d068facc913a354d14c4664b0ba99b8f30f8d66a1800e98549c06ce/jupyter_http_over_ws-0.0.8-py2.py3-none-any.whl.metadata\n",
      "  Downloading jupyter_http_over_ws-0.0.8-py2.py3-none-any.whl.metadata (1.1 kB)\n",
      "Requirement already satisfied: notebook>=5.0 in c:\\users\\student\\documents\\walrus_code\\.venv\\lib\\site-packages (from jupyter_http_over_ws) (7.1.3)\n",
      "Requirement already satisfied: six>=1.6.0 in c:\\users\\student\\documents\\walrus_code\\.venv\\lib\\site-packages (from jupyter_http_over_ws) (1.16.0)\n",
      "Requirement already satisfied: tornado>=4.5 in c:\\users\\student\\documents\\walrus_code\\.venv\\lib\\site-packages (from jupyter_http_over_ws) (6.4)\n",
      "Requirement already satisfied: jupyter-server<3,>=2.4.0 in c:\\users\\student\\documents\\walrus_code\\.venv\\lib\\site-packages (from notebook>=5.0->jupyter_http_over_ws) (2.14.0)\n",
      "Requirement already satisfied: jupyterlab-server<3,>=2.22.1 in c:\\users\\student\\documents\\walrus_code\\.venv\\lib\\site-packages (from notebook>=5.0->jupyter_http_over_ws) (2.26.0)\n",
      "Requirement already satisfied: jupyterlab<4.2,>=4.1.1 in c:\\users\\student\\documents\\walrus_code\\.venv\\lib\\site-packages (from notebook>=5.0->jupyter_http_over_ws) (4.1.6)\n",
      "Requirement already satisfied: notebook-shim<0.3,>=0.2 in c:\\users\\student\\documents\\walrus_code\\.venv\\lib\\site-packages (from notebook>=5.0->jupyter_http_over_ws) (0.2.4)\n",
      "Requirement already satisfied: anyio>=3.1.0 in c:\\users\\student\\documents\\walrus_code\\.venv\\lib\\site-packages (from jupyter-server<3,>=2.4.0->notebook>=5.0->jupyter_http_over_ws) (4.3.0)\n",
      "Requirement already satisfied: argon2-cffi>=21.1 in c:\\users\\student\\documents\\walrus_code\\.venv\\lib\\site-packages (from jupyter-server<3,>=2.4.0->notebook>=5.0->jupyter_http_over_ws) (23.1.0)\n",
      "Requirement already satisfied: jinja2>=3.0.3 in c:\\users\\student\\documents\\walrus_code\\.venv\\lib\\site-packages (from jupyter-server<3,>=2.4.0->notebook>=5.0->jupyter_http_over_ws) (3.1.3)\n",
      "Requirement already satisfied: jupyter-client>=7.4.4 in c:\\users\\student\\documents\\walrus_code\\.venv\\lib\\site-packages (from jupyter-server<3,>=2.4.0->notebook>=5.0->jupyter_http_over_ws) (8.6.1)\n",
      "Requirement already satisfied: jupyter-core!=5.0.*,>=4.12 in c:\\users\\student\\documents\\walrus_code\\.venv\\lib\\site-packages (from jupyter-server<3,>=2.4.0->notebook>=5.0->jupyter_http_over_ws) (5.7.2)\n",
      "Requirement already satisfied: jupyter-events>=0.9.0 in c:\\users\\student\\documents\\walrus_code\\.venv\\lib\\site-packages (from jupyter-server<3,>=2.4.0->notebook>=5.0->jupyter_http_over_ws) (0.10.0)\n",
      "Requirement already satisfied: jupyter-server-terminals>=0.4.4 in c:\\users\\student\\documents\\walrus_code\\.venv\\lib\\site-packages (from jupyter-server<3,>=2.4.0->notebook>=5.0->jupyter_http_over_ws) (0.5.3)\n",
      "Requirement already satisfied: nbconvert>=6.4.4 in c:\\users\\student\\documents\\walrus_code\\.venv\\lib\\site-packages (from jupyter-server<3,>=2.4.0->notebook>=5.0->jupyter_http_over_ws) (7.16.3)\n",
      "Requirement already satisfied: nbformat>=5.3.0 in c:\\users\\student\\documents\\walrus_code\\.venv\\lib\\site-packages (from jupyter-server<3,>=2.4.0->notebook>=5.0->jupyter_http_over_ws) (5.10.4)\n",
      "Requirement already satisfied: overrides>=5.0 in c:\\users\\student\\documents\\walrus_code\\.venv\\lib\\site-packages (from jupyter-server<3,>=2.4.0->notebook>=5.0->jupyter_http_over_ws) (7.7.0)\n",
      "Requirement already satisfied: packaging>=22.0 in c:\\users\\student\\documents\\walrus_code\\.venv\\lib\\site-packages (from jupyter-server<3,>=2.4.0->notebook>=5.0->jupyter_http_over_ws) (24.0)\n",
      "Requirement already satisfied: prometheus-client>=0.9 in c:\\users\\student\\documents\\walrus_code\\.venv\\lib\\site-packages (from jupyter-server<3,>=2.4.0->notebook>=5.0->jupyter_http_over_ws) (0.20.0)\n",
      "Requirement already satisfied: pywinpty>=2.0.1 in c:\\users\\student\\documents\\walrus_code\\.venv\\lib\\site-packages (from jupyter-server<3,>=2.4.0->notebook>=5.0->jupyter_http_over_ws) (2.0.13)\n",
      "Requirement already satisfied: pyzmq>=24 in c:\\users\\student\\documents\\walrus_code\\.venv\\lib\\site-packages (from jupyter-server<3,>=2.4.0->notebook>=5.0->jupyter_http_over_ws) (26.0.0)\n",
      "Requirement already satisfied: send2trash>=1.8.2 in c:\\users\\student\\documents\\walrus_code\\.venv\\lib\\site-packages (from jupyter-server<3,>=2.4.0->notebook>=5.0->jupyter_http_over_ws) (1.8.3)\n",
      "Requirement already satisfied: terminado>=0.8.3 in c:\\users\\student\\documents\\walrus_code\\.venv\\lib\\site-packages (from jupyter-server<3,>=2.4.0->notebook>=5.0->jupyter_http_over_ws) (0.18.1)\n",
      "Requirement already satisfied: traitlets>=5.6.0 in c:\\users\\student\\documents\\walrus_code\\.venv\\lib\\site-packages (from jupyter-server<3,>=2.4.0->notebook>=5.0->jupyter_http_over_ws) (5.14.2)\n",
      "Requirement already satisfied: websocket-client>=1.7 in c:\\users\\student\\documents\\walrus_code\\.venv\\lib\\site-packages (from jupyter-server<3,>=2.4.0->notebook>=5.0->jupyter_http_over_ws) (1.7.0)\n",
      "Requirement already satisfied: async-lru>=1.0.0 in c:\\users\\student\\documents\\walrus_code\\.venv\\lib\\site-packages (from jupyterlab<4.2,>=4.1.1->notebook>=5.0->jupyter_http_over_ws) (2.0.4)\n",
      "Requirement already satisfied: httpx>=0.25.0 in c:\\users\\student\\documents\\walrus_code\\.venv\\lib\\site-packages (from jupyterlab<4.2,>=4.1.1->notebook>=5.0->jupyter_http_over_ws) (0.27.0)\n",
      "Requirement already satisfied: importlib-metadata>=4.8.3 in c:\\users\\student\\documents\\walrus_code\\.venv\\lib\\site-packages (from jupyterlab<4.2,>=4.1.1->notebook>=5.0->jupyter_http_over_ws) (7.1.0)\n",
      "Requirement already satisfied: ipykernel>=6.5.0 in c:\\users\\student\\documents\\walrus_code\\.venv\\lib\\site-packages (from jupyterlab<4.2,>=4.1.1->notebook>=5.0->jupyter_http_over_ws) (6.29.4)\n",
      "Requirement already satisfied: jupyter-lsp>=2.0.0 in c:\\users\\student\\documents\\walrus_code\\.venv\\lib\\site-packages (from jupyterlab<4.2,>=4.1.1->notebook>=5.0->jupyter_http_over_ws) (2.2.5)\n",
      "Requirement already satisfied: tomli>=1.2.2 in c:\\users\\student\\documents\\walrus_code\\.venv\\lib\\site-packages (from jupyterlab<4.2,>=4.1.1->notebook>=5.0->jupyter_http_over_ws) (2.0.1)\n",
      "Requirement already satisfied: babel>=2.10 in c:\\users\\student\\documents\\walrus_code\\.venv\\lib\\site-packages (from jupyterlab-server<3,>=2.22.1->notebook>=5.0->jupyter_http_over_ws) (2.14.0)\n",
      "Requirement already satisfied: json5>=0.9.0 in c:\\users\\student\\documents\\walrus_code\\.venv\\lib\\site-packages (from jupyterlab-server<3,>=2.22.1->notebook>=5.0->jupyter_http_over_ws) (0.9.25)\n",
      "Requirement already satisfied: jsonschema>=4.18.0 in c:\\users\\student\\documents\\walrus_code\\.venv\\lib\\site-packages (from jupyterlab-server<3,>=2.22.1->notebook>=5.0->jupyter_http_over_ws) (4.21.1)\n",
      "Requirement already satisfied: requests>=2.31 in c:\\users\\student\\documents\\walrus_code\\.venv\\lib\\site-packages (from jupyterlab-server<3,>=2.22.1->notebook>=5.0->jupyter_http_over_ws) (2.31.0)\n",
      "Requirement already satisfied: idna>=2.8 in c:\\users\\student\\documents\\walrus_code\\.venv\\lib\\site-packages (from anyio>=3.1.0->jupyter-server<3,>=2.4.0->notebook>=5.0->jupyter_http_over_ws) (3.7)\n",
      "Requirement already satisfied: sniffio>=1.1 in c:\\users\\student\\documents\\walrus_code\\.venv\\lib\\site-packages (from anyio>=3.1.0->jupyter-server<3,>=2.4.0->notebook>=5.0->jupyter_http_over_ws) (1.3.1)\n",
      "Requirement already satisfied: exceptiongroup>=1.0.2 in c:\\users\\student\\documents\\walrus_code\\.venv\\lib\\site-packages (from anyio>=3.1.0->jupyter-server<3,>=2.4.0->notebook>=5.0->jupyter_http_over_ws) (1.2.0)\n",
      "Requirement already satisfied: typing-extensions>=4.1 in c:\\users\\student\\documents\\walrus_code\\.venv\\lib\\site-packages (from anyio>=3.1.0->jupyter-server<3,>=2.4.0->notebook>=5.0->jupyter_http_over_ws) (4.11.0)\n",
      "Requirement already satisfied: argon2-cffi-bindings in c:\\users\\student\\documents\\walrus_code\\.venv\\lib\\site-packages (from argon2-cffi>=21.1->jupyter-server<3,>=2.4.0->notebook>=5.0->jupyter_http_over_ws) (21.2.0)\n",
      "Requirement already satisfied: certifi in c:\\users\\student\\documents\\walrus_code\\.venv\\lib\\site-packages (from httpx>=0.25.0->jupyterlab<4.2,>=4.1.1->notebook>=5.0->jupyter_http_over_ws) (2024.2.2)\n",
      "Requirement already satisfied: httpcore==1.* in c:\\users\\student\\documents\\walrus_code\\.venv\\lib\\site-packages (from httpx>=0.25.0->jupyterlab<4.2,>=4.1.1->notebook>=5.0->jupyter_http_over_ws) (1.0.5)\n",
      "Requirement already satisfied: h11<0.15,>=0.13 in c:\\users\\student\\documents\\walrus_code\\.venv\\lib\\site-packages (from httpcore==1.*->httpx>=0.25.0->jupyterlab<4.2,>=4.1.1->notebook>=5.0->jupyter_http_over_ws) (0.14.0)\n",
      "Requirement already satisfied: zipp>=0.5 in c:\\users\\student\\documents\\walrus_code\\.venv\\lib\\site-packages (from importlib-metadata>=4.8.3->jupyterlab<4.2,>=4.1.1->notebook>=5.0->jupyter_http_over_ws) (3.18.1)\n",
      "Requirement already satisfied: comm>=0.1.1 in c:\\users\\student\\documents\\walrus_code\\.venv\\lib\\site-packages (from ipykernel>=6.5.0->jupyterlab<4.2,>=4.1.1->notebook>=5.0->jupyter_http_over_ws) (0.2.2)\n",
      "Requirement already satisfied: debugpy>=1.6.5 in c:\\users\\student\\documents\\walrus_code\\.venv\\lib\\site-packages (from ipykernel>=6.5.0->jupyterlab<4.2,>=4.1.1->notebook>=5.0->jupyter_http_over_ws) (1.8.1)\n",
      "Requirement already satisfied: ipython>=7.23.1 in c:\\users\\student\\documents\\walrus_code\\.venv\\lib\\site-packages (from ipykernel>=6.5.0->jupyterlab<4.2,>=4.1.1->notebook>=5.0->jupyter_http_over_ws) (8.18.1)\n",
      "Requirement already satisfied: matplotlib-inline>=0.1 in c:\\users\\student\\documents\\walrus_code\\.venv\\lib\\site-packages (from ipykernel>=6.5.0->jupyterlab<4.2,>=4.1.1->notebook>=5.0->jupyter_http_over_ws) (0.1.7)\n",
      "Requirement already satisfied: nest-asyncio in c:\\users\\student\\documents\\walrus_code\\.venv\\lib\\site-packages (from ipykernel>=6.5.0->jupyterlab<4.2,>=4.1.1->notebook>=5.0->jupyter_http_over_ws) (1.6.0)\n",
      "Requirement already satisfied: psutil in c:\\users\\student\\documents\\walrus_code\\.venv\\lib\\site-packages (from ipykernel>=6.5.0->jupyterlab<4.2,>=4.1.1->notebook>=5.0->jupyter_http_over_ws) (5.9.8)\n",
      "Requirement already satisfied: MarkupSafe>=2.0 in c:\\users\\student\\documents\\walrus_code\\.venv\\lib\\site-packages (from jinja2>=3.0.3->jupyter-server<3,>=2.4.0->notebook>=5.0->jupyter_http_over_ws) (2.1.5)\n",
      "Requirement already satisfied: attrs>=22.2.0 in c:\\users\\student\\documents\\walrus_code\\.venv\\lib\\site-packages (from jsonschema>=4.18.0->jupyterlab-server<3,>=2.22.1->notebook>=5.0->jupyter_http_over_ws) (23.2.0)\n",
      "Requirement already satisfied: jsonschema-specifications>=2023.03.6 in c:\\users\\student\\documents\\walrus_code\\.venv\\lib\\site-packages (from jsonschema>=4.18.0->jupyterlab-server<3,>=2.22.1->notebook>=5.0->jupyter_http_over_ws) (2023.12.1)\n",
      "Requirement already satisfied: referencing>=0.28.4 in c:\\users\\student\\documents\\walrus_code\\.venv\\lib\\site-packages (from jsonschema>=4.18.0->jupyterlab-server<3,>=2.22.1->notebook>=5.0->jupyter_http_over_ws) (0.34.0)\n",
      "Requirement already satisfied: rpds-py>=0.7.1 in c:\\users\\student\\documents\\walrus_code\\.venv\\lib\\site-packages (from jsonschema>=4.18.0->jupyterlab-server<3,>=2.22.1->notebook>=5.0->jupyter_http_over_ws) (0.18.0)\n",
      "Requirement already satisfied: python-dateutil>=2.8.2 in c:\\users\\student\\documents\\walrus_code\\.venv\\lib\\site-packages (from jupyter-client>=7.4.4->jupyter-server<3,>=2.4.0->notebook>=5.0->jupyter_http_over_ws) (2.9.0.post0)\n",
      "Requirement already satisfied: platformdirs>=2.5 in c:\\users\\student\\documents\\walrus_code\\.venv\\lib\\site-packages (from jupyter-core!=5.0.*,>=4.12->jupyter-server<3,>=2.4.0->notebook>=5.0->jupyter_http_over_ws) (4.2.0)\n",
      "Requirement already satisfied: pywin32>=300 in c:\\users\\student\\documents\\walrus_code\\.venv\\lib\\site-packages (from jupyter-core!=5.0.*,>=4.12->jupyter-server<3,>=2.4.0->notebook>=5.0->jupyter_http_over_ws) (306)\n",
      "Requirement already satisfied: python-json-logger>=2.0.4 in c:\\users\\student\\documents\\walrus_code\\.venv\\lib\\site-packages (from jupyter-events>=0.9.0->jupyter-server<3,>=2.4.0->notebook>=5.0->jupyter_http_over_ws) (2.0.7)\n",
      "Requirement already satisfied: pyyaml>=5.3 in c:\\users\\student\\documents\\walrus_code\\.venv\\lib\\site-packages (from jupyter-events>=0.9.0->jupyter-server<3,>=2.4.0->notebook>=5.0->jupyter_http_over_ws) (6.0.1)\n",
      "Requirement already satisfied: rfc3339-validator in c:\\users\\student\\documents\\walrus_code\\.venv\\lib\\site-packages (from jupyter-events>=0.9.0->jupyter-server<3,>=2.4.0->notebook>=5.0->jupyter_http_over_ws) (0.1.4)\n",
      "Requirement already satisfied: rfc3986-validator>=0.1.1 in c:\\users\\student\\documents\\walrus_code\\.venv\\lib\\site-packages (from jupyter-events>=0.9.0->jupyter-server<3,>=2.4.0->notebook>=5.0->jupyter_http_over_ws) (0.1.1)\n",
      "Requirement already satisfied: beautifulsoup4 in c:\\users\\student\\documents\\walrus_code\\.venv\\lib\\site-packages (from nbconvert>=6.4.4->jupyter-server<3,>=2.4.0->notebook>=5.0->jupyter_http_over_ws) (4.12.3)\n",
      "Requirement already satisfied: bleach!=5.0.0 in c:\\users\\student\\documents\\walrus_code\\.venv\\lib\\site-packages (from nbconvert>=6.4.4->jupyter-server<3,>=2.4.0->notebook>=5.0->jupyter_http_over_ws) (6.1.0)\n",
      "Requirement already satisfied: defusedxml in c:\\users\\student\\documents\\walrus_code\\.venv\\lib\\site-packages (from nbconvert>=6.4.4->jupyter-server<3,>=2.4.0->notebook>=5.0->jupyter_http_over_ws) (0.7.1)\n",
      "Requirement already satisfied: jupyterlab-pygments in c:\\users\\student\\documents\\walrus_code\\.venv\\lib\\site-packages (from nbconvert>=6.4.4->jupyter-server<3,>=2.4.0->notebook>=5.0->jupyter_http_over_ws) (0.3.0)\n",
      "Requirement already satisfied: mistune<4,>=2.0.3 in c:\\users\\student\\documents\\walrus_code\\.venv\\lib\\site-packages (from nbconvert>=6.4.4->jupyter-server<3,>=2.4.0->notebook>=5.0->jupyter_http_over_ws) (3.0.2)\n",
      "Requirement already satisfied: nbclient>=0.5.0 in c:\\users\\student\\documents\\walrus_code\\.venv\\lib\\site-packages (from nbconvert>=6.4.4->jupyter-server<3,>=2.4.0->notebook>=5.0->jupyter_http_over_ws) (0.10.0)\n",
      "Requirement already satisfied: pandocfilters>=1.4.1 in c:\\users\\student\\documents\\walrus_code\\.venv\\lib\\site-packages (from nbconvert>=6.4.4->jupyter-server<3,>=2.4.0->notebook>=5.0->jupyter_http_over_ws) (1.5.1)\n",
      "Requirement already satisfied: pygments>=2.4.1 in c:\\users\\student\\documents\\walrus_code\\.venv\\lib\\site-packages (from nbconvert>=6.4.4->jupyter-server<3,>=2.4.0->notebook>=5.0->jupyter_http_over_ws) (2.17.2)\n",
      "Requirement already satisfied: tinycss2 in c:\\users\\student\\documents\\walrus_code\\.venv\\lib\\site-packages (from nbconvert>=6.4.4->jupyter-server<3,>=2.4.0->notebook>=5.0->jupyter_http_over_ws) (1.2.1)\n",
      "Requirement already satisfied: fastjsonschema>=2.15 in c:\\users\\student\\documents\\walrus_code\\.venv\\lib\\site-packages (from nbformat>=5.3.0->jupyter-server<3,>=2.4.0->notebook>=5.0->jupyter_http_over_ws) (2.19.1)\n",
      "Requirement already satisfied: charset-normalizer<4,>=2 in c:\\users\\student\\documents\\walrus_code\\.venv\\lib\\site-packages (from requests>=2.31->jupyterlab-server<3,>=2.22.1->notebook>=5.0->jupyter_http_over_ws) (3.3.2)\n",
      "Requirement already satisfied: urllib3<3,>=1.21.1 in c:\\users\\student\\documents\\walrus_code\\.venv\\lib\\site-packages (from requests>=2.31->jupyterlab-server<3,>=2.22.1->notebook>=5.0->jupyter_http_over_ws) (2.2.1)\n",
      "Requirement already satisfied: webencodings in c:\\users\\student\\documents\\walrus_code\\.venv\\lib\\site-packages (from bleach!=5.0.0->nbconvert>=6.4.4->jupyter-server<3,>=2.4.0->notebook>=5.0->jupyter_http_over_ws) (0.5.1)\n",
      "Requirement already satisfied: decorator in c:\\users\\student\\documents\\walrus_code\\.venv\\lib\\site-packages (from ipython>=7.23.1->ipykernel>=6.5.0->jupyterlab<4.2,>=4.1.1->notebook>=5.0->jupyter_http_over_ws) (5.1.1)\n",
      "Requirement already satisfied: jedi>=0.16 in c:\\users\\student\\documents\\walrus_code\\.venv\\lib\\site-packages (from ipython>=7.23.1->ipykernel>=6.5.0->jupyterlab<4.2,>=4.1.1->notebook>=5.0->jupyter_http_over_ws) (0.19.1)\n",
      "Requirement already satisfied: prompt-toolkit<3.1.0,>=3.0.41 in c:\\users\\student\\documents\\walrus_code\\.venv\\lib\\site-packages (from ipython>=7.23.1->ipykernel>=6.5.0->jupyterlab<4.2,>=4.1.1->notebook>=5.0->jupyter_http_over_ws) (3.0.43)\n",
      "Requirement already satisfied: stack-data in c:\\users\\student\\documents\\walrus_code\\.venv\\lib\\site-packages (from ipython>=7.23.1->ipykernel>=6.5.0->jupyterlab<4.2,>=4.1.1->notebook>=5.0->jupyter_http_over_ws) (0.6.3)\n",
      "Requirement already satisfied: colorama in c:\\users\\student\\documents\\walrus_code\\.venv\\lib\\site-packages (from ipython>=7.23.1->ipykernel>=6.5.0->jupyterlab<4.2,>=4.1.1->notebook>=5.0->jupyter_http_over_ws) (0.4.6)\n",
      "Requirement already satisfied: fqdn in c:\\users\\student\\documents\\walrus_code\\.venv\\lib\\site-packages (from jsonschema>=4.18.0->jupyterlab-server<3,>=2.22.1->notebook>=5.0->jupyter_http_over_ws) (1.5.1)\n",
      "Requirement already satisfied: isoduration in c:\\users\\student\\documents\\walrus_code\\.venv\\lib\\site-packages (from jsonschema>=4.18.0->jupyterlab-server<3,>=2.22.1->notebook>=5.0->jupyter_http_over_ws) (20.11.0)\n",
      "Requirement already satisfied: jsonpointer>1.13 in c:\\users\\student\\documents\\walrus_code\\.venv\\lib\\site-packages (from jsonschema>=4.18.0->jupyterlab-server<3,>=2.22.1->notebook>=5.0->jupyter_http_over_ws) (2.4)\n",
      "Requirement already satisfied: uri-template in c:\\users\\student\\documents\\walrus_code\\.venv\\lib\\site-packages (from jsonschema>=4.18.0->jupyterlab-server<3,>=2.22.1->notebook>=5.0->jupyter_http_over_ws) (1.3.0)\n",
      "Requirement already satisfied: webcolors>=1.11 in c:\\users\\student\\documents\\walrus_code\\.venv\\lib\\site-packages (from jsonschema>=4.18.0->jupyterlab-server<3,>=2.22.1->notebook>=5.0->jupyter_http_over_ws) (1.13)\n",
      "Requirement already satisfied: cffi>=1.0.1 in c:\\users\\student\\documents\\walrus_code\\.venv\\lib\\site-packages (from argon2-cffi-bindings->argon2-cffi>=21.1->jupyter-server<3,>=2.4.0->notebook>=5.0->jupyter_http_over_ws) (1.16.0)\n",
      "Requirement already satisfied: soupsieve>1.2 in c:\\users\\student\\documents\\walrus_code\\.venv\\lib\\site-packages (from beautifulsoup4->nbconvert>=6.4.4->jupyter-server<3,>=2.4.0->notebook>=5.0->jupyter_http_over_ws) (2.5)\n",
      "Requirement already satisfied: pycparser in c:\\users\\student\\documents\\walrus_code\\.venv\\lib\\site-packages (from cffi>=1.0.1->argon2-cffi-bindings->argon2-cffi>=21.1->jupyter-server<3,>=2.4.0->notebook>=5.0->jupyter_http_over_ws) (2.22)\n",
      "Requirement already satisfied: parso<0.9.0,>=0.8.3 in c:\\users\\student\\documents\\walrus_code\\.venv\\lib\\site-packages (from jedi>=0.16->ipython>=7.23.1->ipykernel>=6.5.0->jupyterlab<4.2,>=4.1.1->notebook>=5.0->jupyter_http_over_ws) (0.8.4)\n",
      "Requirement already satisfied: wcwidth in c:\\users\\student\\documents\\walrus_code\\.venv\\lib\\site-packages (from prompt-toolkit<3.1.0,>=3.0.41->ipython>=7.23.1->ipykernel>=6.5.0->jupyterlab<4.2,>=4.1.1->notebook>=5.0->jupyter_http_over_ws) (0.2.13)\n",
      "Requirement already satisfied: arrow>=0.15.0 in c:\\users\\student\\documents\\walrus_code\\.venv\\lib\\site-packages (from isoduration->jsonschema>=4.18.0->jupyterlab-server<3,>=2.22.1->notebook>=5.0->jupyter_http_over_ws) (1.3.0)\n",
      "Requirement already satisfied: executing>=1.2.0 in c:\\users\\student\\documents\\walrus_code\\.venv\\lib\\site-packages (from stack-data->ipython>=7.23.1->ipykernel>=6.5.0->jupyterlab<4.2,>=4.1.1->notebook>=5.0->jupyter_http_over_ws) (2.0.1)\n",
      "Requirement already satisfied: asttokens>=2.1.0 in c:\\users\\student\\documents\\walrus_code\\.venv\\lib\\site-packages (from stack-data->ipython>=7.23.1->ipykernel>=6.5.0->jupyterlab<4.2,>=4.1.1->notebook>=5.0->jupyter_http_over_ws) (2.4.1)\n",
      "Requirement already satisfied: pure-eval in c:\\users\\student\\documents\\walrus_code\\.venv\\lib\\site-packages (from stack-data->ipython>=7.23.1->ipykernel>=6.5.0->jupyterlab<4.2,>=4.1.1->notebook>=5.0->jupyter_http_over_ws) (0.2.2)\n",
      "Requirement already satisfied: types-python-dateutil>=2.8.10 in c:\\users\\student\\documents\\walrus_code\\.venv\\lib\\site-packages (from arrow>=0.15.0->isoduration->jsonschema>=4.18.0->jupyterlab-server<3,>=2.22.1->notebook>=5.0->jupyter_http_over_ws) (2.9.0.20240316)\n",
      "Downloading jupyter_http_over_ws-0.0.8-py2.py3-none-any.whl (18 kB)\n",
      "Installing collected packages: jupyter_http_over_ws\n",
      "Successfully installed jupyter_http_over_ws-0.0.8\n"
     ]
    },
    {
     "name": "stderr",
     "output_type": "stream",
     "text": [
      "\n",
      "[notice] A new release of pip is available: 23.2.1 -> 24.1.1\n",
      "[notice] To update, run: python.exe -m pip install --upgrade pip\n",
      "usage: jupyter [-h] [--version] [--config-dir] [--data-dir] [--runtime-dir]\n",
      "               [--paths] [--json] [--debug]\n",
      "               [subcommand]\n",
      "\n",
      "Jupyter: Interactive Computing\n",
      "\n",
      "positional arguments:\n",
      "  subcommand     the subcommand to launch\n",
      "\n",
      "optional arguments:\n",
      "  -h, --help     show this help message and exit\n",
      "  --version      show the versions of core jupyter packages and exit\n",
      "  --config-dir   show Jupyter config dir\n",
      "  --data-dir     show Jupyter data dir\n",
      "  --runtime-dir  show Jupyter runtime dir\n",
      "  --paths        show all Jupyter paths. Add --json for machine-readable\n",
      "                 format.\n",
      "  --json         output paths as machine-readable json\n",
      "  --debug        output debug information about paths\n",
      "\n",
      "Available subcommands: console dejavu events execute kernel kernelspec lab\n",
      "labextension labhub migrate nbconvert notebook qtconsole run server\n",
      "troubleshoot trust\n",
      "\n",
      "Jupyter command `jupyter-serverextension` not found.\n"
     ]
    }
   ],
   "source": [
    "!pip install jupyter notebook\n",
    "!pip install jupyter_http_over_ws\n",
    "!jupyter serverextension enable --py jupyter_http_over_ws\n"
   ],
   "metadata": {
    "collapsed": false,
    "ExecuteTime": {
     "end_time": "2024-07-02T00:15:34.880271800Z",
     "start_time": "2024-07-02T00:15:08.862586Z"
    }
   },
   "id": "32228c1fc4b07177",
   "execution_count": 10
  },
  {
   "cell_type": "code",
   "outputs": [
    {
     "ename": "SyntaxError",
     "evalue": "invalid syntax (2742849633.py, line 1)",
     "output_type": "error",
     "traceback": [
      "\u001B[1;36m  Cell \u001B[1;32mIn[11], line 1\u001B[1;36m\u001B[0m\n\u001B[1;33m    jupyter notebook\u001B[0m\n\u001B[1;37m            ^\u001B[0m\n\u001B[1;31mSyntaxError\u001B[0m\u001B[1;31m:\u001B[0m invalid syntax\n"
     ]
    }
   ],
   "source": [],
   "metadata": {
    "collapsed": false,
    "ExecuteTime": {
     "end_time": "2024-07-02T00:15:42.022800700Z",
     "start_time": "2024-07-02T00:15:41.975492300Z"
    }
   },
   "id": "61f19cf51cece037",
   "execution_count": 11
  },
  {
   "cell_type": "code",
   "outputs": [],
   "source": [
    "import numpy as np\n",
    "import tensorflow as tf\n",
    "import glob\n",
    "import rasterio\n",
    "import geopandas as gpd\n",
    "from rasterio.features import geometry_mask\n",
    "from sklearn.model_selection import train_test_split\n",
    "from tensorflow.keras.layers import Input, Conv2D, MaxPooling2D, UpSampling2D, concatenate\n",
    "from tensorflow.keras.models import Model\n",
    "from tensorflow.keras.callbacks import EarlyStopping, ModelCheckpoint\n",
    "from tensorflow.keras.preprocessing.image import ImageDataGenerator"
   ],
   "metadata": {
    "collapsed": false,
    "ExecuteTime": {
     "end_time": "2024-07-02T00:09:18.721953600Z",
     "start_time": "2024-07-02T00:09:18.705718Z"
    }
   },
   "id": "eb0ed0b692d16b8f",
   "execution_count": 6
  },
  {
   "cell_type": "code",
   "outputs": [
    {
     "name": "stdout",
     "output_type": "stream",
     "text": [
      "No matching shapefile found for C:\\Users\\Student\\Documents\\101_walrus_data\\train\\clipped_images\\pool_20230803_image.tif\n"
     ]
    }
   ],
   "source": [
    "# Define the directories containing images and shapefiles\n",
    "image_dir = \"C:\\\\Users\\\\Student\\\\Documents\\\\101_walrus_data\\\\train\\\\clipped_images\"\n",
    "shapefile_dir = \"C:\\\\Users\\\\Student\\\\Documents\\\\101_walrus_data\\\\train\\\\clipped_train\"\n",
    "\n",
    "# Use glob to list all .tif and .shp files in the specified directories\n",
    "image_paths = glob.glob(f\"{image_dir}/*.tif\")\n",
    "shapefile_paths = glob.glob(f\"{shapefile_dir}/*.shp\")\n",
    "\n",
    "# Function to extract island name and date from file names\n",
    "def extract_island_and_date(filename):\n",
    "    pattern = r'([a-zA-Z]+)_(\\d{8})'\n",
    "    match = re.search(pattern, filename)\n",
    "    if match:\n",
    "        return match.group(1), match.group(2)\n",
    "    return None, None\n",
    "\n",
    "# Pair image and shapefile paths based on filenames\n",
    "def pair_files(image_paths, shapefile_paths):\n",
    "    file_pairs = {}\n",
    "    for image_path in image_paths:\n",
    "        island, date = extract_island_and_date(os.path.basename(image_path))\n",
    "        if island is None or date is None:\n",
    "            print(f\"Failed to extract island and date from {image_path}\")\n",
    "            continue\n",
    "\n",
    "        matching_shapefiles = [shapefile for shapefile in shapefile_paths if island in shapefile and date in shapefile]\n",
    "        if not matching_shapefiles:\n",
    "            print(f\"No matching shapefile found for {image_path}\")\n",
    "            continue\n",
    "\n",
    "        shapefile_path = matching_shapefiles[0]\n",
    "        file_pairs[image_path] = shapefile_path\n",
    "    return file_pairs\n",
    "\n",
    "file_pairs = pair_files(image_paths, shapefile_paths)\n",
    "\n",
    "# Function to create mask from shapefiles\n",
    "def create_mask(image_path, shapefile_path):\n",
    "    with rasterio.open(image_path) as src:\n",
    "        image = src.read()  # Read all bands\n",
    "        transform = src.transform\n",
    "\n",
    "    gdf = gpd.read_file(shapefile_path)\n",
    "    mask = np.zeros((src.height, src.width), dtype=np.uint8)\n",
    "\n",
    "    # Apply label mapping\n",
    "    label_mapping = {\n",
    "        'ocean': 1,\n",
    "        'rock': 2,\n",
    "        'freshwater': 3,\n",
    "        'ice': 4,\n",
    "        'walrus_pure': 5,\n",
    "        'walrus_mixed': 6\n",
    "    }\n",
    "\n",
    "    for _, row in gdf.iterrows():\n",
    "        geom_mask = geometry_mask([row['geometry']], transform=transform, invert=True, out_shape=(src.height, src.width))\n",
    "        label = label_mapping.get(row['label'], 0)  # Use 0 for any label not in the mapping\n",
    "        mask[geom_mask] = label\n",
    "\n",
    "    return image, mask"
   ],
   "metadata": {
    "collapsed": false,
    "ExecuteTime": {
     "end_time": "2024-07-02T00:09:19.584123100Z",
     "start_time": "2024-07-02T00:09:19.549359600Z"
    }
   },
   "id": "dfb892e64332dfd7",
   "execution_count": 7
  },
  {
   "cell_type": "code",
   "outputs": [
    {
     "name": "stdout",
     "output_type": "stream",
     "text": [
      "Image patches and mask patches saved as numpy arrays.\n"
     ]
    }
   ],
   "source": [
    "# Function to ensure masks have valid labels\n",
    "def validate_and_correct_masks(masks, num_classes):\n",
    "    unique_values = np.unique(masks)\n",
    "    print(\"Unique values in masks before correction:\", unique_values)\n",
    "    \n",
    "    # Ensure all values are within the valid range\n",
    "    masks[masks >= num_classes] = 0\n",
    "\n",
    "    unique_values = np.unique(masks)\n",
    "    print(\"Unique values in masks after correction:\", unique_values)\n",
    "    return masks\n",
    "\n",
    "# Create dataset of image-mask pairs\n",
    "def get_image_mask_pairs(file_pairs):\n",
    "    images = []\n",
    "    masks = []\n",
    "\n",
    "    for image_path, shapefile_path in file_pairs.items():\n",
    "        image, mask = create_mask(image_path, shapefile_path)\n",
    "        images.append(image)\n",
    "        masks.append(mask)\n",
    "\n",
    "    images = np.stack(images)\n",
    "    masks = np.stack(masks)\n",
    "    \n",
    "    # Validate and correct masks\n",
    "    masks = validate_and_correct_masks(masks, num_classes=6)\n",
    "    \n",
    "    return images, masks\n",
    "\n",
    "# Function to pad images and masks to a fixed size\n",
    "def pad_to_shape(image, mask, target_shape=(256, 256)):\n",
    "    img_channels, img_height, img_width = image.shape\n",
    "    tgt_height, tgt_width = target_shape\n",
    "    \n",
    "    # Create padded arrays\n",
    "    padded_image = np.zeros((img_channels, tgt_height, tgt_width), dtype=image.dtype)\n",
    "    padded_mask = np.zeros((tgt_height, tgt_width), dtype=mask.dtype)\n",
    "    \n",
    "    # Determine padding offsets\n",
    "    height_offset = max((tgt_height - img_height) // 2, 0)\n",
    "    width_offset = max((tgt_width - img_width) // 2, 0)\n",
    "    \n",
    "    # Calculate the actual size to copy\n",
    "    copy_height = min(img_height, tgt_height)\n",
    "    copy_width = min(img_width, tgt_width)\n",
    "    \n",
    "    # Copy image and mask to padded arrays\n",
    "    padded_image[:, height_offset:height_offset+copy_height, width_offset:width_offset+copy_width] = image[:, :copy_height, :copy_width]\n",
    "    padded_mask[height_offset:height_offset+copy_height, width_offset:width_offset+copy_width] = mask[:copy_height, :copy_width]\n",
    "    \n",
    "    return padded_image, padded_mask\n",
    "\n",
    "# Function to extract patches from images and masks\n",
    "def extract_patches(image, mask, patch_size=(256, 256)):\n",
    "    img_patches = []\n",
    "    mask_patches = []\n",
    "    img_height, img_width = image.shape[1], image.shape[2]\n",
    "\n",
    "    for i in range(0, img_height, patch_size[0]):\n",
    "        for j in range(0, img_width, patch_size[1]):\n",
    "            img_patch = image[:, i:i + patch_size[0], j:j + patch_size[1]]\n",
    "            mask_patch = mask[i:i + patch_size[0], j:j + patch_size[1]]\n",
    "            \n",
    "            # Skip patches that are smaller than the desired size\n",
    "            if img_patch.shape[1] != patch_size[0] or img_patch.shape[2] != patch_size[1]:\n",
    "                continue\n",
    "            \n",
    "            img_patches.append(img_patch)\n",
    "            mask_patches.append(mask_patch)\n",
    "    \n",
    "    return np.array(img_patches), np.array(mask_patches)\n",
    "\n",
    "# Create dataset of image-mask patches\n",
    "def get_image_mask_patches(file_pairs, patch_size=(256, 256)):\n",
    "    all_img_patches = []\n",
    "    all_mask_patches = []\n",
    "\n",
    "    for image_path, shapefile_path in file_pairs.items():\n",
    "        image, mask = create_mask(image_path, shapefile_path)\n",
    "        image, mask = pad_to_shape(image, mask, patch_size)  # Pad images and masks to a fixed size\n",
    "        img_patches, mask_patches = extract_patches(image, mask, patch_size)\n",
    "        all_img_patches.append(img_patches)\n",
    "        all_mask_patches.append(mask_patches)\n",
    "\n",
    "    all_img_patches = np.vstack(all_img_patches)\n",
    "    all_mask_patches = np.vstack(all_mask_patches)\n",
    "    return all_img_patches, all_mask_patches\n",
    "\n",
    "patch_size = (256, 256)  # Define the patch size\n",
    "images, masks = get_image_mask_patches(file_pairs, patch_size)\n",
    "\n",
    "# Save images and masks patches as numpy arrays\n",
    "np.save('images_patches.npy', images)\n",
    "np.save('masks_patches.npy', masks)\n",
    "\n",
    "print(\"Image patches and mask patches saved as numpy arrays.\")"
   ],
   "metadata": {
    "collapsed": false,
    "ExecuteTime": {
     "end_time": "2024-07-02T00:09:23.373533600Z",
     "start_time": "2024-07-02T00:09:21.541289800Z"
    }
   },
   "id": "ddbb334dfc67933c",
   "execution_count": 8
  },
  {
   "cell_type": "code",
   "outputs": [
    {
     "name": "stdout",
     "output_type": "stream",
     "text": [
      "Unique values in masks before correction: [0 1 2 3 4 5 6]\n",
      "Unique values in masks after correction: [0 1 2 3 4 5]\n"
     ]
    }
   ],
   "source": [
    "# Assume images_patches.npy and masks_patches.npy are already created\n",
    "images = np.load('images_patches.npy')\n",
    "masks = np.load('masks_patches.npy')\n",
    "\n",
    "# Normalize images\n",
    "images = images / 255.0\n",
    "\n",
    "# Validate and correct masks\n",
    "masks = validate_and_correct_masks(masks, num_classes=6)\n",
    "\n",
    "# Convert masks to one-hot encoding\n",
    "num_classes = 6  # Number of classes\n",
    "masks_one_hot = tf.keras.utils.to_categorical(masks, num_classes=num_classes)\n",
    "\n",
    "# Split the data into training and validation sets\n",
    "X_train, X_val, y_train, y_val = train_test_split(images, masks_one_hot, test_size=0.2, random_state=42)\n"
   ],
   "metadata": {
    "collapsed": false,
    "ExecuteTime": {
     "end_time": "2024-07-02T00:09:41.303551500Z",
     "start_time": "2024-07-02T00:09:41.149740500Z"
    }
   },
   "id": "9b96a8c451d64187",
   "execution_count": 9
  },
  {
   "cell_type": "code",
   "outputs": [],
   "source": [
    "# U-Net Model Definition\n",
    "def unet_model(input_size=(256, 256, 8), num_classes=6):\n",
    "    inputs = Input(input_size)\n",
    "    \n",
    "    conv1 = Conv2D(64, 3, activation='relu', padding='same')(inputs)\n",
    "    conv1 = Conv2D(64, 3, activation='relu', padding='same')(conv1)\n",
    "    pool1 = MaxPooling2D(pool_size=(2, 2))(conv1)\n",
    "\n",
    "    conv2 = Conv2D(128, 3, activation='relu', padding='same')(pool1)\n",
    "    conv2 = Conv2D(128, 3, activation='relu', padding='same')(conv2)\n",
    "    pool2 = MaxPooling2D(pool_size=(2, 2))(conv2)\n",
    "\n",
    "    conv3 = Conv2D(256, 3, activation='relu', padding='same')(pool2)\n",
    "    conv3 = Conv2D(256, 3, activation='relu', padding='same')(conv3)\n",
    "    pool3 = MaxPooling2D(pool_size=(2, 2))(conv3)\n",
    "\n",
    "    conv4 = Conv2D(512, 3, activation='relu', padding='same')(pool3)\n",
    "    conv4 = Conv2D(512, 3, activation='relu', padding='same')(conv4)\n",
    "    pool4 = MaxPooling2D(pool_size=(2, 2))(conv4)\n",
    "\n",
    "    conv5 = Conv2D(1024, 3, activation='relu', padding='same')(pool4)\n",
    "    conv5 = Conv2D(1024, 3, activation='relu', padding='same')(conv5)\n",
    "\n",
    "    up6 = concatenate([UpSampling2D(size=(2, 2))(conv5), conv4], axis=-1)\n",
    "    conv6 = Conv2D(512, 3, activation='relu', padding='same')(up6)\n",
    "    conv6 = Conv2D(512, 3, activation='relu', padding='same')(conv6)\n",
    "\n",
    "    up7 = concatenate([UpSampling2D(size=(2, 2))(conv6), conv3], axis=-1)\n",
    "    conv7 = Conv2D(256, 3, activation='relu', padding='same')(up7)\n",
    "    conv7 = Conv2D(256, 3, activation='relu', padding='same')(conv7)\n",
    "\n",
    "    up8 = concatenate([UpSampling2D(size=(2, 2))(conv7), conv2], axis=-1)\n",
    "    conv8 = Conv2D(128, 3, activation='relu', padding='same')(up8)\n",
    "    conv8 = Conv2D(128, 3, activation='relu', padding='same')(conv8)\n",
    "\n",
    "    up9 = concatenate([UpSampling2D(size=(2, 2))(conv8), conv1], axis=-1)\n",
    "    conv9 = Conv2D(64, 3, activation='relu', padding='same')(up9)\n",
    "    conv9 = Conv2D(64, 3, activation='relu', padding='same')(conv9)\n",
    "\n",
    "    outputs = Conv2D(num_classes, 1, activation='softmax')(conv9)  # Number of output channels to match the number of classes\n",
    "\n",
    "    model = Model(inputs=[inputs], outputs=[outputs])\n",
    "\n",
    "    model.compile(optimizer='adam', loss='categorical_crossentropy', metrics=['accuracy'])\n",
    "    return model\n",
    "\n",
    "# Initialize the model\n",
    "model = unet_model()\n",
    "\n",
    "# Data Augmentation\n",
    "datagen = ImageDataGenerator(\n",
    "    rotation_range=10,\n",
    "    width_shift_range=0.1,\n",
    "    height_shift_range=0.1,\n",
    "    zoom_range=0.1,\n",
    "    horizontal_flip=True,\n",
    "    fill_mode='nearest'\n",
    ")\n",
    "\n",
    "# Early Stopping and Model Checkpoint\n",
    "early_stopping = EarlyStopping(monitor='val_loss', patience=10, verbose=1, restore_best_weights=True)\n",
    "checkpoint = ModelCheckpoint('best_unet_model.h5', monitor='val_loss', save_best_only=True, verbose=1)\n",
    "\n",
    "# Train the model\n",
    "history = model.fit(\n",
    "    datagen.flow(X_train, y_train, batch_size=4),\n",
    "    validation_data=(X_val, y_val),\n",
    "    steps_per_epoch=len(X_train) // 4,\n",
    "    epochs=10,\n",
    "    callbacks=[early_stopping, checkpoint]\n",
    ")\n",
    "\n",
    "# Save the final model\n",
    "model.save('final_unet_model.h5')\n",
    "\n",
    "print(\"Model training complete and saved.\")\n"
   ],
   "metadata": {
    "collapsed": false
   },
   "id": "1dcfd06ebbe9c324",
   "execution_count": null
  },
  {
   "cell_type": "markdown",
   "source": [],
   "metadata": {
    "collapsed": false
   },
   "id": "8df3751515588eae"
  },
  {
   "cell_type": "markdown",
   "source": [],
   "metadata": {
    "collapsed": false
   },
   "id": "7c2a7d30d6e76d5d"
  },
  {
   "cell_type": "markdown",
   "source": [],
   "metadata": {
    "collapsed": false
   },
   "id": "c5bfed3f84fb5838"
  },
  {
   "cell_type": "markdown",
   "source": [],
   "metadata": {
    "collapsed": false
   },
   "id": "1a43e99b58a0ec7c"
  },
  {
   "cell_type": "markdown",
   "source": [],
   "metadata": {
    "collapsed": false
   },
   "id": "4f2f3a230f7b89bd"
  },
  {
   "cell_type": "code",
   "outputs": [],
   "source": [
    "import os\n",
    "import glob\n",
    "import re\n",
    "import numpy as np\n",
    "import rasterio\n",
    "import geopandas as gpd\n",
    "from rasterio.features import geometry_mask\n",
    "from sklearn.preprocessing import LabelEncoder\n",
    "from sklearn.model_selection import StratifiedKFold\n",
    "import pandas as pd\n",
    "import matplotlib.pyplot as plt\n",
    "from sklearn.utils.class_weight import compute_class_weight\n",
    "import numpy as np\n",
    "import os\n",
    "import glob\n",
    "import re\n",
    "import rasterio\n",
    "import geopandas as gpd\n",
    "from rasterio.features import geometry_mask"
   ],
   "metadata": {
    "collapsed": false,
    "ExecuteTime": {
     "end_time": "2024-07-02T00:06:21.684647100Z",
     "start_time": "2024-07-02T00:06:20.844344600Z"
    }
   },
   "id": "cfd384640975b893",
   "execution_count": 1
  },
  {
   "cell_type": "code",
   "execution_count": 2,
   "id": "initial_id",
   "metadata": {
    "collapsed": true,
    "ExecuteTime": {
     "end_time": "2024-07-02T00:06:22.545500500Z",
     "start_time": "2024-07-02T00:06:22.484893900Z"
    }
   },
   "outputs": [
    {
     "name": "stdout",
     "output_type": "stream",
     "text": [
      "No matching shapefile found for C:\\Users\\Student\\Documents\\101_walrus_data\\train\\clipped_images\\pool_20230803_image.tif\n"
     ]
    }
   ],
   "source": [
    "# Define the directories containing images and shapefiles\n",
    "image_dir = \"C:\\\\Users\\\\Student\\\\Documents\\\\101_walrus_data\\\\train\\\\clipped_images\"\n",
    "shapefile_dir = \"C:\\\\Users\\\\Student\\\\Documents\\\\101_walrus_data\\\\train\\\\clipped_train\"\n",
    "\n",
    "# Use glob to list all .tif and .shp files in the specified directories\n",
    "image_paths = glob.glob(f\"{image_dir}/*.tif\")\n",
    "shapefile_paths = glob.glob(f\"{shapefile_dir}/*.shp\")\n",
    "\n",
    "# Function to extract island name and date from file names\n",
    "def extract_island_and_date(filename):\n",
    "    pattern = r'([a-zA-Z]+)_(\\d{8})'\n",
    "    match = re.search(pattern, filename)\n",
    "    if match:\n",
    "        return match.group(1), match.group(2)\n",
    "    return None, None\n",
    "\n",
    "# Pair image and shapefile paths based on filenames\n",
    "def pair_files(image_paths, shapefile_paths):\n",
    "    file_pairs = {}\n",
    "    for image_path in image_paths:\n",
    "        island, date = extract_island_and_date(os.path.basename(image_path))\n",
    "        if island is None or date is None:\n",
    "            print(f\"Failed to extract island and date from {image_path}\")\n",
    "            continue\n",
    "\n",
    "        matching_shapefiles = [shapefile for shapefile in shapefile_paths if island in shapefile and date in shapefile]\n",
    "        if not matching_shapefiles:\n",
    "            print(f\"No matching shapefile found for {image_path}\")\n",
    "            continue\n",
    "\n",
    "        shapefile_path = matching_shapefiles[0]\n",
    "        file_pairs[image_path] = shapefile_path\n",
    "    return file_pairs\n",
    "\n",
    "file_pairs = pair_files(image_paths, shapefile_paths)\n",
    "\n",
    "# Function to create mask from shapefiles\n",
    "def create_mask(image_path, shapefile_path):\n",
    "    with rasterio.open(image_path) as src:\n",
    "        image = src.read()  # Read all bands\n",
    "        transform = src.transform\n",
    "\n",
    "    gdf = gpd.read_file(shapefile_path)\n",
    "    mask = np.zeros((src.height, src.width), dtype=np.uint8)\n",
    "\n",
    "    # Apply label mapping\n",
    "    label_mapping = {\n",
    "        'ocean': 1,\n",
    "        'rock': 2,\n",
    "        'freshwater': 3,\n",
    "        'ice': 4,\n",
    "        'walrus_pure': 5,\n",
    "        'walrus_mixed': 6\n",
    "    }\n",
    "\n",
    "    for _, row in gdf.iterrows():\n",
    "        geom_mask = geometry_mask([row['geometry']], transform=transform, invert=True, out_shape=(src.height, src.width))\n",
    "        label = label_mapping.get(row['label'], 0)  # Use 0 for any label not in the mapping\n",
    "        mask[geom_mask] = label\n",
    "\n",
    "    return image, mask\n",
    "\n",
    "# Function to ensure masks have valid labels\n",
    "def validate_and_correct_masks(masks, num_classes):\n",
    "    unique_values = np.unique(masks)\n",
    "    print(\"Unique values in masks before correction:\", unique_values)\n",
    "    \n",
    "    # Ensure all values are within the valid range\n",
    "    masks[masks >= num_classes] = 0\n",
    "\n",
    "    unique_values = np.unique(masks)\n",
    "    print(\"Unique values in masks after correction:\", unique_values)\n",
    "    return masks\n",
    "\n",
    "# Create dataset of image-mask pairs\n",
    "def get_image_mask_pairs(file_pairs):\n",
    "    images = []\n",
    "    masks = []\n",
    "\n",
    "    for image_path, shapefile_path in file_pairs.items():\n",
    "        image, mask = create_mask(image_path, shapefile_path)\n",
    "        images.append(image)\n",
    "        masks.append(mask)\n",
    "\n",
    "    images = np.stack(images)\n",
    "    masks = np.stack(masks)\n",
    "    \n",
    "    # Validate and correct masks\n",
    "    masks = validate_and_correct_masks(masks, num_classes=6)\n",
    "    \n",
    "    return images, masks"
   ]
  },
  {
   "cell_type": "code",
   "outputs": [
    {
     "name": "stdout",
     "output_type": "stream",
     "text": [
      "Image patches and mask patches saved as numpy arrays.\n"
     ]
    }
   ],
   "source": [
    "# Function to pad images and masks to a fixed size\n",
    "def pad_to_shape(image, mask, target_shape=(256, 256)):\n",
    "    img_channels, img_height, img_width = image.shape\n",
    "    tgt_height, tgt_width = target_shape\n",
    "    \n",
    "    # Create padded arrays\n",
    "    padded_image = np.zeros((img_channels, tgt_height, tgt_width), dtype=image.dtype)\n",
    "    padded_mask = np.zeros((tgt_height, tgt_width), dtype=mask.dtype)\n",
    "    \n",
    "    # Determine padding offsets\n",
    "    height_offset = max((tgt_height - img_height) // 2, 0)\n",
    "    width_offset = max((tgt_width - img_width) // 2, 0)\n",
    "    \n",
    "    # Calculate the actual size to copy\n",
    "    copy_height = min(img_height, tgt_height)\n",
    "    copy_width = min(img_width, tgt_width)\n",
    "    \n",
    "    # Copy image and mask to padded arrays\n",
    "    padded_image[:, height_offset:height_offset+copy_height, width_offset:width_offset+copy_width] = image[:, :copy_height, :copy_width]\n",
    "    padded_mask[height_offset:height_offset+copy_height, width_offset:width_offset+copy_width] = mask[:copy_height, :copy_width]\n",
    "    \n",
    "    return padded_image, padded_mask\n",
    "\n",
    "# Function to extract patches from images and masks\n",
    "def extract_patches(image, mask, patch_size=(256, 256)):\n",
    "    img_patches = []\n",
    "    mask_patches = []\n",
    "    img_height, img_width = image.shape[1], image.shape[2]\n",
    "\n",
    "    for i in range(0, img_height, patch_size[0]):\n",
    "        for j in range(0, img_width, patch_size[1]):\n",
    "            img_patch = image[:, i:i + patch_size[0], j:j + patch_size[1]]\n",
    "            mask_patch = mask[i:i + patch_size[0], j:j + patch_size[1]]\n",
    "            \n",
    "            # Skip patches that are smaller than the desired size\n",
    "            if img_patch.shape[1] != patch_size[0] or img_patch.shape[2] != patch_size[1]:\n",
    "                continue\n",
    "            \n",
    "            img_patches.append(img_patch)\n",
    "            mask_patches.append(mask_patch)\n",
    "    \n",
    "    return np.array(img_patches), np.array(mask_patches)\n",
    "\n",
    "# Create dataset of image-mask patches\n",
    "def get_image_mask_patches(file_pairs, patch_size=(256, 256)):\n",
    "    all_img_patches = []\n",
    "    all_mask_patches = []\n",
    "\n",
    "    for image_path, shapefile_path in file_pairs.items():\n",
    "        image, mask = create_mask(image_path, shapefile_path)\n",
    "        image, mask = pad_to_shape(image, mask, patch_size)  # Pad images and masks to a fixed size\n",
    "        img_patches, mask_patches = extract_patches(image, mask, patch_size)\n",
    "        all_img_patches.append(img_patches)\n",
    "        all_mask_patches.append(mask_patches)\n",
    "\n",
    "    all_img_patches = np.vstack(all_img_patches)\n",
    "    all_mask_patches = np.vstack(all_mask_patches)\n",
    "    return all_img_patches, all_mask_patches\n",
    "\n",
    "patch_size = (256, 256)  # Define the patch size\n",
    "images, masks = get_image_mask_patches(file_pairs, patch_size)\n",
    "\n",
    "# Save images and masks patches as numpy arrays\n",
    "np.save('images_patches.npy', images)\n",
    "np.save('masks_patches.npy', masks)\n",
    "\n",
    "print(\"Image patches and mask patches saved as numpy arrays.\")\n"
   ],
   "metadata": {
    "collapsed": false,
    "ExecuteTime": {
     "end_time": "2024-07-02T00:06:26.829516700Z",
     "start_time": "2024-07-02T00:06:24.685938400Z"
    }
   },
   "id": "97ac98460213170e",
   "execution_count": 3
  },
  {
   "cell_type": "markdown",
   "source": [],
   "metadata": {
    "collapsed": false
   },
   "id": "3517e1fb785c72de"
  },
  {
   "cell_type": "code",
   "outputs": [],
   "source": [
    "import numpy as np\n",
    "import tensorflow as tf\n",
    "from tensorflow.keras.layers import Input, Conv2D, MaxPooling2D, UpSampling2D, concatenate\n",
    "from tensorflow.keras.models import Model\n",
    "from tensorflow.keras.callbacks import EarlyStopping, ModelCheckpoint\n",
    "from tensorflow.keras.preprocessing.image import ImageDataGenerator"
   ],
   "metadata": {
    "collapsed": false,
    "ExecuteTime": {
     "end_time": "2024-07-02T00:06:35.801584400Z",
     "start_time": "2024-07-02T00:06:30.329399200Z"
    }
   },
   "id": "17048cbcf51f314a",
   "execution_count": 4
  },
  {
   "cell_type": "code",
   "outputs": [
    {
     "ename": "IndexError",
     "evalue": "index 6 is out of bounds for axis 1 with size 6",
     "output_type": "error",
     "traceback": [
      "\u001B[1;31m---------------------------------------------------------------------------\u001B[0m",
      "\u001B[1;31mIndexError\u001B[0m                                Traceback (most recent call last)",
      "Cell \u001B[1;32mIn[5], line 10\u001B[0m\n\u001B[0;32m      8\u001B[0m \u001B[38;5;66;03m# Convert masks to one-hot encoding\u001B[39;00m\n\u001B[0;32m      9\u001B[0m num_classes \u001B[38;5;241m=\u001B[39m \u001B[38;5;241m6\u001B[39m  \u001B[38;5;66;03m# Number of classes\u001B[39;00m\n\u001B[1;32m---> 10\u001B[0m masks_one_hot \u001B[38;5;241m=\u001B[39m \u001B[43mtf\u001B[49m\u001B[38;5;241;43m.\u001B[39;49m\u001B[43mkeras\u001B[49m\u001B[38;5;241;43m.\u001B[39;49m\u001B[43mutils\u001B[49m\u001B[38;5;241;43m.\u001B[39;49m\u001B[43mto_categorical\u001B[49m\u001B[43m(\u001B[49m\u001B[43mmasks\u001B[49m\u001B[43m,\u001B[49m\u001B[43m \u001B[49m\u001B[43mnum_classes\u001B[49m\u001B[38;5;241;43m=\u001B[39;49m\u001B[43mnum_classes\u001B[49m\u001B[43m)\u001B[49m\n\u001B[0;32m     12\u001B[0m \u001B[38;5;66;03m# Split the data into training and validation sets\u001B[39;00m\n\u001B[0;32m     13\u001B[0m \u001B[38;5;28;01mfrom\u001B[39;00m \u001B[38;5;21;01msklearn\u001B[39;00m\u001B[38;5;21;01m.\u001B[39;00m\u001B[38;5;21;01mmodel_selection\u001B[39;00m \u001B[38;5;28;01mimport\u001B[39;00m train_test_split\n",
      "File \u001B[1;32m~\\Documents\\walrus_code\\.venv\\lib\\site-packages\\keras\\src\\utils\\numerical_utils.py:89\u001B[0m, in \u001B[0;36mto_categorical\u001B[1;34m(x, num_classes)\u001B[0m\n\u001B[0;32m     87\u001B[0m batch_size \u001B[38;5;241m=\u001B[39m x\u001B[38;5;241m.\u001B[39mshape[\u001B[38;5;241m0\u001B[39m]\n\u001B[0;32m     88\u001B[0m categorical \u001B[38;5;241m=\u001B[39m np\u001B[38;5;241m.\u001B[39mzeros((batch_size, num_classes))\n\u001B[1;32m---> 89\u001B[0m \u001B[43mcategorical\u001B[49m\u001B[43m[\u001B[49m\u001B[43mnp\u001B[49m\u001B[38;5;241;43m.\u001B[39;49m\u001B[43marange\u001B[49m\u001B[43m(\u001B[49m\u001B[43mbatch_size\u001B[49m\u001B[43m)\u001B[49m\u001B[43m,\u001B[49m\u001B[43m \u001B[49m\u001B[43mx\u001B[49m\u001B[43m]\u001B[49m \u001B[38;5;241m=\u001B[39m \u001B[38;5;241m1\u001B[39m\n\u001B[0;32m     90\u001B[0m output_shape \u001B[38;5;241m=\u001B[39m input_shape \u001B[38;5;241m+\u001B[39m (num_classes,)\n\u001B[0;32m     91\u001B[0m categorical \u001B[38;5;241m=\u001B[39m np\u001B[38;5;241m.\u001B[39mreshape(categorical, output_shape)\n",
      "\u001B[1;31mIndexError\u001B[0m: index 6 is out of bounds for axis 1 with size 6"
     ]
    }
   ],
   "source": [
    "# Assume images_patches.npy and masks_patches.npy are already created\n",
    "images = np.load('images_patches.npy')\n",
    "masks = np.load('masks_patches.npy')\n",
    "\n",
    "# Normalize images\n",
    "images = images / 255.0\n",
    "\n",
    "# Convert masks to one-hot encoding\n",
    "num_classes = 6  # Number of classes\n",
    "masks_one_hot = tf.keras.utils.to_categorical(masks, num_classes=num_classes)\n",
    "\n",
    "# Split the data into training and validation sets\n",
    "from sklearn.model_selection import train_test_split\n",
    "X_train, X_val, y_train, y_val = train_test_split(images, masks_one_hot, test_size=0.2, random_state=42)"
   ],
   "metadata": {
    "collapsed": false,
    "ExecuteTime": {
     "end_time": "2024-07-02T00:06:41.419748800Z",
     "start_time": "2024-07-02T00:06:39.550287200Z"
    }
   },
   "id": "5a40a1ec5e5d24c0",
   "execution_count": 5
  },
  {
   "cell_type": "code",
   "outputs": [],
   "source": [
    "# U-Net Model Definition\n",
    "def unet_model(input_size=(256, 256, 8), num_classes=6):\n",
    "    inputs = Input(input_size)\n",
    "    \n",
    "    conv1 = Conv2D(64, 3, activation='relu', padding='same')(inputs)\n",
    "    conv1 = Conv2D(64, 3, activation='relu', padding='same')(conv1)\n",
    "    pool1 = MaxPooling2D(pool_size=(2, 2))(conv1)\n",
    "\n",
    "    conv2 = Conv2D(128, 3, activation='relu', padding='same')(pool1)\n",
    "    conv2 = Conv2D(128, 3, activation='relu', padding='same')(conv2)\n",
    "    pool2 = MaxPooling2D(pool_size=(2, 2))(conv2)\n",
    "\n",
    "    conv3 = Conv2D(256, 3, activation='relu', padding='same')(pool2)\n",
    "    conv3 = Conv2D(256, 3, activation='relu', padding='same')(conv3)\n",
    "    pool3 = MaxPooling2D(pool_size=(2, 2))(conv3)\n",
    "\n",
    "    conv4 = Conv2D(512, 3, activation='relu', padding='same')(pool3)\n",
    "    conv4 = Conv2D(512, 3, activation='relu', padding='same')(conv4)\n",
    "    pool4 = MaxPooling2D(pool_size=(2, 2))(conv4)\n",
    "\n",
    "    conv5 = Conv2D(1024, 3, activation='relu', padding='same')(pool4)\n",
    "    conv5 = Conv2D(1024, 3, activation='relu', padding='same')(conv5)\n",
    "\n",
    "    up6 = concatenate([UpSampling2D(size=(2, 2))(conv5), conv4], axis=-1)\n",
    "    conv6 = Conv2D(512, 3, activation='relu', padding='same')(up6)\n",
    "    conv6 = Conv2D(512, 3, activation='relu', padding='same')(conv6)\n",
    "\n",
    "    up7 = concatenate([UpSampling2D(size=(2, 2))(conv6), conv3], axis=-1)\n",
    "    conv7 = Conv2D(256, 3, activation='relu', padding='same')(up7)\n",
    "    conv7 = Conv2D(256, 3, activation='relu', padding='same')(conv7)\n",
    "\n",
    "    up8 = concatenate([UpSampling2D(size=(2, 2))(conv7), conv2], axis=-1)\n",
    "    conv8 = Conv2D(128, 3, activation='relu', padding='same')(up8)\n",
    "    conv8 = Conv2D(128, 3, activation='relu', padding='same')(conv8)\n",
    "\n",
    "    up9 = concatenate([UpSampling2D(size=(2, 2))(conv8), conv1], axis=-1)\n",
    "    conv9 = Conv2D(64, 3, activation='relu', padding='same')(up9)\n",
    "    conv9 = Conv2D(64, 3, activation='relu', padding='same')(conv9)\n",
    "\n",
    "    outputs = Conv2D(num_classes, 1, activation='softmax')(conv9)  # Number of output channels to match the number of classes\n",
    "\n",
    "    model = Model(inputs=[inputs], outputs=[outputs])\n",
    "\n",
    "    model.compile(optimizer='adam', loss='categorical_crossentropy', metrics=['accuracy'])\n",
    "    return model\n",
    "\n",
    "# Initialize the model\n",
    "model = unet_model()\n",
    "\n",
    "# Data Augmentation\n",
    "datagen = ImageDataGenerator(\n",
    "    rotation_range=10,\n",
    "    width_shift_range=0.1,\n",
    "    height_shift_range=0.1,\n",
    "    zoom_range=0.1,\n",
    "    horizontal_flip=True,\n",
    "    fill_mode='nearest'\n",
    ")\n",
    "\n",
    "# Early Stopping and Model Checkpoint\n",
    "early_stopping = EarlyStopping(monitor='val_loss', patience=10, verbose=1, restore_best_weights=True)\n",
    "checkpoint = ModelCheckpoint('best_unet_model.h5', monitor='val_loss', save_best_only=True, verbose=1)\n",
    "\n",
    "# Train the model\n",
    "history = model.fit(\n",
    "    datagen.flow(X_train, y_train, batch_size=4),\n",
    "    validation_data=(X_val, y_val),\n",
    "    steps_per_epoch=len(X_train) // 4,\n",
    "    epochs=50,\n",
    "    callbacks=[early_stopping, checkpoint]\n",
    ")\n",
    "\n",
    "# Save the final model\n",
    "model.save('final_unet_model.h5')\n",
    "\n",
    "print(\"Model training complete and saved.\")"
   ],
   "metadata": {
    "collapsed": false
   },
   "id": "482a7252a0a67f5d",
   "execution_count": null
  },
  {
   "cell_type": "code",
   "outputs": [],
   "source": [],
   "metadata": {
    "collapsed": false
   },
   "id": "3356792001ba464f",
   "execution_count": null
  },
  {
   "cell_type": "markdown",
   "source": [],
   "metadata": {
    "collapsed": false
   },
   "id": "5a81b2f800c6ca9f"
  },
  {
   "cell_type": "markdown",
   "source": [],
   "metadata": {
    "collapsed": false
   },
   "id": "8bdae66feaad80af"
  },
  {
   "cell_type": "markdown",
   "source": [],
   "metadata": {
    "collapsed": false
   },
   "id": "98178c586f3e62dd"
  },
  {
   "cell_type": "markdown",
   "source": [],
   "metadata": {
    "collapsed": false
   },
   "id": "1ab23621bba6f8f1"
  },
  {
   "cell_type": "markdown",
   "source": [],
   "metadata": {
    "collapsed": false
   },
   "id": "a301726c457155a"
  },
  {
   "cell_type": "markdown",
   "source": [],
   "metadata": {
    "collapsed": false
   },
   "id": "11e542ccbe2ad9dc"
  },
  {
   "cell_type": "markdown",
   "source": [],
   "metadata": {
    "collapsed": false
   },
   "id": "784a6e79380356c8"
  },
  {
   "cell_type": "code",
   "outputs": [
    {
     "name": "stdout",
     "output_type": "stream",
     "text": [
      "Unique values in masks: [0 1 2 3 4 5 6]\n"
     ]
    }
   ],
   "source": [
    "import numpy as np\n",
    "\n",
    "# Load the masks array\n",
    "masks = np.load('masks_patches.npy')\n",
    "\n",
    "# Check unique values in masks\n",
    "unique_values = np.unique(masks)\n",
    "print(\"Unique values in masks:\", unique_values)\n"
   ],
   "metadata": {
    "collapsed": false,
    "ExecuteTime": {
     "end_time": "2024-07-02T00:01:14.735356500Z",
     "start_time": "2024-07-02T00:01:14.695662500Z"
    }
   },
   "id": "461bbfdb82b3f3dc",
   "execution_count": 15
  },
  {
   "cell_type": "code",
   "outputs": [
    {
     "name": "stdout",
     "output_type": "stream",
     "text": [
      "Unique values in masks before correction: [0 1 2 3 4 5 6]\n",
      "Unique values in masks after correction: [0 1 2 3 4 5]\n"
     ]
    }
   ],
   "source": [
    "import numpy as np\n",
    "import tensorflow as tf\n",
    "from sklearn.model_selection import train_test_split\n",
    "\n",
    "# Load the data\n",
    "images = np.load('images_patches.npy')\n",
    "masks = np.load('masks_patches.npy')\n",
    "\n",
    "# Check and print unique values in masks\n",
    "unique_values = np.unique(masks)\n",
    "print(\"Unique values in masks before correction:\", unique_values)\n",
    "\n",
    "# Ensure mask values are within the range [0, 5]\n",
    "masks = np.clip(masks, 0, 5)\n",
    "\n",
    "# Check and print unique values in masks again\n",
    "unique_values = np.unique(masks)\n",
    "print(\"Unique values in masks after correction:\", unique_values)\n",
    "\n",
    "# Normalize images\n",
    "images = images / 255.0\n",
    "\n",
    "# Convert masks to one-hot encoding\n",
    "num_classes = 6  # Number of classes\n",
    "masks_one_hot = tf.keras.utils.to_categorical(masks, num_classes=num_classes)\n",
    "\n",
    "# Split the data into training and validation sets\n",
    "X_train, X_val, y_train, y_val = train_test_split(images, masks_one_hot, test_size=0.2, random_state=42)\n"
   ],
   "metadata": {
    "collapsed": false,
    "ExecuteTime": {
     "end_time": "2024-07-02T00:01:41.902953200Z",
     "start_time": "2024-07-02T00:01:41.754236800Z"
    }
   },
   "id": "68c83a79a84b002c",
   "execution_count": 16
  },
  {
   "cell_type": "code",
   "outputs": [],
   "source": [],
   "metadata": {
    "collapsed": false
   },
   "id": "7fccc74e5c881868",
   "execution_count": null
  }
 ],
 "metadata": {
  "kernelspec": {
   "display_name": "Python 3",
   "language": "python",
   "name": "python3"
  },
  "language_info": {
   "codemirror_mode": {
    "name": "ipython",
    "version": 2
   },
   "file_extension": ".py",
   "mimetype": "text/x-python",
   "name": "python",
   "nbconvert_exporter": "python",
   "pygments_lexer": "ipython2",
   "version": "2.7.6"
  }
 },
 "nbformat": 4,
 "nbformat_minor": 5
}
