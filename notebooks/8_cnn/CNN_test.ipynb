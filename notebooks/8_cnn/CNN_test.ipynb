{
 "cells": [
  {
   "cell_type": "code",
   "execution_count": 22,
   "id": "initial_id",
   "metadata": {
    "collapsed": true,
    "ExecuteTime": {
     "end_time": "2024-05-29T11:24:04.722151700Z",
     "start_time": "2024-05-29T11:24:04.697573Z"
    }
   },
   "outputs": [],
   "source": [
    "import geopandas as gpd\n",
    "import rasterio\n",
    "import cv2\n",
    "import numpy as np\n",
    "import os\n",
    "import tensorflow"
   ]
  },
  {
   "cell_type": "code",
   "outputs": [],
   "source": [
    "# Load shapefile\n",
    "shapefile_path = 'C:\\\\Users\\\\Student\\\\Documents\\\\101_walrus_mres\\\\GIS\\\\torellneset_train_08.shp'\n",
    "gdf = gpd.read_file(shapefile_path)\n",
    "\n",
    "# Load satellite image\n",
    "image_path = \"C:\\\\Users\\\\Student\\\\Documents\\\\101_walrus_mres\\\\planet_skysat_pairs\\\\planet_skysat_pairs\\\\torellneset_psscene_analytic_8b_sr_udm2\\\\PSScene\\\\20230824_113933_07_2438_3B_AnalyticMS_SR_8b_harmonized_clip.tif\"\n",
    "\n",
    "with rasterio.open(image_path) as src:\n",
    "    image = src.read()\n",
    "    image = np.moveaxis(image, 0, -1)  # Move channels to the last dimension for OpenCV"
   ],
   "metadata": {
    "collapsed": false,
    "ExecuteTime": {
     "end_time": "2024-05-29T11:22:06.230941600Z",
     "start_time": "2024-05-29T11:22:05.350572700Z"
    }
   },
   "id": "48ac5316c6215462",
   "execution_count": 17
  },
  {
   "cell_type": "code",
   "outputs": [],
   "source": [
    "# Generate masks from shapefile\n",
    "def create_mask(image_shape, gdf, transform):\n",
    "    mask = np.zeros((image_shape[0], image_shape[1]), dtype=np.uint8)\n",
    "    for _, row in gdf.iterrows():\n",
    "        geometry = row['geometry']\n",
    "        coords = [(x, y) for x, y in geometry.exterior.coords]\n",
    "        coords = [~transform * (x, y) for x, y in coords]\n",
    "        coords = np.array(coords, dtype=np.int32)\n",
    "        cv2.fillPoly(mask, [coords], 1)\n",
    "    return mask\n",
    "\n",
    "with rasterio.open(image_path) as src:\n",
    "    transform = src.transform\n",
    "    mask = create_mask((src.height, src.width), gdf, transform)\n"
   ],
   "metadata": {
    "collapsed": false,
    "ExecuteTime": {
     "end_time": "2024-05-29T10:44:05.807381700Z",
     "start_time": "2024-05-29T10:44:05.782342500Z"
    }
   },
   "id": "181b56459ba36254",
   "execution_count": 6
  },
  {
   "cell_type": "code",
   "outputs": [],
   "source": [
    "# Augment data for better model performance \n",
    "from tensorflow.keras.preprocessing.image import ImageDataGenerator\n",
    "\n",
    "datagen = ImageDataGenerator(\n",
    "    rotation_range=20,\n",
    "    width_shift_range=0.2,\n",
    "    height_shift_range=0.2,\n",
    "    shear_range=0.2,\n",
    "    zoom_range=0.2,\n",
    "    horizontal_flip=True,\n",
    "    fill_mode='nearest'\n",
    ")\n"
   ],
   "metadata": {
    "collapsed": false,
    "ExecuteTime": {
     "end_time": "2024-05-29T10:47:30.404197300Z",
     "start_time": "2024-05-29T10:47:30.345813900Z"
    }
   },
   "id": "53ac4b9d8732b184",
   "execution_count": 11
  },
  {
   "cell_type": "code",
   "outputs": [
    {
     "name": "stdout",
     "output_type": "stream",
     "text": [
      "Image shape: 8x1327x1640\n"
     ]
    }
   ],
   "source": [
    "import tifffile as tiff\n",
    "import numpy as np\n",
    "import os\n",
    "\n",
    "def load_tiff_image(image_path):\n",
    "    if not os.path.exists(image_path):\n",
    "        raise FileNotFoundError(f\"Error: The file at {image_path} does not exist.\")\n",
    "    \n",
    "    img = tiff.imread(image_path)\n",
    "    shape = img.shape\n",
    "    \n",
    "    # Handling multi-dimensional TIFF files\n",
    "    if len(shape) == 2:  # Grayscale image\n",
    "        height, width = shape\n",
    "        channels = 1\n",
    "    elif len(shape) == 3:  # Color image with channels\n",
    "        height, width, channels = shape\n",
    "    else:\n",
    "        raise ValueError(f\"Unexpected image shape: {shape}\")\n",
    "\n",
    "    return height, width, channels\n",
    "\n",
    "# Example \n",
    "image_path = \"C:\\\\Users\\\\Student\\\\Documents\\\\101_walrus_mres\\\\planet_skysat_pairs\\\\planet_skysat_pairs\\\\torellneset_psscene_analytic_8b_sr_udm2\\\\PSScene\\\\20230824_113933_07_2438_3B_AnalyticMS_SR_8b_harmonized_clip.tif\"\n",
    "try:\n",
    "    height, width, channels = load_tiff_image(image_path)\n",
    "    print(f\"Image shape: {height}x{width}x{channels}\")\n",
    "except FileNotFoundError:\n",
    "    print(f\"Error: The file at {image_path} does not exist.\")\n",
    "except ValueError as e:\n",
    "    print(f\"Error: {e}\")\n",
    "except Exception as e:\n",
    "    print(f\"Error: {e}\")\n"
   ],
   "metadata": {
    "collapsed": false,
    "ExecuteTime": {
     "end_time": "2024-05-29T11:27:00.330488200Z",
     "start_time": "2024-05-29T11:26:59.987112300Z"
    }
   },
   "id": "853bebcd82b206ee",
   "execution_count": 26
  },
  {
   "cell_type": "code",
   "outputs": [
    {
     "name": "stderr",
     "output_type": "stream",
     "text": [
      "C:\\Users\\Student\\Documents\\walrus_code\\.venv\\lib\\site-packages\\keras\\src\\layers\\convolutional\\base_conv.py:107: UserWarning: Do not pass an `input_shape`/`input_dim` argument to a layer. When using Sequential models, prefer using an `Input(shape)` object as the first layer in the model instead.\n",
      "  super().__init__(activity_regularizer=activity_regularizer, **kwargs)\n"
     ]
    }
   ],
   "source": [
    "# Define the model \n",
    "import tensorflow as tf\n",
    "from tensorflow.keras import layers, models\n",
    "\n",
    "def create_model(input_shape):\n",
    "    model = models.Sequential()\n",
    "    model.add(layers.Conv2D(32, (3, 3), activation='relu', input_shape=input_shape))\n",
    "    model.add(layers.MaxPooling2D((2, 2)))\n",
    "    model.add(layers.Conv2D(64, (3, 3), activation='relu'))\n",
    "    model.add(layers.MaxPooling2D((2, 2)))\n",
    "    model.add(layers.Conv2D(64, (3, 3), activation='relu'))\n",
    "    model.add(layers.Flatten())\n",
    "    model.add(layers.Dense(64, activation='relu'))\n",
    "    model.add(layers.Dense(1, activation='sigmoid'))\n",
    "    return model\n",
    "\n",
    "input_shape = (1640, 1327, 8)  # Adjust for image shape\n",
    "model = create_model(input_shape)\n",
    "model.compile(optimizer='adam',\n",
    "              loss='binary_crossentropy',\n",
    "              metrics=['accuracy'])\n"
   ],
   "metadata": {
    "collapsed": false,
    "is_executing": true,
    "ExecuteTime": {
     "start_time": "2024-05-29T11:29:05.808117600Z"
    }
   },
   "id": "c56b7174b531a9c9",
   "execution_count": null
  },
  {
   "cell_type": "code",
   "outputs": [],
   "source": [
    "# Training data \n",
    "from sklearn.model_selection import train_test_split\n",
    "\n",
    "# if images and masks are lists\n",
    "images = [image]  # List of images\n",
    "masks = [mask]    # List of corresponding masks\n",
    "\n",
    "train_images, val_images, train_masks, val_masks = train_test_split(images, masks, test_size=0.2, random_state=42)\n",
    "\n",
    "# Create TensorFlow datasets\n",
    "train_dataset = tf.data.Dataset.from_tensor_slices((train_images, train_masks))\n",
    "val_dataset = tf.data.Dataset.from_tensor_slices((val_images, val_masks))\n",
    "\n",
    "# Batch and shuffle datasets\n",
    "BATCH_SIZE = 16\n",
    "train_dataset = train_dataset.batch(BATCH_SIZE).shuffle(buffer_size=1000)\n",
    "val_dataset = val_dataset.batch(BATCH_SIZE)\n"
   ],
   "metadata": {
    "collapsed": false,
    "ExecuteTime": {
     "end_time": "2024-05-29T10:41:12.882850600Z",
     "start_time": "2024-05-29T10:41:12.854191700Z"
    }
   },
   "id": "90416fbddf3db804",
   "execution_count": 3
  },
  {
   "cell_type": "code",
   "outputs": [],
   "source": [
    "#Train the model \n",
    "history = model.fit(train_dataset, epochs=20, validation_data=val_dataset)\n"
   ],
   "metadata": {
    "collapsed": false
   },
   "id": "e82ff6e2072b77a1"
  },
  {
   "cell_type": "code",
   "outputs": [],
   "source": [
    "# Evailuate the mdoel \n",
    "test_loss, test_acc = model.evaluate(val_dataset)\n",
    "print(f'Test accuracy: {test_acc}')\n",
    "\n",
    "# Save the model\n",
    "model.save('walrus_detection_model.h5')\n"
   ],
   "metadata": {
    "collapsed": false
   },
   "id": "deef3f222289e501"
  },
  {
   "cell_type": "code",
   "outputs": [],
   "source": [
    "# Inference on new images \n",
    "# Load the model\n",
    "model = tf.keras.models.load_model('walrus_detection_model.h5')\n",
    "\n",
    "# Predict on a new image\n",
    "new_image_path = ''\n",
    "with rasterio.open(new_image_path) as src:\n",
    "    new_image = src.read()\n",
    "    new_image = np.moveaxis(new_image, 0, -1)  # Move channels to the last dimension\n",
    "\n",
    "# Preprocess the image as needed (resize, normalize, google best one)\n",
    "new_image = cv2.resize(new_image, (128, 128))\n",
    "new_image = np.expand_dims(new_image, axis=0)  # Add batch dimension\n",
    "\n",
    "# Perform prediction\n",
    "prediction = model.predict(new_image)\n"
   ],
   "metadata": {
    "collapsed": false
   },
   "id": "15364cf5bf64ac47"
  }
 ],
 "metadata": {
  "kernelspec": {
   "display_name": "Python 3",
   "language": "python",
   "name": "python3"
  },
  "language_info": {
   "codemirror_mode": {
    "name": "ipython",
    "version": 2
   },
   "file_extension": ".py",
   "mimetype": "text/x-python",
   "name": "python",
   "nbconvert_exporter": "python",
   "pygments_lexer": "ipython2",
   "version": "2.7.6"
  }
 },
 "nbformat": 4,
 "nbformat_minor": 5
}
