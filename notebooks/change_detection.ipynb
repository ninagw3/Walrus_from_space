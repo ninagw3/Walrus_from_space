{
 "cells": [
  {
   "cell_type": "code",
   "execution_count": 1,
   "id": "initial_id",
   "metadata": {
    "collapsed": true,
    "ExecuteTime": {
     "end_time": "2024-05-02T09:14:16.214234800Z",
     "start_time": "2024-05-02T09:14:12.765112500Z"
    }
   },
   "outputs": [
    {
     "ename": "ModuleNotFoundError",
     "evalue": "No module named 'osgeo'",
     "output_type": "error",
     "traceback": [
      "\u001B[1;31m---------------------------------------------------------------------------\u001B[0m",
      "\u001B[1;31mModuleNotFoundError\u001B[0m                       Traceback (most recent call last)",
      "Cell \u001B[1;32mIn[1], line 5\u001B[0m\n\u001B[0;32m      3\u001B[0m \u001B[38;5;28;01mfrom\u001B[39;00m \u001B[38;5;21;01mmatplotlib\u001B[39;00m \u001B[38;5;28;01mimport\u001B[39;00m cm\n\u001B[0;32m      4\u001B[0m \u001B[38;5;28;01mimport\u001B[39;00m \u001B[38;5;21;01mnumpy\u001B[39;00m \u001B[38;5;28;01mas\u001B[39;00m \u001B[38;5;21;01mnp\u001B[39;00m\n\u001B[1;32m----> 5\u001B[0m \u001B[38;5;28;01mfrom\u001B[39;00m \u001B[38;5;21;01mosgeo\u001B[39;00m\u001B[38;5;21;01m.\u001B[39;00m\u001B[38;5;21;01mgdal\u001B[39;00m \u001B[38;5;28;01mimport\u001B[39;00m Open\n",
      "\u001B[1;31mModuleNotFoundError\u001B[0m: No module named 'osgeo'"
     ]
    }
   ],
   "source": [
    "from skimage import io\n",
    "import matplotlib.pyplot as plt\n",
    "from matplotlib import cm\n",
    "import numpy as np\n",
    "from osgeo.gdal import Open"
   ]
  },
  {
   "cell_type": "code",
   "outputs": [
    {
     "name": "stdout",
     "output_type": "stream",
     "text": [
      "Collecting gdal\n",
      "  Using cached GDAL-3.8.5.tar.gz (802 kB)\n",
      "  Preparing metadata (setup.py): started\n",
      "  Preparing metadata (setup.py): finished with status 'done'\n",
      "Building wheels for collected packages: gdal\n",
      "  Building wheel for gdal (setup.py): started\n",
      "  Building wheel for gdal (setup.py): finished with status 'error'\n",
      "  Running setup.py clean for gdal\n",
      "Failed to build gdal\n"
     ]
    },
    {
     "name": "stderr",
     "output_type": "stream",
     "text": [
      "  error: subprocess-exited-with-error\n",
      "  \n",
      "  python setup.py bdist_wheel did not run successfully.\n",
      "  exit code: 1\n",
      "  \n",
      "  [117 lines of output]\n",
      "  running bdist_wheel\n",
      "  running build\n",
      "  running build_py\n",
      "  creating build\n",
      "  creating build\\lib.win-amd64-cpython-39\n",
      "  creating build\\lib.win-amd64-cpython-39\\osgeo\n",
      "  copying osgeo\\gdal.py -> build\\lib.win-amd64-cpython-39\\osgeo\n",
      "  copying osgeo\\gdalconst.py -> build\\lib.win-amd64-cpython-39\\osgeo\n",
      "  copying osgeo\\gdalnumeric.py -> build\\lib.win-amd64-cpython-39\\osgeo\n",
      "  copying osgeo\\gdal_array.py -> build\\lib.win-amd64-cpython-39\\osgeo\n",
      "  copying osgeo\\gnm.py -> build\\lib.win-amd64-cpython-39\\osgeo\n",
      "  copying osgeo\\ogr.py -> build\\lib.win-amd64-cpython-39\\osgeo\n",
      "  copying osgeo\\osr.py -> build\\lib.win-amd64-cpython-39\\osgeo\n",
      "  copying osgeo\\__init__.py -> build\\lib.win-amd64-cpython-39\\osgeo\n",
      "  creating build\\lib.win-amd64-cpython-39\\osgeo_utils\n",
      "  copying gdal-utils\\osgeo_utils\\gdal2tiles.py -> build\\lib.win-amd64-cpython-39\\osgeo_utils\n",
      "  copying gdal-utils\\osgeo_utils\\gdal2xyz.py -> build\\lib.win-amd64-cpython-39\\osgeo_utils\n",
      "  copying gdal-utils\\osgeo_utils\\gdalattachpct.py -> build\\lib.win-amd64-cpython-39\\osgeo_utils\n",
      "  copying gdal-utils\\osgeo_utils\\gdalcompare.py -> build\\lib.win-amd64-cpython-39\\osgeo_utils\n",
      "  copying gdal-utils\\osgeo_utils\\gdalmove.py -> build\\lib.win-amd64-cpython-39\\osgeo_utils\n",
      "  copying gdal-utils\\osgeo_utils\\gdal_calc.py -> build\\lib.win-amd64-cpython-39\\osgeo_utils\n",
      "  copying gdal-utils\\osgeo_utils\\gdal_edit.py -> build\\lib.win-amd64-cpython-39\\osgeo_utils\n",
      "  copying gdal-utils\\osgeo_utils\\gdal_fillnodata.py -> build\\lib.win-amd64-cpython-39\\osgeo_utils\n",
      "  copying gdal-utils\\osgeo_utils\\gdal_merge.py -> build\\lib.win-amd64-cpython-39\\osgeo_utils\n",
      "  copying gdal-utils\\osgeo_utils\\gdal_pansharpen.py -> build\\lib.win-amd64-cpython-39\\osgeo_utils\n",
      "  copying gdal-utils\\osgeo_utils\\gdal_polygonize.py -> build\\lib.win-amd64-cpython-39\\osgeo_utils\n",
      "  copying gdal-utils\\osgeo_utils\\gdal_proximity.py -> build\\lib.win-amd64-cpython-39\\osgeo_utils\n",
      "  copying gdal-utils\\osgeo_utils\\gdal_retile.py -> build\\lib.win-amd64-cpython-39\\osgeo_utils\n",
      "  copying gdal-utils\\osgeo_utils\\gdal_sieve.py -> build\\lib.win-amd64-cpython-39\\osgeo_utils\n",
      "  copying gdal-utils\\osgeo_utils\\ogrmerge.py -> build\\lib.win-amd64-cpython-39\\osgeo_utils\n",
      "  copying gdal-utils\\osgeo_utils\\ogr_layer_algebra.py -> build\\lib.win-amd64-cpython-39\\osgeo_utils\n",
      "  copying gdal-utils\\osgeo_utils\\pct2rgb.py -> build\\lib.win-amd64-cpython-39\\osgeo_utils\n",
      "  copying gdal-utils\\osgeo_utils\\rgb2pct.py -> build\\lib.win-amd64-cpython-39\\osgeo_utils\n",
      "  copying gdal-utils\\osgeo_utils\\__init__.py -> build\\lib.win-amd64-cpython-39\\osgeo_utils\n",
      "  creating build\\lib.win-amd64-cpython-39\\osgeo_utils\\auxiliary\n",
      "  copying gdal-utils\\osgeo_utils\\auxiliary\\array_util.py -> build\\lib.win-amd64-cpython-39\\osgeo_utils\\auxiliary\n",
      "  copying gdal-utils\\osgeo_utils\\auxiliary\\base.py -> build\\lib.win-amd64-cpython-39\\osgeo_utils\\auxiliary\n",
      "  copying gdal-utils\\osgeo_utils\\auxiliary\\batch_creator.py -> build\\lib.win-amd64-cpython-39\\osgeo_utils\\auxiliary\n",
      "  copying gdal-utils\\osgeo_utils\\auxiliary\\color_palette.py -> build\\lib.win-amd64-cpython-39\\osgeo_utils\\auxiliary\n",
      "  copying gdal-utils\\osgeo_utils\\auxiliary\\color_table.py -> build\\lib.win-amd64-cpython-39\\osgeo_utils\\auxiliary\n",
      "  copying gdal-utils\\osgeo_utils\\auxiliary\\extent_util.py -> build\\lib.win-amd64-cpython-39\\osgeo_utils\\auxiliary\n",
      "  copying gdal-utils\\osgeo_utils\\auxiliary\\gdal_argparse.py -> build\\lib.win-amd64-cpython-39\\osgeo_utils\\auxiliary\n",
      "  copying gdal-utils\\osgeo_utils\\auxiliary\\numpy_util.py -> build\\lib.win-amd64-cpython-39\\osgeo_utils\\auxiliary\n",
      "  copying gdal-utils\\osgeo_utils\\auxiliary\\osr_util.py -> build\\lib.win-amd64-cpython-39\\osgeo_utils\\auxiliary\n",
      "  copying gdal-utils\\osgeo_utils\\auxiliary\\progress.py -> build\\lib.win-amd64-cpython-39\\osgeo_utils\\auxiliary\n",
      "  copying gdal-utils\\osgeo_utils\\auxiliary\\raster_creation.py -> build\\lib.win-amd64-cpython-39\\osgeo_utils\\auxiliary\n",
      "  copying gdal-utils\\osgeo_utils\\auxiliary\\rectangle.py -> build\\lib.win-amd64-cpython-39\\osgeo_utils\\auxiliary\n",
      "  copying gdal-utils\\osgeo_utils\\auxiliary\\util.py -> build\\lib.win-amd64-cpython-39\\osgeo_utils\\auxiliary\n",
      "  copying gdal-utils\\osgeo_utils\\auxiliary\\__init__.py -> build\\lib.win-amd64-cpython-39\\osgeo_utils\\auxiliary\n",
      "  creating build\\lib.win-amd64-cpython-39\\osgeo_utils\\samples\n",
      "  copying gdal-utils\\osgeo_utils\\samples\\assemblepoly.py -> build\\lib.win-amd64-cpython-39\\osgeo_utils\\samples\n",
      "  copying gdal-utils\\osgeo_utils\\samples\\build_jp2_from_xml.py -> build\\lib.win-amd64-cpython-39\\osgeo_utils\\samples\n",
      "  copying gdal-utils\\osgeo_utils\\samples\\classify.py -> build\\lib.win-amd64-cpython-39\\osgeo_utils\\samples\n",
      "  copying gdal-utils\\osgeo_utils\\samples\\crs2crs2grid.py -> build\\lib.win-amd64-cpython-39\\osgeo_utils\\samples\n",
      "  copying gdal-utils\\osgeo_utils\\samples\\densify.py -> build\\lib.win-amd64-cpython-39\\osgeo_utils\\samples\n",
      "  copying gdal-utils\\osgeo_utils\\samples\\dump_jp2.py -> build\\lib.win-amd64-cpython-39\\osgeo_utils\\samples\n",
      "  copying gdal-utils\\osgeo_utils\\samples\\epsg_tr.py -> build\\lib.win-amd64-cpython-39\\osgeo_utils\\samples\n",
      "  copying gdal-utils\\osgeo_utils\\samples\\esri2wkt.py -> build\\lib.win-amd64-cpython-39\\osgeo_utils\\samples\n",
      "  copying gdal-utils\\osgeo_utils\\samples\\fft.py -> build\\lib.win-amd64-cpython-39\\osgeo_utils\\samples\n",
      "  copying gdal-utils\\osgeo_utils\\samples\\fix_gpkg.py -> build\\lib.win-amd64-cpython-39\\osgeo_utils\\samples\n",
      "  copying gdal-utils\\osgeo_utils\\samples\\gcps2ogr.py -> build\\lib.win-amd64-cpython-39\\osgeo_utils\\samples\n",
      "  copying gdal-utils\\osgeo_utils\\samples\\gcps2vec.py -> build\\lib.win-amd64-cpython-39\\osgeo_utils\\samples\n",
      "  copying gdal-utils\\osgeo_utils\\samples\\gcps2wld.py -> build\\lib.win-amd64-cpython-39\\osgeo_utils\\samples\n",
      "  copying gdal-utils\\osgeo_utils\\samples\\gdal2grd.py -> build\\lib.win-amd64-cpython-39\\osgeo_utils\\samples\n",
      "  copying gdal-utils\\osgeo_utils\\samples\\gdalchksum.py -> build\\lib.win-amd64-cpython-39\\osgeo_utils\\samples\n",
      "  copying gdal-utils\\osgeo_utils\\samples\\gdalcopyproj.py -> build\\lib.win-amd64-cpython-39\\osgeo_utils\\samples\n",
      "  copying gdal-utils\\osgeo_utils\\samples\\gdalfilter.py -> build\\lib.win-amd64-cpython-39\\osgeo_utils\\samples\n",
      "  copying gdal-utils\\osgeo_utils\\samples\\gdalident.py -> build\\lib.win-amd64-cpython-39\\osgeo_utils\\samples\n",
      "  copying gdal-utils\\osgeo_utils\\samples\\gdalimport.py -> build\\lib.win-amd64-cpython-39\\osgeo_utils\\samples\n",
      "  copying gdal-utils\\osgeo_utils\\samples\\gdalinfo.py -> build\\lib.win-amd64-cpython-39\\osgeo_utils\\samples\n",
      "  copying gdal-utils\\osgeo_utils\\samples\\gdallocationinfo.py -> build\\lib.win-amd64-cpython-39\\osgeo_utils\\samples\n",
      "  copying gdal-utils\\osgeo_utils\\samples\\gdal_auth.py -> build\\lib.win-amd64-cpython-39\\osgeo_utils\\samples\n",
      "  copying gdal-utils\\osgeo_utils\\samples\\gdal_cp.py -> build\\lib.win-amd64-cpython-39\\osgeo_utils\\samples\n",
      "  copying gdal-utils\\osgeo_utils\\samples\\gdal_create_pdf.py -> build\\lib.win-amd64-cpython-39\\osgeo_utils\\samples\n",
      "  copying gdal-utils\\osgeo_utils\\samples\\gdal_ls.py -> build\\lib.win-amd64-cpython-39\\osgeo_utils\\samples\n",
      "  copying gdal-utils\\osgeo_utils\\samples\\gdal_lut.py -> build\\lib.win-amd64-cpython-39\\osgeo_utils\\samples\n",
      "  copying gdal-utils\\osgeo_utils\\samples\\gdal_mkdir.py -> build\\lib.win-amd64-cpython-39\\osgeo_utils\\samples\n",
      "  copying gdal-utils\\osgeo_utils\\samples\\gdal_remove_towgs84.py -> build\\lib.win-amd64-cpython-39\\osgeo_utils\\samples\n",
      "  copying gdal-utils\\osgeo_utils\\samples\\gdal_rm.py -> build\\lib.win-amd64-cpython-39\\osgeo_utils\\samples\n",
      "  copying gdal-utils\\osgeo_utils\\samples\\gdal_rmdir.py -> build\\lib.win-amd64-cpython-39\\osgeo_utils\\samples\n",
      "  copying gdal-utils\\osgeo_utils\\samples\\gdal_vrtmerge.py -> build\\lib.win-amd64-cpython-39\\osgeo_utils\\samples\n",
      "  copying gdal-utils\\osgeo_utils\\samples\\get_soundg.py -> build\\lib.win-amd64-cpython-39\\osgeo_utils\\samples\n",
      "  copying gdal-utils\\osgeo_utils\\samples\\histrep.py -> build\\lib.win-amd64-cpython-39\\osgeo_utils\\samples\n",
      "  copying gdal-utils\\osgeo_utils\\samples\\hsv_merge.py -> build\\lib.win-amd64-cpython-39\\osgeo_utils\\samples\n",
      "  copying gdal-utils\\osgeo_utils\\samples\\jpeg_in_tiff_extract.py -> build\\lib.win-amd64-cpython-39\\osgeo_utils\\samples\n",
      "  copying gdal-utils\\osgeo_utils\\samples\\load2odbc.py -> build\\lib.win-amd64-cpython-39\\osgeo_utils\\samples\n",
      "  copying gdal-utils\\osgeo_utils\\samples\\loslas2ntv2.py -> build\\lib.win-amd64-cpython-39\\osgeo_utils\\samples\n",
      "  copying gdal-utils\\osgeo_utils\\samples\\magphase.py -> build\\lib.win-amd64-cpython-39\\osgeo_utils\\samples\n",
      "  copying gdal-utils\\osgeo_utils\\samples\\make_fuzzer_friendly_archive.py -> build\\lib.win-amd64-cpython-39\\osgeo_utils\\samples\n",
      "  copying gdal-utils\\osgeo_utils\\samples\\mkgraticule.py -> build\\lib.win-amd64-cpython-39\\osgeo_utils\\samples\n",
      "  copying gdal-utils\\osgeo_utils\\samples\\ogr2ogr.py -> build\\lib.win-amd64-cpython-39\\osgeo_utils\\samples\n",
      "  copying gdal-utils\\osgeo_utils\\samples\\ogr2vrt.py -> build\\lib.win-amd64-cpython-39\\osgeo_utils\\samples\n",
      "  copying gdal-utils\\osgeo_utils\\samples\\ogrinfo.py -> build\\lib.win-amd64-cpython-39\\osgeo_utils\\samples\n",
      "  copying gdal-utils\\osgeo_utils\\samples\\ogrupdate.py -> build\\lib.win-amd64-cpython-39\\osgeo_utils\\samples\n",
      "  copying gdal-utils\\osgeo_utils\\samples\\ogr_build_junction_table.py -> build\\lib.win-amd64-cpython-39\\osgeo_utils\\samples\n",
      "  copying gdal-utils\\osgeo_utils\\samples\\ogr_dispatch.py -> build\\lib.win-amd64-cpython-39\\osgeo_utils\\samples\n",
      "  copying gdal-utils\\osgeo_utils\\samples\\rel.py -> build\\lib.win-amd64-cpython-39\\osgeo_utils\\samples\n",
      "  copying gdal-utils\\osgeo_utils\\samples\\tigerpoly.py -> build\\lib.win-amd64-cpython-39\\osgeo_utils\\samples\n",
      "  copying gdal-utils\\osgeo_utils\\samples\\tile_extent_from_raster.py -> build\\lib.win-amd64-cpython-39\\osgeo_utils\\samples\n",
      "  copying gdal-utils\\osgeo_utils\\samples\\tolatlong.py -> build\\lib.win-amd64-cpython-39\\osgeo_utils\\samples\n",
      "  copying gdal-utils\\osgeo_utils\\samples\\validate_cloud_optimized_geotiff.py -> build\\lib.win-amd64-cpython-39\\osgeo_utils\\samples\n",
      "  copying gdal-utils\\osgeo_utils\\samples\\validate_geoparquet.py -> build\\lib.win-amd64-cpython-39\\osgeo_utils\\samples\n",
      "  copying gdal-utils\\osgeo_utils\\samples\\validate_gpkg.py -> build\\lib.win-amd64-cpython-39\\osgeo_utils\\samples\n",
      "  copying gdal-utils\\osgeo_utils\\samples\\validate_jp2.py -> build\\lib.win-amd64-cpython-39\\osgeo_utils\\samples\n",
      "  copying gdal-utils\\osgeo_utils\\samples\\val_repl.py -> build\\lib.win-amd64-cpython-39\\osgeo_utils\\samples\n",
      "  copying gdal-utils\\osgeo_utils\\samples\\vec_tr.py -> build\\lib.win-amd64-cpython-39\\osgeo_utils\\samples\n",
      "  copying gdal-utils\\osgeo_utils\\samples\\vec_tr_spat.py -> build\\lib.win-amd64-cpython-39\\osgeo_utils\\samples\n",
      "  copying gdal-utils\\osgeo_utils\\samples\\wcs_virtds_params.py -> build\\lib.win-amd64-cpython-39\\osgeo_utils\\samples\n",
      "  copying gdal-utils\\osgeo_utils\\samples\\__init__.py -> build\\lib.win-amd64-cpython-39\\osgeo_utils\\samples\n",
      "  running build_ext\n",
      "  building 'osgeo._gdal' extension\n",
      "  building 'osgeo._gdalconst' extension\n",
      "  building 'osgeo._ogr' extension\n",
      "  building 'osgeo._osr' extension\n",
      "  building 'osgeo._gdal_array' extension\n",
      "  building 'osgeo._gnm' extension\n",
      "  error: Microsoft Visual C++ 14.0 or greater is required. Get it with \"Microsoft C++ Build Tools\": https://visualstudio.microsoft.com/visual-cpp-build-tools/\n",
      "  [end of output]\n",
      "  \n",
      "  note: This error originates from a subprocess, and is likely not a problem with pip.\n",
      "  ERROR: Failed building wheel for gdal\n",
      "ERROR: Could not build wheels for gdal, which is required to install pyproject.toml-based projects\n",
      "\n",
      "[notice] A new release of pip is available: 23.2.1 -> 24.0\n",
      "[notice] To update, run: python.exe -m pip install --upgrade pip\n"
     ]
    }
   ],
   "source": [
    "!pip install gdal"
   ],
   "metadata": {
    "collapsed": false,
    "ExecuteTime": {
     "end_time": "2024-05-02T09:31:54.695331900Z",
     "start_time": "2024-05-02T09:31:51.047587900Z"
    }
   },
   "id": "9a13488374276889",
   "execution_count": 3
  },
  {
   "cell_type": "code",
   "outputs": [
    {
     "name": "stdout",
     "output_type": "stream",
     "text": [
      "3.9.13 (tags/v3.9.13:6de2ca5, May 17 2022, 16:36:42) [MSC v.1929 64 bit (AMD64)]\n"
     ]
    }
   ],
   "source": [
    "import sys\n",
    "print(sys.version)\n"
   ],
   "metadata": {
    "collapsed": false,
    "ExecuteTime": {
     "end_time": "2024-05-02T09:34:27.561264Z",
     "start_time": "2024-05-02T09:34:27.542080200Z"
    }
   },
   "id": "8678a8662f128a36",
   "execution_count": 5
  },
  {
   "cell_type": "markdown",
   "source": [
    "The rest of this test is in word document 'change detection' as it got deleted becuase it didnt work so tried to start again\n"
   ],
   "metadata": {
    "collapsed": false
   },
   "id": "cc18daf6037274b1"
  }
 ],
 "metadata": {
  "kernelspec": {
   "display_name": "Python 3",
   "language": "python",
   "name": "python3"
  },
  "language_info": {
   "codemirror_mode": {
    "name": "ipython",
    "version": 2
   },
   "file_extension": ".py",
   "mimetype": "text/x-python",
   "name": "python",
   "nbconvert_exporter": "python",
   "pygments_lexer": "ipython2",
   "version": "2.7.6"
  }
 },
 "nbformat": 4,
 "nbformat_minor": 5
}
