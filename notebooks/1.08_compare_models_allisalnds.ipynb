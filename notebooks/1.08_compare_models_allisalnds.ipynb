{
 "cells": [
  {
   "cell_type": "code",
   "outputs": [],
   "source": [
    "import os\n",
    "import glob\n",
    "import re\n",
    "import numpy as np\n",
    "import rasterio\n",
    "from rasterio.plot import show\n",
    "from rasterio.features import geometry_mask\n",
    "import geopandas as gpd\n",
    "from sklearn.ensemble import RandomForestClassifier\n",
    "from sklearn.preprocessing import LabelEncoder\n",
    "from sklearn.model_selection import train_test_split, cross_val_score\n",
    "from sklearn.metrics import classification_report, accuracy_score\n",
    "from imblearn.over_sampling import SMOTE\n",
    "from sklearn.utils import resample\n",
    "from sklearn.linear_model import LogisticRegression\n",
    "from sklearn.discriminant_analysis import LinearDiscriminantAnalysis\n",
    "from sklearn.neighbors import KNeighborsClassifier\n",
    "from sklearn.tree import DecisionTreeClassifier\n",
    "from sklearn.naive_bayes import GaussianNB\n",
    "from sklearn.svm import SVC\n",
    "import matplotlib.pyplot as plt\n",
    "import matplotlib.colors as mcolors\n",
    "import joblib"
   ],
   "metadata": {
    "collapsed": false,
    "ExecuteTime": {
     "end_time": "2024-06-21T09:35:53.003122600Z",
     "start_time": "2024-06-21T09:35:49.436951200Z"
    }
   },
   "id": "350a583a5c99b986",
   "execution_count": 1
  },
  {
   "cell_type": "code",
   "outputs": [
    {
     "name": "stdout",
     "output_type": "stream",
     "text": [
      "No matching shapefile found for C:\\Users\\Student\\Documents\\101_walrus_data\\train\\clipped_images\\pool_20230803_image.tif\n",
      "Image: C:\\Users\\Student\\Documents\\101_walrus_data\\train\\clipped_images\\buch_20230714_image.tif | Shapefile: C:\\Users\\Student\\Documents\\101_walrus_data\\train\\clipped_train\\buch_20230714_train.shp\n",
      "Image: C:\\Users\\Student\\Documents\\101_walrus_data\\train\\clipped_images\\buch_20230720_image.tif | Shapefile: C:\\Users\\Student\\Documents\\101_walrus_data\\train\\clipped_train\\buch_20230720_train.shp\n",
      "Image: C:\\Users\\Student\\Documents\\101_walrus_data\\train\\clipped_images\\buch_20230731_image.tif | Shapefile: C:\\Users\\Student\\Documents\\101_walrus_data\\train\\clipped_train\\buch_20230731_train.shp\n",
      "Image: C:\\Users\\Student\\Documents\\101_walrus_data\\train\\clipped_images\\buch_20230923_image.tif | Shapefile: C:\\Users\\Student\\Documents\\101_walrus_data\\train\\clipped_train\\buch_20230923_train.shp\n",
      "Image: C:\\Users\\Student\\Documents\\101_walrus_data\\train\\clipped_images\\moff_20230717_image.tif | Shapefile: C:\\Users\\Student\\Documents\\101_walrus_data\\train\\clipped_train\\moff_20230717_train.shp\n",
      "Image: C:\\Users\\Student\\Documents\\101_walrus_data\\train\\clipped_images\\pal_20230714_image.tif | Shapefile: C:\\Users\\Student\\Documents\\101_walrus_data\\train\\clipped_train\\pal_20230714.shp\n",
      "Image: C:\\Users\\Student\\Documents\\101_walrus_data\\train\\clipped_images\\pal_20230720_image.tif | Shapefile: C:\\Users\\Student\\Documents\\101_walrus_data\\train\\clipped_train\\pal_20230720_train.shp\n",
      "Image: C:\\Users\\Student\\Documents\\101_walrus_data\\train\\clipped_images\\pal_20230726_image.tif | Shapefile: C:\\Users\\Student\\Documents\\101_walrus_data\\train\\clipped_train\\pal_20230726_train.shp\n",
      "Image: C:\\Users\\Student\\Documents\\101_walrus_data\\train\\clipped_images\\sars_20230714_image.tif | Shapefile: C:\\Users\\Student\\Documents\\101_walrus_data\\train\\clipped_train\\sars_20230714_train.shp\n",
      "Image: C:\\Users\\Student\\Documents\\101_walrus_data\\train\\clipped_images\\sars_20230803_image.tif | Shapefile: C:\\Users\\Student\\Documents\\101_walrus_data\\train\\clipped_train\\sars_20230803_train.shp\n",
      "Image: C:\\Users\\Student\\Documents\\101_walrus_data\\train\\clipped_images\\tor_20230801_image.tif | Shapefile: C:\\Users\\Student\\Documents\\101_walrus_data\\train\\clipped_train\\tor_20230801_train.shp\n",
      "Image: C:\\Users\\Student\\Documents\\101_walrus_data\\train\\clipped_images\\tor_20230824_image.tif | Shapefile: C:\\Users\\Student\\Documents\\101_walrus_data\\train\\clipped_train\\tor_20230824_train.shp\n",
      "Image: C:\\Users\\Student\\Documents\\101_walrus_data\\train\\clipped_images\\tor_20230901_image.tif | Shapefile: C:\\Users\\Student\\Documents\\101_walrus_data\\train\\clipped_train\\tor_20230901_train.shp\n",
      "Image: C:\\Users\\Student\\Documents\\101_walrus_data\\train\\clipped_images\\tor_20230902_image.tif | Shapefile: C:\\Users\\Student\\Documents\\101_walrus_data\\train\\clipped_train\\tor_20230902_train.shp\n"
     ]
    }
   ],
   "source": [
    "# Define the directories containing images and shapefiles\n",
    "image_dir = \"C:\\\\Users\\\\Student\\\\Documents\\\\101_walrus_data\\\\train\\\\clipped_images\"\n",
    "shapefile_dir = \"C:\\\\Users\\\\Student\\\\Documents\\\\101_walrus_data\\\\train\\\\clipped_train\"\n",
    "unlabeled_image_dir = \"C:\\\\Users\\\\Student\\\\Documents\\\\101_walrus_data\\\\train\\\\clipped_unlabeled\"\n",
    "\n",
    "# Use glob to list all .tif and .shp files in the specified directories\n",
    "image_paths = glob.glob(f\"{image_dir}/*.tif\")\n",
    "shapefile_paths = glob.glob(f\"{shapefile_dir}/*.shp\")\n",
    "unlabeled_image_paths = glob.glob(f\"{unlabeled_image_dir}/*.tif\")\n",
    "\n",
    "# Function to extract island name and date from file names\n",
    "def extract_island_and_date(filename):\n",
    "    pattern = r'([a-zA-Z]+)_(\\d{8})'\n",
    "    match = re.search(pattern, filename)\n",
    "    if match:\n",
    "        return match.group(1), match.group(2)\n",
    "    return None, None\n",
    "\n",
    "# Create a dictionary to store paired image and shapefile paths\n",
    "file_pairs = {}\n",
    "\n",
    "# Pair image and shapefile paths based on filenames\n",
    "for image_path in image_paths:\n",
    "    # Extract island name and date from file name\n",
    "    island, date = extract_island_and_date(os.path.basename(image_path))\n",
    "    if island is None or date is None:\n",
    "        print(f\"Failed to extract island and date from {image_path}\")\n",
    "        continue\n",
    "\n",
    "    # Find corresponding shapefile\n",
    "    matching_shapefiles = [shapefile for shapefile in shapefile_paths if island in shapefile and date in shapefile]\n",
    "    if not matching_shapefiles:\n",
    "        print(f\"No matching shapefile found for {image_path}\")\n",
    "        continue\n",
    "\n",
    "    # Only one matching shapefile for each image\n",
    "    shapefile_path = matching_shapefiles[0]\n",
    "\n",
    "    # Add the pair to the dictionary\n",
    "    file_pairs[image_path] = shapefile_path\n",
    "\n",
    "# Print the paired files to verify\n",
    "for image_path, shapefile_path in file_pairs.items():\n",
    "    print(f\"Image: {image_path} | Shapefile: {shapefile_path}\")"
   ],
   "metadata": {
    "collapsed": false,
    "ExecuteTime": {
     "end_time": "2024-06-21T09:35:58.324445Z",
     "start_time": "2024-06-21T09:35:58.296448800Z"
    }
   },
   "id": "dcbdc1f493fe02a3",
   "execution_count": 2
  },
  {
   "cell_type": "code",
   "outputs": [],
   "source": [
    "def extract_features_labels(image_path, shapefile_path):\n",
    "    with rasterio.open(image_path) as src:\n",
    "        image = src.read()\n",
    "        transform = src.transform\n",
    "\n",
    "    gdf = gpd.read_file(shapefile_path)\n",
    "    features = []\n",
    "    labels = []\n",
    "    \n",
    "    for _, row in gdf.iterrows():\n",
    "        mask = geometry_mask([row['geometry']], transform=transform, invert=True, out_shape=(src.height, src.width))\n",
    "        feature_pixels = image[:, mask]\n",
    "        label = row['label']\n",
    "        \n",
    "        for pixel in feature_pixels.T:  # Transpose to iterate over pixels\n",
    "            features.append(pixel)\n",
    "            labels.append(label)\n",
    "    \n",
    "    return np.array(features), np.array(labels)\n",
    "\n",
    "features = []\n",
    "labels = []\n",
    "\n",
    "for image_path, shapefile_path in file_pairs.items():\n",
    "    img_features, img_labels = extract_features_labels(image_path, shapefile_path)\n",
    "    features.append(img_features)\n",
    "    labels.append(img_labels)\n",
    "\n",
    "features = np.vstack(features)\n",
    "labels = np.hstack(labels)\n",
    "\n",
    "# Encode labels\n",
    "le = LabelEncoder()\n",
    "encoded_labels = le.fit_transform(labels)"
   ],
   "metadata": {
    "collapsed": false,
    "ExecuteTime": {
     "end_time": "2024-06-21T09:36:03.712474400Z",
     "start_time": "2024-06-21T09:36:00.469210300Z"
    }
   },
   "id": "8513e20ab963c241",
   "execution_count": 3
  },
  {
   "cell_type": "markdown",
   "source": [],
   "metadata": {
    "collapsed": false
   },
   "id": "27ae0dec76851187"
  },
  {
   "cell_type": "markdown",
   "source": [
    "^ old way. v new way, load the pd dataset \n",
    "\n",
    "would still need to numberically code the labels"
   ],
   "metadata": {
    "collapsed": false
   },
   "id": "4360226e8eeb1753"
  },
  {
   "cell_type": "markdown",
   "source": [],
   "metadata": {
    "collapsed": false
   },
   "id": "b3b8ae2093eb7e08"
  },
  {
   "cell_type": "code",
   "outputs": [],
   "source": [
    "\n",
    "# Split the data\n",
    "X_train, X_test, y_train, y_test = train_test_split(features, encoded_labels, test_size=0.2, random_state=42)"
   ],
   "metadata": {
    "collapsed": false,
    "ExecuteTime": {
     "end_time": "2024-06-21T09:36:04.846485600Z",
     "start_time": "2024-06-21T09:36:04.686781500Z"
    }
   },
   "id": "50232368f839287b",
   "execution_count": 4
  },
  {
   "cell_type": "code",
   "outputs": [],
   "source": [
    "# Define models to compare\n",
    "models = []\n",
    "models.append(('LR', LogisticRegression(max_iter=10000)))\n",
    "models.append(('LDA', LinearDiscriminantAnalysis()))\n",
    "models.append(('KNN', KNeighborsClassifier()))\n",
    "models.append(('CART', DecisionTreeClassifier()))\n",
    "models.append(('NB', GaussianNB()))\n",
    "models.append(('SVM', SVC()))\n",
    "models.append(('RF', RandomForestClassifier(n_estimators=100, random_state=42)))"
   ],
   "metadata": {
    "collapsed": false,
    "ExecuteTime": {
     "end_time": "2024-06-21T09:36:06.398075400Z",
     "start_time": "2024-06-21T09:36:06.377117400Z"
    }
   },
   "id": "f1766bbdd5457f2",
   "execution_count": 5
  },
  {
   "cell_type": "code",
   "outputs": [
    {
     "name": "stderr",
     "output_type": "stream",
     "text": [
      "C:\\Users\\Student\\Documents\\walrus_code\\.venv\\lib\\site-packages\\sklearn\\linear_model\\_logistic.py:469: ConvergenceWarning: lbfgs failed to converge (status=1):\n",
      "STOP: TOTAL NO. of ITERATIONS REACHED LIMIT.\n",
      "\n",
      "Increase the number of iterations (max_iter) or scale the data as shown in:\n",
      "    https://scikit-learn.org/stable/modules/preprocessing.html\n",
      "Please also refer to the documentation for alternative solver options:\n",
      "    https://scikit-learn.org/stable/modules/linear_model.html#logistic-regression\n",
      "  n_iter_i = _check_optimize_result(\n"
     ]
    }
   ],
   "source": [
    "# Evaluate each model and plot predicted images\n",
    "for name, model in models:\n",
    "    # Train the model\n",
    "    model.fit(X_train, y_train)"
   ],
   "metadata": {
    "collapsed": false,
    "is_executing": true,
    "ExecuteTime": {
     "start_time": "2024-06-21T09:36:18.305519900Z"
    }
   },
   "id": "fc7fd583fe1b0ddc"
  },
  {
   "cell_type": "code",
   "outputs": [],
   "source": [
    "# Evaluate the model\n",
    "y_pred = model.predict(X_test)\n",
    "print(f\"Classification report for {name}:\")\n",
    "print(classification_report(y_test, y_pred, target_names=le.classes_))"
   ],
   "metadata": {
    "collapsed": false
   },
   "id": "43c74d948362ff17"
  },
  {
   "cell_type": "code",
   "outputs": [],
   "source": [],
   "metadata": {
    "collapsed": false
   },
   "id": "4de0aca5e5a6fab5"
  },
  {
   "cell_type": "code",
   "outputs": [],
   "source": [
    "\n",
    "    # Evaluate the model\n",
    "    y_pred = model.predict(X_test)\n",
    "    print(f\"Classification report for {name}:\")\n",
    "    print(classification_report(y_test, y_pred, target_names=le.classes_))\n",
    "    \n",
    "    # Function to predict classes for a given image\n",
    "    def predict_image(image_path, model):\n",
    "        with rasterio.open(image_path) as src:\n",
    "            image = src.read()\n",
    "            image_reshaped = image.reshape((image.shape[0], -1)).T\n",
    "            predictions = model.predict(image_reshaped)\n",
    "            return predictions.reshape((src.height, src.width))\n",
    "\n",
    "    predicted_images = {}\n",
    "\n",
    "    for image_path, shapefile_path in file_pairs.items():\n",
    "        predicted_images[image_path] = predict_image(image_path, model)\n",
    "        \n",
    "    # Define a color map for the labels\n",
    "    label_colors = {'ice': 'black', 'rock': 'dimgray', 'walrus_pure': 'fuchsia', 'walrus_mixed': 'purple', 'freshwater': 'cyan', 'ocean': 'blue'}\n",
    "\n",
    "    # Create a fixed color map based on all possible labels\n",
    "    cmap = mcolors.ListedColormap([label_colors[label] for label in le.classes_])\n",
    "\n",
    "    # Plot the predicted images\n",
    "    for image_path, predicted_image in predicted_images.items():\n",
    "        unique_labels = np.unique(predicted_image)\n",
    "        plt.figure(figsize=(10, 10))\n",
    "        plt.title(f\"Predicted classes for {os.path.basename(image_path)} - Model: {name}\")\n",
    "        plt.imshow(predicted_image, cmap=cmap, vmin=0, vmax=len(le.classes_)-1)\n",
    "        \n",
    "        # Create a color bar with fixed labels\n",
    "        cbar = plt.colorbar(ticks=range(len(le.classes_)), label='Class')\n",
    "        cbar.ax.set_yticklabels(le.classes_)  # Set text labels instead of numerical labels\n",
    "        \n",
    "        # Highlight the labels present in the current image\n",
    "        present_labels = [le.classes_[i] for i in unique_labels]\n",
    "        print(f\"Labels present in {os.path.basename(image_path)}: {present_labels}\")\n",
    "        \n",
    "        plt.show()"
   ],
   "metadata": {
    "collapsed": false
   },
   "id": "453465e84a0d0a6e"
  },
  {
   "cell_type": "code",
   "outputs": [],
   "source": [],
   "metadata": {
    "collapsed": false
   },
   "id": "fe02c6b897962360"
  },
  {
   "cell_type": "markdown",
   "source": [],
   "metadata": {
    "collapsed": false
   },
   "id": "c0b287ce7681b1d"
  },
  {
   "cell_type": "markdown",
   "source": [],
   "metadata": {
    "collapsed": false
   },
   "id": "1b152a669e70ca1b"
  },
  {
   "cell_type": "markdown",
   "source": [],
   "metadata": {
    "collapsed": false
   },
   "id": "680582f76f337f0c"
  },
  {
   "cell_type": "markdown",
   "source": [],
   "metadata": {
    "collapsed": false
   },
   "id": "6a0832d3902cf4d"
  },
  {
   "cell_type": "markdown",
   "source": [],
   "metadata": {
    "collapsed": false
   },
   "id": "1093a9d06f34a4c7"
  },
  {
   "cell_type": "markdown",
   "source": [],
   "metadata": {
    "collapsed": false
   },
   "id": "a67d60cf5886f2f9"
  },
  {
   "cell_type": "markdown",
   "source": [],
   "metadata": {
    "collapsed": false
   },
   "id": "9c16c0902252f1f6"
  },
  {
   "cell_type": "markdown",
   "source": [
    "this was my first attempt but don't think this will plot the results "
   ],
   "metadata": {
    "collapsed": false
   },
   "id": "fb96f89c7b391e9c"
  },
  {
   "cell_type": "code",
   "outputs": [],
   "source": [
    "# Define models to compare\n",
    "models = []\n",
    "models.append(('LR', LogisticRegression(max_iter=10000)))\n",
    "models.append(('LDA', LinearDiscriminantAnalysis()))\n",
    "models.append(('KNN', KNeighborsClassifier()))\n",
    "models.append(('CART', DecisionTreeClassifier()))\n",
    "models.append(('NB', GaussianNB()))\n",
    "models.append(('SVM', SVC()))\n",
    "models.append(('RF', RandomForestClassifier(n_estimators=100, random_state=42)))\n",
    "\n",
    "# Evaluate each model\n",
    "results = []\n",
    "names = []\n",
    "for name, model in models:\n",
    "    cv_results = cross_val_score(model, X_train, y_train, cv=5, scoring='accuracy')\n",
    "    results.append(cv_results)\n",
    "    names.append(name)\n",
    "    print(f\"{name}: {cv_results.mean()} ({cv_results.std()})\")"
   ],
   "metadata": {
    "collapsed": false
   },
   "id": "8e6a034ec18bad1d"
  },
  {
   "cell_type": "code",
   "outputs": [],
   "source": [
    "# Boxplot comparison # This was given but don't think it's needed\n",
    "fig = plt.figure(figsize=(10, 6))\n",
    "fig.suptitle('Algorithm Comparison')\n",
    "ax = fig.add_subplot(111)\n",
    "plt.boxplot(results)\n",
    "ax.set_xticklabels(names)\n",
    "plt.show()"
   ],
   "metadata": {
    "collapsed": false
   },
   "id": "9053cb991882d4d8"
  },
  {
   "cell_type": "code",
   "outputs": [],
   "source": [
    "# Train the RandomForestClassifier as the final model\n",
    "final_model = RandomForestClassifier(n_estimators=100, random_state=42)\n",
    "final_model.fit(X_train, y_train)\n",
    "\n",
    "# Save the model\n",
    "model_filename = \"     name      allislands.joblib\"\n",
    "joblib.dump(final_model, model_filename)"
   ],
   "metadata": {
    "collapsed": false
   },
   "id": "7a95d392d053e195"
  },
  {
   "cell_type": "code",
   "outputs": [],
   "source": [
    "# Evaluate the final model\n",
    "y_pred = final_model.predict(X_test)\n",
    "print(classification_report(y_test, y_pred, target_names=le.classes_))"
   ],
   "metadata": {
    "collapsed": false
   },
   "id": "9a35ee106185f414"
  },
  {
   "cell_type": "code",
   "outputs": [],
   "source": [
    "# Function to predict classes for a given image\n",
    "def predict_image(image_path, model):\n",
    "    with rasterio.open(image_path) as src:\n",
    "        image = src.read()\n",
    "        image_reshaped = image.reshape((image.shape[0], -1)).T\n",
    "        predictions = model.predict(image_reshaped)\n",
    "        return predictions.reshape((src.height, src.width))\n",
    "\n",
    "predicted_images = {}\n",
    "\n",
    "for image_path, shapefile_path in file_pairs.items():\n",
    "    predicted_images[image_path] = predict_image(image_path, final_model)\n"
   ],
   "metadata": {
    "collapsed": false
   },
   "id": "b93b19320383ea48"
  },
  {
   "cell_type": "code",
   "outputs": [],
   "source": [
    "# Define a color map for the labels\n",
    "label_colors = {'ice': 'white', 'rock': 'dimgray', 'walrus_pure': 'fuchsia', 'walrus_mixed': 'hotpink', 'freshwater': 'cyan', 'ocean': 'blue'}\n",
    "\n",
    "# Create a fixed color map based on all possible labels\n",
    "cmap = mcolors.ListedColormap([label_colors[label] for label in le.classes_])\n",
    "\n",
    "# Plot the predicted images\n",
    "for image_path, predicted_image in predicted_images.items():\n",
    "    unique_labels = np.unique(predicted_image)\n",
    "    plt.figure(figsize=(10, 10))\n",
    "    plt.title(f\"Predicted classes for {os.path.basename(image_path)}\")\n",
    "    plt.imshow(predicted_image, cmap=cmap, vmin=0, vmax=len(le.classes_)-1)\n",
    "    \n",
    "    # Create a color bar with fixed labels\n",
    "    cbar = plt.colorbar(ticks=range(len(le.classes_)), label='Class')\n",
    "    cbar.ax.set_yticklabels(le.classes_)  # Set text labels instead of numerical labels\n",
    "    \n",
    "    # Highlight the labels present in the current image\n",
    "    present_labels = [le.classes_[i] for i in unique_labels]\n",
    "    print(f\"Labels present in {os.path.basename(image_path)}: {present_labels}\")\n",
    "    \n",
    "    plt.show()\n"
   ],
   "metadata": {
    "collapsed": false
   },
   "id": "3288fa5e284e4fe8"
  },
  {
   "cell_type": "code",
   "execution_count": null,
   "id": "initial_id",
   "metadata": {
    "collapsed": true
   },
   "outputs": [],
   "source": [
    "# Load the saved model and predict classes for unlabeled images\n",
    "loaded_model = joblib.load(model_filename)\n",
    "print(f\"Model loaded from {model_filename}\")\n",
    "\n",
    "for image_path in unlabeled_image_paths:\n",
    "    predicted_image = predict_image(image_path, loaded_model)\n",
    "    \n",
    "    plt.figure(figsize=(10, 10))\n",
    "    plt.title(f\"Predicted classes for {os.path.basename(image_path)}\")\n",
    "    plt.imshow(predicted_image, cmap=cmap, vmin=0, vmax=len(le.classes_)-1)\n",
    "    \n",
    "    cbar = plt.colorbar(ticks=range(len(le.classes_)), label='Class')\n",
    "    cbar.ax.set_yticklabels(le.classes_)\n",
    "    \n",
    "    plt.show()"
   ]
  }
 ],
 "metadata": {
  "kernelspec": {
   "display_name": "Python 3",
   "language": "python",
   "name": "python3"
  },
  "language_info": {
   "codemirror_mode": {
    "name": "ipython",
    "version": 2
   },
   "file_extension": ".py",
   "mimetype": "text/x-python",
   "name": "python",
   "nbconvert_exporter": "python",
   "pygments_lexer": "ipython2",
   "version": "2.7.6"
  }
 },
 "nbformat": 4,
 "nbformat_minor": 5
}
