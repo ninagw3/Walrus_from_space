{
 "cells": [
  {
   "cell_type": "code",
   "outputs": [
    {
     "ename": "ImportError",
     "evalue": "cannot import name 'plot_confusion_matrix' from 'sklearn.metrics' (C:\\Users\\Student\\Documents\\walrus_code\\.venv\\lib\\site-packages\\sklearn\\metrics\\__init__.py)",
     "output_type": "error",
     "traceback": [
      "\u001B[1;31m---------------------------------------------------------------------------\u001B[0m",
      "\u001B[1;31mImportError\u001B[0m                               Traceback (most recent call last)",
      "Cell \u001B[1;32mIn[15], line 15\u001B[0m\n\u001B[0;32m     13\u001B[0m \u001B[38;5;28;01mfrom\u001B[39;00m \u001B[38;5;21;01msklearn\u001B[39;00m\u001B[38;5;21;01m.\u001B[39;00m\u001B[38;5;21;01mpreprocessing\u001B[39;00m \u001B[38;5;28;01mimport\u001B[39;00m LabelEncoder\n\u001B[0;32m     14\u001B[0m \u001B[38;5;28;01mfrom\u001B[39;00m \u001B[38;5;21;01msklearn\u001B[39;00m\u001B[38;5;21;01m.\u001B[39;00m\u001B[38;5;21;01mensemble\u001B[39;00m \u001B[38;5;28;01mimport\u001B[39;00m RandomForestClassifier\n\u001B[1;32m---> 15\u001B[0m \u001B[38;5;28;01mfrom\u001B[39;00m \u001B[38;5;21;01msklearn\u001B[39;00m\u001B[38;5;21;01m.\u001B[39;00m\u001B[38;5;21;01mmetrics\u001B[39;00m \u001B[38;5;28;01mimport\u001B[39;00m classification_report, accuracy_score, precision_score, recall_score, f1_score, cohen_kappa_score, confusion_matrix, precision_recall_curve, plot_confusion_matrix\n\u001B[0;32m     16\u001B[0m \u001B[38;5;28;01mfrom\u001B[39;00m \u001B[38;5;21;01mimblearn\u001B[39;00m\u001B[38;5;21;01m.\u001B[39;00m\u001B[38;5;21;01mover_sampling\u001B[39;00m \u001B[38;5;28;01mimport\u001B[39;00m SMOTE\n",
      "\u001B[1;31mImportError\u001B[0m: cannot import name 'plot_confusion_matrix' from 'sklearn.metrics' (C:\\Users\\Student\\Documents\\walrus_code\\.venv\\lib\\site-packages\\sklearn\\metrics\\__init__.py)"
     ]
    }
   ],
   "source": [
    "import os\n",
    "import re\n",
    "import glob\n",
    "import numpy as np\n",
    "import pandas as pd\n",
    "import geopandas as gpd\n",
    "import rasterio\n",
    "import matplotlib.pyplot as plt\n",
    "import matplotlib.colors as mcolors\n",
    "import joblib\n",
    "from rasterio.mask import geometry_mask\n",
    "from sklearn.model_selection import StratifiedKFold\n",
    "from sklearn.preprocessing import LabelEncoder\n",
    "from sklearn.ensemble import RandomForestClassifier\n",
    "from sklearn.metrics import classification_report, accuracy_score, precision_score, recall_score, f1_score, cohen_kappa_score, confusion_matrix, precision_recall_curve, plot_confusion_matrix\n",
    "from imblearn.over_sampling import SMOTE"
   ],
   "metadata": {
    "collapsed": false,
    "ExecuteTime": {
     "end_time": "2024-06-23T08:52:28.028270600Z",
     "start_time": "2024-06-23T08:52:27.811803400Z"
    }
   },
   "id": "3b3fe2d3bc665eba",
   "execution_count": 15
  },
  {
   "cell_type": "code",
   "outputs": [
    {
     "name": "stdout",
     "output_type": "stream",
     "text": [
      "No matching shapefile found for C:\\Users\\Student\\Documents\\101_walrus_data\\train\\clipped_images\\pool_20230803_image.tif\n",
      "[[1187  980 1269 ... 1329 1416 1650]\n",
      " [1148  912 1212 ... 1240 1297 1612]\n",
      " [1131  856 1162 ... 1181 1355 1510]\n",
      " ...\n",
      " [1730 1870 1929 ... 2091 2276 2647]\n",
      " [1634 1851 1879 ... 2053 2281 2634]\n",
      " [1720 1904 1905 ... 2135 2316 2654]] ['walrus_mixed' 'walrus_mixed' 'walrus_mixed' ... 'freshwater'\n",
      " 'freshwater' 'freshwater'] ['C:\\\\Users\\\\Student\\\\Documents\\\\101_walrus_data\\\\train\\\\clipped_images\\\\buch_20230714_image.tif'\n",
      " 'C:\\\\Users\\\\Student\\\\Documents\\\\101_walrus_data\\\\train\\\\clipped_images\\\\buch_20230714_image.tif'\n",
      " 'C:\\\\Users\\\\Student\\\\Documents\\\\101_walrus_data\\\\train\\\\clipped_images\\\\buch_20230714_image.tif'\n",
      " ...\n",
      " 'C:\\\\Users\\\\Student\\\\Documents\\\\101_walrus_data\\\\train\\\\clipped_images\\\\tor_20230902_image.tif'\n",
      " 'C:\\\\Users\\\\Student\\\\Documents\\\\101_walrus_data\\\\train\\\\clipped_images\\\\tor_20230902_image.tif'\n",
      " 'C:\\\\Users\\\\Student\\\\Documents\\\\101_walrus_data\\\\train\\\\clipped_images\\\\tor_20230902_image.tif']\n"
     ]
    }
   ],
   "source": [
    "# Define the directories containing images and shapefiles\n",
    "image_dir = \"C:\\\\Users\\\\Student\\\\Documents\\\\101_walrus_data\\\\train\\\\clipped_images\"\n",
    "shapefile_dir = \"C:\\\\Users\\\\Student\\\\Documents\\\\101_walrus_data\\\\train\\\\clipped_train\"\n",
    "unlabeled_image_dir = \"C:\\\\Users\\\\Student\\\\Documents\\\\101_walrus_data\\\\train\\\\clipped_unlabeled\"\n",
    "\n",
    "# Use glob to list all .tif and .shp files in the specified directories\n",
    "image_paths = glob.glob(f\"{image_dir}/*.tif\")\n",
    "shapefile_paths = glob.glob(f\"{shapefile_dir}/*.shp\")\n",
    "unlabeled_image_paths = glob.glob(f\"{unlabeled_image_dir}/*.tif\")\n",
    "\n",
    "# Function to extract island name and date from file names\n",
    "def extract_island_and_date(filename):\n",
    "    pattern = r'([a-zA-Z]+)_(\\d{8})'\n",
    "    match = re.search(pattern, filename)\n",
    "    if match:\n",
    "        return match.group(1), match.group(2)\n",
    "    return None, None\n",
    "\n",
    "# Pair image and shapefile paths based on filenames\n",
    "def pair_files(image_paths, shapefile_paths):\n",
    "    file_pairs = {}\n",
    "    for image_path in image_paths:\n",
    "        island, date = extract_island_and_date(os.path.basename(image_path))\n",
    "        if island is None or date is None:\n",
    "            print(f\"Failed to extract island and date from {image_path}\")\n",
    "            continue\n",
    "\n",
    "        matching_shapefiles = [shapefile for shapefile in shapefile_paths if island in shapefile and date in shapefile]\n",
    "        if not matching_shapefiles:\n",
    "            print(f\"No matching shapefile found for {image_path}\")\n",
    "            continue\n",
    "\n",
    "        shapefile_path = matching_shapefiles[0]\n",
    "        file_pairs[image_path] = shapefile_path\n",
    "    return file_pairs\n",
    "\n",
    "file_pairs = pair_files(image_paths, shapefile_paths)\n",
    "\n",
    "# Function to extract features and labels\n",
    "def extract_features_labels(image_path, shapefile_path):\n",
    "    with rasterio.open(image_path) as src:\n",
    "        image = src.read()\n",
    "        transform = src.transform\n",
    "\n",
    "    gdf = gpd.read_file(shapefile_path)\n",
    "    features = []\n",
    "    labels = []\n",
    "    img_name = []\n",
    "\n",
    "    for _, row in gdf.iterrows():\n",
    "        mask = geometry_mask([row['geometry']], transform=transform, invert=True, out_shape=(src.height, src.width))\n",
    "        feature_pixels = image[:, mask]\n",
    "        label = row['label']\n",
    "\n",
    "        for pixel in feature_pixels.T:  # Transpose to iterate over pixels\n",
    "            features.append(pixel)\n",
    "            labels.append(label)\n",
    "            img_name.append(image_path)\n",
    "\n",
    "    return np.array(features), np.array(labels), np.array(img_name)\n",
    "\n",
    "# Extract features and labels for all image-shapefile pairs\n",
    "def get_dataset(file_pairs):\n",
    "    features = []\n",
    "    labels = []\n",
    "    image_name = []\n",
    "\n",
    "    for image_path, shapefile_path in file_pairs.items():\n",
    "        img_features, img_labels, img_name = extract_features_labels(image_path, shapefile_path)\n",
    "        features.append(img_features)\n",
    "        labels.append(img_labels)\n",
    "        image_name.append(img_name)\n",
    "\n",
    "    features = np.vstack(features)\n",
    "    labels = np.hstack(labels)\n",
    "    image_name = np.hstack(image_name)\n",
    "    return features, labels, image_name\n",
    "\n",
    "features, labels, image_name = get_dataset(file_pairs)\n",
    "print(features, labels, image_name)\n",
    "\n",
    "# Encode labels\n",
    "le = LabelEncoder()\n",
    "encoded_labels = le.fit_transform(labels)\n",
    "\n",
    "# Create DataFrame\n",
    "dataset = pd.DataFrame({\n",
    "    'Coast_blue': features[:, 0],\n",
    "    'Blue': features[:, 1],\n",
    "    'Green1': features[:, 2],\n",
    "    'Green': features[:, 3],\n",
    "    'Yellow': features[:, 4],\n",
    "    'Red': features[:, 5],\n",
    "    'Red_edge': features[:, 6],\n",
    "    'NIR': features[:, 7],\n",
    "    'labels': labels,\n",
    "    'encoded_labels': encoded_labels,\n",
    "    'image_name': image_name\n",
    "})\n"
   ],
   "metadata": {
    "collapsed": false,
    "ExecuteTime": {
     "end_time": "2024-06-23T08:28:26.898281300Z",
     "start_time": "2024-06-23T08:28:20.849728200Z"
    }
   },
   "id": "ca83ae200db5174b",
   "execution_count": 4
  },
  {
   "cell_type": "code",
   "outputs": [],
   "source": [
    "# Custom function to ensure each island and rare classes are in the train set\n",
    "def custom_train_test_split(df, test_size=0.2):\n",
    "    skf = StratifiedKFold(n_splits=int(1/test_size), shuffle=True, random_state=42)\n",
    "    for train_index, test_index in skf.split(df, df['encoded_labels']):\n",
    "        train_df = df.iloc[train_index]\n",
    "        test_df = df.iloc[test_index]\n",
    "        # Ensure that rare classes are in the training set\n",
    "        if not all(cls in train_df['encoded_labels'].values for cls in [le.transform(['walrus_pure'])[0], le.transform(['walrus_mixed'])[0]]):\n",
    "            continue\n",
    "        # Ensure each island is in the training set\n",
    "        unique_islands = df['image_name'].apply(lambda x: extract_island_and_date(x)[0]).unique()\n",
    "        if all(island in train_df['image_name'].apply(lambda x: extract_island_and_date(x)[0]).unique() for island in unique_islands):\n",
    "            return train_df, test_df\n",
    "    return train_df, test_df\n",
    "\n",
    "# Split the data\n",
    "train_df, test_df = custom_train_test_split(dataset)\n",
    "X_train, y_train = train_df.drop(columns=['labels', 'encoded_labels', 'image_name']).values, train_df['encoded_labels'].values\n",
    "X_test, y_test = test_df.drop(columns=['labels', 'encoded_labels', 'image_name']).values, test_df['encoded_labels'].values"
   ],
   "metadata": {
    "collapsed": false,
    "ExecuteTime": {
     "end_time": "2024-06-23T08:29:00.836560800Z",
     "start_time": "2024-06-23T08:28:28.896962400Z"
    }
   },
   "id": "9751d00ba7f9e40a",
   "execution_count": 5
  },
  {
   "cell_type": "code",
   "outputs": [
    {
     "name": "stdout",
     "output_type": "stream",
     "text": [
      "\n",
      "Training Class Distribution:\n",
      "ocean: 623431\n",
      "ice: 240185\n",
      "rock: 74284\n",
      "freshwater: 32201\n",
      "walrus_mixed: 657\n",
      "walrus_pure: 38\n",
      "\n",
      "Test Class Distribution:\n",
      "ocean: 155857\n",
      "ice: 60046\n",
      "rock: 18572\n",
      "freshwater: 8050\n",
      "walrus_mixed: 165\n",
      "walrus_pure: 10\n"
     ]
    }
   ],
   "source": [
    "# Calculate and print the number of pixels for each class in the training and test datasets\n",
    "def print_class_distribution(df, name):\n",
    "    class_counts = df['encoded_labels'].value_counts()\n",
    "    class_names = le.inverse_transform(class_counts.index)\n",
    "    print(f\"\\n{name} Class Distribution:\")\n",
    "    for class_name, count in zip(class_names, class_counts):\n",
    "        print(f\"{class_name}: {count}\")\n",
    "\n",
    "# Calculate class distributions\n",
    "print_class_distribution(train_df, \"Training\")\n",
    "print_class_distribution(test_df, \"Test\")"
   ],
   "metadata": {
    "collapsed": false,
    "ExecuteTime": {
     "end_time": "2024-06-23T08:29:02.910816300Z",
     "start_time": "2024-06-23T08:29:02.853276600Z"
    }
   },
   "id": "c894861e32f9d8c1",
   "execution_count": 6
  },
  {
   "cell_type": "code",
   "outputs": [],
   "source": [
    "# Calculate and print the number of pixels from each island in the test dataset\n",
    "def print_island_distribution(df):\n",
    "    islands = df['image_name'].apply(lambda x: extract_island_and_date(os.path.basename(x))[0])\n",
    "    island_counts = islands.value_counts()\n",
    "    print(\"\\nTest Dataset Island Distribution:\")\n",
    "    for island, count in island_counts.items():\n",
    "        print(f\"{island}: {count}\")"
   ],
   "metadata": {
    "collapsed": false,
    "ExecuteTime": {
     "end_time": "2024-06-23T08:29:13.011705100Z",
     "start_time": "2024-06-23T08:29:12.998561700Z"
    }
   },
   "id": "c687904689f81e9e",
   "execution_count": 7
  },
  {
   "cell_type": "code",
   "outputs": [
    {
     "name": "stdout",
     "output_type": "stream",
     "text": [
      "\n",
      "Test Dataset Island Distribution:\n",
      "buch: 110509\n",
      "tor: 54748\n",
      "pal: 34007\n",
      "sars: 30084\n",
      "moff: 13352\n",
      "\n",
      "Test Dataset Image Names and Pixel Counts:\n",
      "Image: buch_20230714_image.tif, Pixels: 23561\n",
      "Image: buch_20230720_image.tif, Pixels: 37126\n",
      "Image: buch_20230731_image.tif, Pixels: 34912\n",
      "Image: buch_20230923_image.tif, Pixels: 14910\n",
      "Image: moff_20230717_image.tif, Pixels: 13352\n",
      "Image: pal_20230714_image.tif, Pixels: 12674\n",
      "Image: pal_20230720_image.tif, Pixels: 5710\n",
      "Image: pal_20230726_image.tif, Pixels: 15623\n",
      "Image: sars_20230714_image.tif, Pixels: 14871\n",
      "Image: sars_20230803_image.tif, Pixels: 15213\n",
      "Image: tor_20230801_image.tif, Pixels: 14920\n",
      "Image: tor_20230824_image.tif, Pixels: 12097\n",
      "Image: tor_20230901_image.tif, Pixels: 16752\n",
      "Image: tor_20230902_image.tif, Pixels: 10979\n"
     ]
    }
   ],
   "source": [
    "# Print image names used in the test data and the number of pixels from each island\n",
    "def print_test_images_info(df):\n",
    "    print(\"\\nTest Dataset Image Names and Pixel Counts:\")\n",
    "    image_names = df['image_name'].unique()\n",
    "    for image_name in image_names:\n",
    "        image_pixel_count = (df['image_name'] == image_name).sum()\n",
    "        print(f\"Image: {os.path.basename(image_name)}, Pixels: {image_pixel_count}\")\n",
    "\n",
    "# Print island distribution and test images info\n",
    "print_island_distribution(test_df)\n",
    "print_test_images_info(test_df)"
   ],
   "metadata": {
    "collapsed": false,
    "ExecuteTime": {
     "end_time": "2024-06-23T08:29:19.013879300Z",
     "start_time": "2024-06-23T08:29:16.646923200Z"
    }
   },
   "id": "6ac2384999cad9c1",
   "execution_count": 8
  },
  {
   "cell_type": "code",
   "outputs": [
    {
     "name": "stdout",
     "output_type": "stream",
     "text": [
      "\n",
      "Class Distribution Table:\n",
      "          Class   Count\n",
      "0         ocean  623431\n",
      "1           ice  240185\n",
      "2          rock   74284\n",
      "3    freshwater   32201\n",
      "4  walrus_mixed     657\n",
      "5   walrus_pure      38\n"
     ]
    },
    {
     "ename": "ValueError",
     "evalue": "Could not interpret value `labels` for `x`. An entry with this name does not appear in `data`.",
     "output_type": "error",
     "traceback": [
      "\u001B[1;31m---------------------------------------------------------------------------\u001B[0m",
      "\u001B[1;31mValueError\u001B[0m                                Traceback (most recent call last)",
      "Cell \u001B[1;32mIn[9], line 15\u001B[0m\n\u001B[0;32m     12\u001B[0m     plt\u001B[38;5;241m.\u001B[39mtitle(\u001B[38;5;124m\"\u001B[39m\u001B[38;5;124mClass Distribution\u001B[39m\u001B[38;5;124m\"\u001B[39m)\n\u001B[0;32m     13\u001B[0m     plt\u001B[38;5;241m.\u001B[39mshow()\n\u001B[1;32m---> 15\u001B[0m \u001B[43mvisualize_class_distribution\u001B[49m\u001B[43m(\u001B[49m\u001B[43mtrain_df\u001B[49m\u001B[43m)\u001B[49m\n\u001B[0;32m     16\u001B[0m visualize_class_distribution(test_df)\n",
      "Cell \u001B[1;32mIn[9], line 11\u001B[0m, in \u001B[0;36mvisualize_class_distribution\u001B[1;34m(df)\u001B[0m\n\u001B[0;32m      8\u001B[0m \u001B[38;5;28mprint\u001B[39m(class_dist_df)\n\u001B[0;32m     10\u001B[0m plt\u001B[38;5;241m.\u001B[39mfigure(figsize\u001B[38;5;241m=\u001B[39m(\u001B[38;5;241m10\u001B[39m, \u001B[38;5;241m6\u001B[39m))\n\u001B[1;32m---> 11\u001B[0m \u001B[43msns\u001B[49m\u001B[38;5;241;43m.\u001B[39;49m\u001B[43mboxplot\u001B[49m\u001B[43m(\u001B[49m\u001B[43mx\u001B[49m\u001B[38;5;241;43m=\u001B[39;49m\u001B[38;5;124;43m'\u001B[39;49m\u001B[38;5;124;43mlabels\u001B[39;49m\u001B[38;5;124;43m'\u001B[39;49m\u001B[43m,\u001B[49m\u001B[43m \u001B[49m\u001B[43my\u001B[49m\u001B[38;5;241;43m=\u001B[39;49m\u001B[38;5;124;43m'\u001B[39;49m\u001B[38;5;124;43mCount\u001B[39;49m\u001B[38;5;124;43m'\u001B[39;49m\u001B[43m,\u001B[49m\u001B[43m \u001B[49m\u001B[43mdata\u001B[49m\u001B[38;5;241;43m=\u001B[39;49m\u001B[43mclass_dist_df\u001B[49m\u001B[43m)\u001B[49m\n\u001B[0;32m     12\u001B[0m plt\u001B[38;5;241m.\u001B[39mtitle(\u001B[38;5;124m\"\u001B[39m\u001B[38;5;124mClass Distribution\u001B[39m\u001B[38;5;124m\"\u001B[39m)\n\u001B[0;32m     13\u001B[0m plt\u001B[38;5;241m.\u001B[39mshow()\n",
      "File \u001B[1;32m~\\Documents\\walrus_code\\.venv\\lib\\site-packages\\seaborn\\categorical.py:1597\u001B[0m, in \u001B[0;36mboxplot\u001B[1;34m(data, x, y, hue, order, hue_order, orient, color, palette, saturation, fill, dodge, width, gap, whis, linecolor, linewidth, fliersize, hue_norm, native_scale, log_scale, formatter, legend, ax, **kwargs)\u001B[0m\n\u001B[0;32m   1589\u001B[0m \u001B[38;5;28;01mdef\u001B[39;00m \u001B[38;5;21mboxplot\u001B[39m(\n\u001B[0;32m   1590\u001B[0m     data\u001B[38;5;241m=\u001B[39m\u001B[38;5;28;01mNone\u001B[39;00m, \u001B[38;5;241m*\u001B[39m, x\u001B[38;5;241m=\u001B[39m\u001B[38;5;28;01mNone\u001B[39;00m, y\u001B[38;5;241m=\u001B[39m\u001B[38;5;28;01mNone\u001B[39;00m, hue\u001B[38;5;241m=\u001B[39m\u001B[38;5;28;01mNone\u001B[39;00m, order\u001B[38;5;241m=\u001B[39m\u001B[38;5;28;01mNone\u001B[39;00m, hue_order\u001B[38;5;241m=\u001B[39m\u001B[38;5;28;01mNone\u001B[39;00m,\n\u001B[0;32m   1591\u001B[0m     orient\u001B[38;5;241m=\u001B[39m\u001B[38;5;28;01mNone\u001B[39;00m, color\u001B[38;5;241m=\u001B[39m\u001B[38;5;28;01mNone\u001B[39;00m, palette\u001B[38;5;241m=\u001B[39m\u001B[38;5;28;01mNone\u001B[39;00m, saturation\u001B[38;5;241m=\u001B[39m\u001B[38;5;241m.75\u001B[39m, fill\u001B[38;5;241m=\u001B[39m\u001B[38;5;28;01mTrue\u001B[39;00m,\n\u001B[1;32m   (...)\u001B[0m\n\u001B[0;32m   1594\u001B[0m     legend\u001B[38;5;241m=\u001B[39m\u001B[38;5;124m\"\u001B[39m\u001B[38;5;124mauto\u001B[39m\u001B[38;5;124m\"\u001B[39m, ax\u001B[38;5;241m=\u001B[39m\u001B[38;5;28;01mNone\u001B[39;00m, \u001B[38;5;241m*\u001B[39m\u001B[38;5;241m*\u001B[39mkwargs\n\u001B[0;32m   1595\u001B[0m ):\n\u001B[1;32m-> 1597\u001B[0m     p \u001B[38;5;241m=\u001B[39m \u001B[43m_CategoricalPlotter\u001B[49m\u001B[43m(\u001B[49m\n\u001B[0;32m   1598\u001B[0m \u001B[43m        \u001B[49m\u001B[43mdata\u001B[49m\u001B[38;5;241;43m=\u001B[39;49m\u001B[43mdata\u001B[49m\u001B[43m,\u001B[49m\n\u001B[0;32m   1599\u001B[0m \u001B[43m        \u001B[49m\u001B[43mvariables\u001B[49m\u001B[38;5;241;43m=\u001B[39;49m\u001B[38;5;28;43mdict\u001B[39;49m\u001B[43m(\u001B[49m\u001B[43mx\u001B[49m\u001B[38;5;241;43m=\u001B[39;49m\u001B[43mx\u001B[49m\u001B[43m,\u001B[49m\u001B[43m \u001B[49m\u001B[43my\u001B[49m\u001B[38;5;241;43m=\u001B[39;49m\u001B[43my\u001B[49m\u001B[43m,\u001B[49m\u001B[43m \u001B[49m\u001B[43mhue\u001B[49m\u001B[38;5;241;43m=\u001B[39;49m\u001B[43mhue\u001B[49m\u001B[43m)\u001B[49m\u001B[43m,\u001B[49m\n\u001B[0;32m   1600\u001B[0m \u001B[43m        \u001B[49m\u001B[43morder\u001B[49m\u001B[38;5;241;43m=\u001B[39;49m\u001B[43morder\u001B[49m\u001B[43m,\u001B[49m\n\u001B[0;32m   1601\u001B[0m \u001B[43m        \u001B[49m\u001B[43morient\u001B[49m\u001B[38;5;241;43m=\u001B[39;49m\u001B[43morient\u001B[49m\u001B[43m,\u001B[49m\n\u001B[0;32m   1602\u001B[0m \u001B[43m        \u001B[49m\u001B[43mcolor\u001B[49m\u001B[38;5;241;43m=\u001B[39;49m\u001B[43mcolor\u001B[49m\u001B[43m,\u001B[49m\n\u001B[0;32m   1603\u001B[0m \u001B[43m        \u001B[49m\u001B[43mlegend\u001B[49m\u001B[38;5;241;43m=\u001B[39;49m\u001B[43mlegend\u001B[49m\u001B[43m,\u001B[49m\n\u001B[0;32m   1604\u001B[0m \u001B[43m    \u001B[49m\u001B[43m)\u001B[49m\n\u001B[0;32m   1606\u001B[0m     \u001B[38;5;28;01mif\u001B[39;00m ax \u001B[38;5;129;01mis\u001B[39;00m \u001B[38;5;28;01mNone\u001B[39;00m:\n\u001B[0;32m   1607\u001B[0m         ax \u001B[38;5;241m=\u001B[39m plt\u001B[38;5;241m.\u001B[39mgca()\n",
      "File \u001B[1;32m~\\Documents\\walrus_code\\.venv\\lib\\site-packages\\seaborn\\categorical.py:67\u001B[0m, in \u001B[0;36m_CategoricalPlotter.__init__\u001B[1;34m(self, data, variables, order, orient, require_numeric, color, legend)\u001B[0m\n\u001B[0;32m     56\u001B[0m \u001B[38;5;28;01mdef\u001B[39;00m \u001B[38;5;21m__init__\u001B[39m(\n\u001B[0;32m     57\u001B[0m     \u001B[38;5;28mself\u001B[39m,\n\u001B[0;32m     58\u001B[0m     data\u001B[38;5;241m=\u001B[39m\u001B[38;5;28;01mNone\u001B[39;00m,\n\u001B[1;32m   (...)\u001B[0m\n\u001B[0;32m     64\u001B[0m     legend\u001B[38;5;241m=\u001B[39m\u001B[38;5;124m\"\u001B[39m\u001B[38;5;124mauto\u001B[39m\u001B[38;5;124m\"\u001B[39m,\n\u001B[0;32m     65\u001B[0m ):\n\u001B[1;32m---> 67\u001B[0m     \u001B[38;5;28;43msuper\u001B[39;49m\u001B[43m(\u001B[49m\u001B[43m)\u001B[49m\u001B[38;5;241;43m.\u001B[39;49m\u001B[38;5;21;43m__init__\u001B[39;49m\u001B[43m(\u001B[49m\u001B[43mdata\u001B[49m\u001B[38;5;241;43m=\u001B[39;49m\u001B[43mdata\u001B[49m\u001B[43m,\u001B[49m\u001B[43m \u001B[49m\u001B[43mvariables\u001B[49m\u001B[38;5;241;43m=\u001B[39;49m\u001B[43mvariables\u001B[49m\u001B[43m)\u001B[49m\n\u001B[0;32m     69\u001B[0m     \u001B[38;5;66;03m# This method takes care of some bookkeeping that is necessary because the\u001B[39;00m\n\u001B[0;32m     70\u001B[0m     \u001B[38;5;66;03m# original categorical plots (prior to the 2021 refactor) had some rules that\u001B[39;00m\n\u001B[0;32m     71\u001B[0m     \u001B[38;5;66;03m# don't fit exactly into VectorPlotter logic. It may be wise to have a second\u001B[39;00m\n\u001B[1;32m   (...)\u001B[0m\n\u001B[0;32m     76\u001B[0m     \u001B[38;5;66;03m# default VectorPlotter rules. If we do decide to make orient part of the\u001B[39;00m\n\u001B[0;32m     77\u001B[0m     \u001B[38;5;66;03m# _base variable assignment, we'll want to figure out how to express that.\u001B[39;00m\n\u001B[0;32m     78\u001B[0m     \u001B[38;5;28;01mif\u001B[39;00m \u001B[38;5;28mself\u001B[39m\u001B[38;5;241m.\u001B[39minput_format \u001B[38;5;241m==\u001B[39m \u001B[38;5;124m\"\u001B[39m\u001B[38;5;124mwide\u001B[39m\u001B[38;5;124m\"\u001B[39m \u001B[38;5;129;01mand\u001B[39;00m orient \u001B[38;5;129;01min\u001B[39;00m [\u001B[38;5;124m\"\u001B[39m\u001B[38;5;124mh\u001B[39m\u001B[38;5;124m\"\u001B[39m, \u001B[38;5;124m\"\u001B[39m\u001B[38;5;124my\u001B[39m\u001B[38;5;124m\"\u001B[39m]:\n",
      "File \u001B[1;32m~\\Documents\\walrus_code\\.venv\\lib\\site-packages\\seaborn\\_base.py:634\u001B[0m, in \u001B[0;36mVectorPlotter.__init__\u001B[1;34m(self, data, variables)\u001B[0m\n\u001B[0;32m    629\u001B[0m \u001B[38;5;66;03m# var_ordered is relevant only for categorical axis variables, and may\u001B[39;00m\n\u001B[0;32m    630\u001B[0m \u001B[38;5;66;03m# be better handled by an internal axis information object that tracks\u001B[39;00m\n\u001B[0;32m    631\u001B[0m \u001B[38;5;66;03m# such information and is set up by the scale_* methods. The analogous\u001B[39;00m\n\u001B[0;32m    632\u001B[0m \u001B[38;5;66;03m# information for numeric axes would be information about log scales.\u001B[39;00m\n\u001B[0;32m    633\u001B[0m \u001B[38;5;28mself\u001B[39m\u001B[38;5;241m.\u001B[39m_var_ordered \u001B[38;5;241m=\u001B[39m {\u001B[38;5;124m\"\u001B[39m\u001B[38;5;124mx\u001B[39m\u001B[38;5;124m\"\u001B[39m: \u001B[38;5;28;01mFalse\u001B[39;00m, \u001B[38;5;124m\"\u001B[39m\u001B[38;5;124my\u001B[39m\u001B[38;5;124m\"\u001B[39m: \u001B[38;5;28;01mFalse\u001B[39;00m}  \u001B[38;5;66;03m# alt., used DefaultDict\u001B[39;00m\n\u001B[1;32m--> 634\u001B[0m \u001B[38;5;28;43mself\u001B[39;49m\u001B[38;5;241;43m.\u001B[39;49m\u001B[43massign_variables\u001B[49m\u001B[43m(\u001B[49m\u001B[43mdata\u001B[49m\u001B[43m,\u001B[49m\u001B[43m \u001B[49m\u001B[43mvariables\u001B[49m\u001B[43m)\u001B[49m\n\u001B[0;32m    636\u001B[0m \u001B[38;5;66;03m# TODO Lots of tests assume that these are called to initialize the\u001B[39;00m\n\u001B[0;32m    637\u001B[0m \u001B[38;5;66;03m# mappings to default values on class initialization. I'd prefer to\u001B[39;00m\n\u001B[0;32m    638\u001B[0m \u001B[38;5;66;03m# move away from that and only have a mapping when explicitly called.\u001B[39;00m\n\u001B[0;32m    639\u001B[0m \u001B[38;5;28;01mfor\u001B[39;00m var \u001B[38;5;129;01min\u001B[39;00m [\u001B[38;5;124m\"\u001B[39m\u001B[38;5;124mhue\u001B[39m\u001B[38;5;124m\"\u001B[39m, \u001B[38;5;124m\"\u001B[39m\u001B[38;5;124msize\u001B[39m\u001B[38;5;124m\"\u001B[39m, \u001B[38;5;124m\"\u001B[39m\u001B[38;5;124mstyle\u001B[39m\u001B[38;5;124m\"\u001B[39m]:\n",
      "File \u001B[1;32m~\\Documents\\walrus_code\\.venv\\lib\\site-packages\\seaborn\\_base.py:679\u001B[0m, in \u001B[0;36mVectorPlotter.assign_variables\u001B[1;34m(self, data, variables)\u001B[0m\n\u001B[0;32m    674\u001B[0m \u001B[38;5;28;01melse\u001B[39;00m:\n\u001B[0;32m    675\u001B[0m     \u001B[38;5;66;03m# When dealing with long-form input, use the newer PlotData\u001B[39;00m\n\u001B[0;32m    676\u001B[0m     \u001B[38;5;66;03m# object (internal but introduced for the objects interface)\u001B[39;00m\n\u001B[0;32m    677\u001B[0m     \u001B[38;5;66;03m# to centralize / standardize data consumption logic.\u001B[39;00m\n\u001B[0;32m    678\u001B[0m     \u001B[38;5;28mself\u001B[39m\u001B[38;5;241m.\u001B[39minput_format \u001B[38;5;241m=\u001B[39m \u001B[38;5;124m\"\u001B[39m\u001B[38;5;124mlong\u001B[39m\u001B[38;5;124m\"\u001B[39m\n\u001B[1;32m--> 679\u001B[0m     plot_data \u001B[38;5;241m=\u001B[39m \u001B[43mPlotData\u001B[49m\u001B[43m(\u001B[49m\u001B[43mdata\u001B[49m\u001B[43m,\u001B[49m\u001B[43m \u001B[49m\u001B[43mvariables\u001B[49m\u001B[43m)\u001B[49m\n\u001B[0;32m    680\u001B[0m     frame \u001B[38;5;241m=\u001B[39m plot_data\u001B[38;5;241m.\u001B[39mframe\n\u001B[0;32m    681\u001B[0m     names \u001B[38;5;241m=\u001B[39m plot_data\u001B[38;5;241m.\u001B[39mnames\n",
      "File \u001B[1;32m~\\Documents\\walrus_code\\.venv\\lib\\site-packages\\seaborn\\_core\\data.py:58\u001B[0m, in \u001B[0;36mPlotData.__init__\u001B[1;34m(self, data, variables)\u001B[0m\n\u001B[0;32m     51\u001B[0m \u001B[38;5;28;01mdef\u001B[39;00m \u001B[38;5;21m__init__\u001B[39m(\n\u001B[0;32m     52\u001B[0m     \u001B[38;5;28mself\u001B[39m,\n\u001B[0;32m     53\u001B[0m     data: DataSource,\n\u001B[0;32m     54\u001B[0m     variables: \u001B[38;5;28mdict\u001B[39m[\u001B[38;5;28mstr\u001B[39m, VariableSpec],\n\u001B[0;32m     55\u001B[0m ):\n\u001B[0;32m     57\u001B[0m     data \u001B[38;5;241m=\u001B[39m handle_data_source(data)\n\u001B[1;32m---> 58\u001B[0m     frame, names, ids \u001B[38;5;241m=\u001B[39m \u001B[38;5;28;43mself\u001B[39;49m\u001B[38;5;241;43m.\u001B[39;49m\u001B[43m_assign_variables\u001B[49m\u001B[43m(\u001B[49m\u001B[43mdata\u001B[49m\u001B[43m,\u001B[49m\u001B[43m \u001B[49m\u001B[43mvariables\u001B[49m\u001B[43m)\u001B[49m\n\u001B[0;32m     60\u001B[0m     \u001B[38;5;28mself\u001B[39m\u001B[38;5;241m.\u001B[39mframe \u001B[38;5;241m=\u001B[39m frame\n\u001B[0;32m     61\u001B[0m     \u001B[38;5;28mself\u001B[39m\u001B[38;5;241m.\u001B[39mnames \u001B[38;5;241m=\u001B[39m names\n",
      "File \u001B[1;32m~\\Documents\\walrus_code\\.venv\\lib\\site-packages\\seaborn\\_core\\data.py:232\u001B[0m, in \u001B[0;36mPlotData._assign_variables\u001B[1;34m(self, data, variables)\u001B[0m\n\u001B[0;32m    230\u001B[0m     \u001B[38;5;28;01melse\u001B[39;00m:\n\u001B[0;32m    231\u001B[0m         err \u001B[38;5;241m+\u001B[39m\u001B[38;5;241m=\u001B[39m \u001B[38;5;124m\"\u001B[39m\u001B[38;5;124mAn entry with this name does not appear in `data`.\u001B[39m\u001B[38;5;124m\"\u001B[39m\n\u001B[1;32m--> 232\u001B[0m     \u001B[38;5;28;01mraise\u001B[39;00m \u001B[38;5;167;01mValueError\u001B[39;00m(err)\n\u001B[0;32m    234\u001B[0m \u001B[38;5;28;01melse\u001B[39;00m:\n\u001B[0;32m    235\u001B[0m \n\u001B[0;32m    236\u001B[0m     \u001B[38;5;66;03m# Otherwise, assume the value somehow represents data\u001B[39;00m\n\u001B[0;32m    237\u001B[0m \n\u001B[0;32m    238\u001B[0m     \u001B[38;5;66;03m# Ignore empty data structures\u001B[39;00m\n\u001B[0;32m    239\u001B[0m     \u001B[38;5;28;01mif\u001B[39;00m \u001B[38;5;28misinstance\u001B[39m(val, Sized) \u001B[38;5;129;01mand\u001B[39;00m \u001B[38;5;28mlen\u001B[39m(val) \u001B[38;5;241m==\u001B[39m \u001B[38;5;241m0\u001B[39m:\n",
      "\u001B[1;31mValueError\u001B[0m: Could not interpret value `labels` for `x`. An entry with this name does not appear in `data`."
     ]
    },
    {
     "data": {
      "text/plain": "<Figure size 1000x600 with 0 Axes>"
     },
     "metadata": {},
     "output_type": "display_data"
    }
   ],
   "source": [
    "# Visualize class distribution as a table and boxplot\n",
    "def visualize_class_distribution(df):\n",
    "    class_counts = df['encoded_labels'].value_counts()\n",
    "    class_names = le.inverse_transform(class_counts.index)\n",
    "    class_dist_df = pd.DataFrame({'Class': class_names, 'Count': class_counts.values})\n",
    "\n",
    "    print(\"\\nClass Distribution Table:\")\n",
    "    print(class_dist_df)\n",
    "\n",
    "    plt.figure(figsize=(10, 6))\n",
    "    sns.boxplot(x='labels', y='Count', data=class_dist_df)\n",
    "    plt.title(\"Class Distribution\")\n",
    "    plt.show()\n",
    "\n",
    "visualize_class_distribution(train_df)\n",
    "visualize_class_distribution(test_df)\n"
   ],
   "metadata": {
    "collapsed": false,
    "ExecuteTime": {
     "end_time": "2024-06-23T08:29:30.358466300Z",
     "start_time": "2024-06-23T08:29:28.023757100Z"
    }
   },
   "id": "b0fd8f54acd675f5",
   "execution_count": 9
  },
  {
   "cell_type": "markdown",
   "source": [],
   "metadata": {
    "collapsed": false
   },
   "id": "465a6a7a81f57e03"
  },
  {
   "cell_type": "markdown",
   "source": [],
   "metadata": {
    "collapsed": false
   },
   "id": "86d337a21af20f8c"
  },
  {
   "cell_type": "markdown",
   "source": [
    "SMOTE"
   ],
   "metadata": {
    "collapsed": false
   },
   "id": "ce8efc9ca27d98d8"
  },
  {
   "cell_type": "code",
   "outputs": [],
   "source": [
    "# Split the data\n",
    "train_df1, test_df1 = custom_train_test_split(dataset)\n",
    "\n",
    "# Apply SMOTE to the training data\n",
    "def apply_smote(train_df1):\n",
    "    smote = SMOTE(random_state=42)\n",
    "    X_train1 = train_df1.drop(columns=['labels', 'encoded_labels', 'image_name']).values\n",
    "    y_train1 = train_df1['encoded_labels'].values\n",
    "    X_train_smote, y_train_smote = smote.fit_resample(X_train1, y_train1)\n",
    "    return X_train_smote, y_train_smote\n",
    "\n",
    "X_train_smote, y_train_smote = apply_smote(train_df1)\n",
    "\n",
    "X_test1, y_test1 = test_df.drop(columns=['labels', 'encoded_labels', 'image_name']).values, test_df['encoded_labels'].values"
   ],
   "metadata": {
    "collapsed": false,
    "ExecuteTime": {
     "end_time": "2024-06-23T08:38:05.003986600Z",
     "start_time": "2024-06-23T08:37:22.588001400Z"
    }
   },
   "id": "5fe9edf511c03788",
   "execution_count": 11
  },
  {
   "cell_type": "code",
   "outputs": [
    {
     "name": "stdout",
     "output_type": "stream",
     "text": [
      "\n",
      "Original Training Class Distribution:\n",
      "ocean: 623431\n",
      "ice: 240185\n",
      "rock: 74284\n",
      "freshwater: 32201\n",
      "walrus_mixed: 657\n",
      "walrus_pure: 38\n",
      "\n",
      "SMOTE-applied Training Class Distribution:\n",
      "walrus_mixed: 623431\n",
      "ocean: 623431\n",
      "rock: 623431\n",
      "freshwater: 623431\n",
      "ice: 623431\n",
      "walrus_pure: 623431\n",
      "\n",
      "Test Class Distribution:\n",
      "ocean: 155857\n",
      "ice: 60046\n",
      "rock: 18572\n",
      "freshwater: 8050\n",
      "walrus_mixed: 165\n",
      "walrus_pure: 10\n"
     ]
    },
    {
     "ename": "TypeError",
     "evalue": "print_class_distribution() takes 2 positional arguments but 3 were given",
     "output_type": "error",
     "traceback": [
      "\u001B[1;31m---------------------------------------------------------------------------\u001B[0m",
      "\u001B[1;31mTypeError\u001B[0m                                 Traceback (most recent call last)",
      "Cell \u001B[1;32mIn[14], line 20\u001B[0m\n\u001B[0;32m     15\u001B[0m print_class_distribution(y_test1, \u001B[38;5;124m\"\u001B[39m\u001B[38;5;124mTest\u001B[39m\u001B[38;5;124m\"\u001B[39m)\n\u001B[0;32m     19\u001B[0m \u001B[38;5;66;03m# Print class distributions for the SMOTE-applied training data\u001B[39;00m\n\u001B[1;32m---> 20\u001B[0m \u001B[43mprint_class_distribution\u001B[49m\u001B[43m(\u001B[49m\u001B[43mX_train_smote\u001B[49m\u001B[43m,\u001B[49m\u001B[43m \u001B[49m\u001B[43my_train_smote\u001B[49m\u001B[43m,\u001B[49m\u001B[43m \u001B[49m\u001B[38;5;124;43m\"\u001B[39;49m\u001B[38;5;124;43mSMOTE-applied Training\u001B[39;49m\u001B[38;5;124;43m\"\u001B[39;49m\u001B[43m)\u001B[49m\n\u001B[0;32m     22\u001B[0m \u001B[38;5;66;03m# Print class distributions for the test data\u001B[39;00m\n\u001B[0;32m     23\u001B[0m print_class_distribution(X_test1, y_test1, \u001B[38;5;124m\"\u001B[39m\u001B[38;5;124mTest\u001B[39m\u001B[38;5;124m\"\u001B[39m)\n",
      "\u001B[1;31mTypeError\u001B[0m: print_class_distribution() takes 2 positional arguments but 3 were given"
     ]
    }
   ],
   "source": [
    "def print_class_distribution(labels, name):\n",
    "    class_counts = pd.Series(labels).value_counts()\n",
    "    class_names = le.inverse_transform(class_counts.index)\n",
    "    print(f\"\\n{name} Class Distribution:\")\n",
    "    for class_name, count in zip(class_names, class_counts):\n",
    "        print(f\"{class_name}: {count}\")\n",
    "# Print class distributions for the original training data\n",
    "print_class_distribution(train_df['encoded_labels'].values, \"Original Training\")\n",
    "\n",
    "\n",
    "# Print class distributions for the SMOTE-applied training data\n",
    "print_class_distribution(y_train_smote, \"SMOTE-applied Training\")\n",
    "\n",
    "# Print class distributions for the test data\n",
    "print_class_distribution(y_test1, \"Test\")\n",
    "\n",
    "\n",
    "\n",
    "# Print class distributions for the SMOTE-applied training data\n",
    "print_class_distribution(X_train_smote, y_train_smote, \"SMOTE-applied Training\")\n",
    "\n",
    "# Print class distributions for the test data\n",
    "print_class_distribution(X_test1, y_test1, \"Test\")"
   ],
   "metadata": {
    "collapsed": false,
    "ExecuteTime": {
     "end_time": "2024-06-23T08:42:00.813175400Z",
     "start_time": "2024-06-23T08:42:00.727079600Z"
    }
   },
   "id": "887dd44b16f057e8",
   "execution_count": 14
  },
  {
   "cell_type": "code",
   "outputs": [
    {
     "name": "stdout",
     "output_type": "stream",
     "text": [
      "\n",
      "Test Dataset Island Distribution:\n",
      "buch: 110509\n",
      "tor: 54748\n",
      "pal: 34007\n",
      "sars: 30084\n",
      "moff: 13352\n",
      "\n",
      "Test Dataset Image Names and Pixel Counts:\n",
      "Image: buch_20230714_image.tif, Pixels: 23561\n",
      "Image: buch_20230720_image.tif, Pixels: 37126\n",
      "Image: buch_20230731_image.tif, Pixels: 34912\n",
      "Image: buch_20230923_image.tif, Pixels: 14910\n",
      "Image: moff_20230717_image.tif, Pixels: 13352\n",
      "Image: pal_20230714_image.tif, Pixels: 12674\n",
      "Image: pal_20230720_image.tif, Pixels: 5710\n",
      "Image: pal_20230726_image.tif, Pixels: 15623\n",
      "Image: sars_20230714_image.tif, Pixels: 14871\n",
      "Image: sars_20230803_image.tif, Pixels: 15213\n",
      "Image: tor_20230801_image.tif, Pixels: 14920\n",
      "Image: tor_20230824_image.tif, Pixels: 12097\n",
      "Image: tor_20230901_image.tif, Pixels: 16752\n",
      "Image: tor_20230902_image.tif, Pixels: 10979\n"
     ]
    }
   ],
   "source": [
    "# Calculate and print the number of pixels from each island in the test dataset\n",
    "def print_island_distribution(df):\n",
    "    islands = df['image_name'].apply(lambda x: extract_island_and_date(os.path.basename(x))[0])\n",
    "    island_counts = islands.value_counts()\n",
    "    print(\"\\nTest Dataset Island Distribution:\")\n",
    "    for island, count in island_counts.items():\n",
    "        print(f\"{island}: {count}\")\n",
    "\n",
    "# Print image names used in the test data and the number of pixels from each island\n",
    "def print_test_images_info(df):\n",
    "    print(\"\\nTest Dataset Image Names and Pixel Counts:\")\n",
    "    image_names = df['image_name'].unique()\n",
    "    for image_name in image_names:\n",
    "        image_pixel_count = (df['image_name'] == image_name).sum()\n",
    "        print(f\"Image: {os.path.basename(image_name)}, Pixels: {image_pixel_count}\")\n",
    "\n",
    "# Print island distribution and test images info\n",
    "print_island_distribution(test_df)\n",
    "print_test_images_info(test_df)"
   ],
   "metadata": {
    "collapsed": false,
    "ExecuteTime": {
     "end_time": "2024-06-23T08:54:46.351224700Z",
     "start_time": "2024-06-23T08:54:43.930570Z"
    }
   },
   "id": "71983a562869b224",
   "execution_count": 18
  },
  {
   "cell_type": "code",
   "outputs": [
    {
     "name": "stdout",
     "output_type": "stream",
     "text": [
      "\n",
      "Class Distribution Table:\n",
      "          Class   Count\n",
      "0         ocean  623431\n",
      "1           ice  240185\n",
      "2          rock   74284\n",
      "3    freshwater   32201\n",
      "4  walrus_mixed     657\n",
      "5   walrus_pure      38\n"
     ]
    },
    {
     "data": {
      "text/plain": "<Figure size 1000x600 with 1 Axes>",
      "image/png": "[encoded data removed]"
     },
     "metadata": {},
     "output_type": "display_data"
    }
   ],
   "source": [
    "# Visualize class distribution as a table and boxplot\n",
    "def visualize_class_distribution(df):\n",
    "    class_counts = df['encoded_labels'].value_counts()\n",
    "    class_names = le.inverse_transform(class_counts.index)\n",
    "    class_dist_df = pd.DataFrame({'Class': class_names, 'Count': class_counts.values})\n",
    "\n",
    "    print(\"\\nClass Distribution Table:\")\n",
    "    print(class_dist_df)\n",
    "\n",
    "    plt.figure(figsize=(10, 6))\n",
    "    sns.boxplot(x='Class', y='Count', data=class_dist_df)\n",
    "    plt.title(\"Class Distribution\")\n",
    "    plt.show()\n",
    "\n",
    "# Visualize original training data class distribution\n",
    "visualize_class_distribution(train_df)"
   ],
   "metadata": {
    "collapsed": false,
    "ExecuteTime": {
     "end_time": "2024-06-23T08:54:33.427177200Z",
     "start_time": "2024-06-23T08:54:33.210455100Z"
    }
   },
   "id": "950d10bacf8dd015",
   "execution_count": 17
  },
  {
   "cell_type": "code",
   "outputs": [
    {
     "name": "stdout",
     "output_type": "stream",
     "text": [
      "\n",
      "SMOTE Applied Training Data Class Distribution Table:\n",
      "          Class   Count\n",
      "0  walrus_mixed  623431\n",
      "1         ocean  623431\n",
      "2          rock  623431\n",
      "3    freshwater  623431\n",
      "4           ice  623431\n",
      "5   walrus_pure  623431\n"
     ]
    },
    {
     "data": {
      "text/plain": "<Figure size 1000x600 with 1 Axes>",
      "image/png": "[encoded data removed]"
     },
     "metadata": {},
     "output_type": "display_data"
    }
   ],
   "source": [
    "# Visualize SMOTE applied training data class distribution\n",
    "smote_class_counts = pd.Series(y_train_smote).value_counts()\n",
    "smote_class_names = le.inverse_transform(smote_class_counts.index)\n",
    "smote_class_dist_df = pd.DataFrame({'Class': smote_class_names, 'Count': smote_class_counts.values})\n",
    "\n",
    "print(\"\\nSMOTE Applied Training Data Class Distribution Table:\")\n",
    "print(smote_class_dist_df)\n",
    "\n",
    "plt.figure(figsize=(10, 6))\n",
    "sns.boxplot(x='Class', y='Count', data=smote_class_dist_df)\n",
    "plt.title(\"SMOTE Applied Training Data Class Distribution\")\n",
    "plt.show()"
   ],
   "metadata": {
    "collapsed": false,
    "ExecuteTime": {
     "end_time": "2024-06-23T08:54:23.166054100Z",
     "start_time": "2024-06-23T08:54:21.965874500Z"
    }
   },
   "id": "8996256b47050bae",
   "execution_count": 16
  },
  {
   "cell_type": "code",
   "outputs": [],
   "source": [
    "# Apply SMOTE to the training data and keep image names\n",
    "def apply_smote_with_images(train_df):\n",
    "    smote = SMOTE(random_state=42)\n",
    "    X_train = train_df.drop(columns=['labels', 'encoded_labels', 'image_name']).values\n",
    "    y_train = train_df['encoded_labels'].values\n",
    "    image_names = train_df['image_name'].values\n",
    "\n",
    "    X_train_smote, y_train_smote = smote.fit_resample(X_train, y_train)\n",
    "\n",
    "    # Create a DataFrame for SMOTE applied data with image names\n",
    "    smote_df = pd.DataFrame(X_train_smote, columns=train_df.drop(columns=['labels', 'encoded_labels', 'image_name']).columns)\n",
    "    smote_df['encoded_labels'] = y_train_smote\n",
    "    smote_df['image_name'] = np.repeat(image_names, smote.sample_indices_.shape[0] // len(image_names))\n",
    "\n",
    "    return smote_df"
   ],
   "metadata": {
    "collapsed": false,
    "ExecuteTime": {
     "end_time": "2024-06-23T09:04:31.357063100Z",
     "start_time": "2024-06-23T09:04:31.332654700Z"
    }
   },
   "id": "7bc4a960b39f0d3a",
   "execution_count": 19
  },
  {
   "cell_type": "code",
   "outputs": [],
   "source": [
    "# Ensure each island and rare classes are in the train set\n",
    "def custom_train_test_split(df, test_size=0.2):\n",
    "    skf = StratifiedKFold(n_splits=int(1/test_size), shuffle=True, random_state=42)\n",
    "    for train_index, test_index in skf.split(df, df['encoded_labels']):\n",
    "        train_df = df.iloc[train_index]\n",
    "        test_df = df.iloc[test_index]\n",
    "        # Ensure that rare classes are in the training set\n",
    "        if not all(cls in train_df['encoded_labels'].values for cls in [le.transform(['walrus_pure'])[0], le.transform(['walrus_mixed'])[0]]):\n",
    "            continue\n",
    "        # Ensure each island is in the training set\n",
    "        unique_islands = df['image_name'].apply(lambda x: extract_island_and_date(x)[0]).unique()\n",
    "        if all(island in train_df['image_name'].apply(lambda x: extract_island_and_date(x)[0]).unique() for island in unique_islands):\n",
    "            return train_df, test_df\n",
    "    return train_df, test_df\n"
   ],
   "metadata": {
    "collapsed": false,
    "ExecuteTime": {
     "end_time": "2024-06-23T09:04:32.430279300Z",
     "start_time": "2024-06-23T09:04:32.387468400Z"
    }
   },
   "id": "28ac59a976510abe",
   "execution_count": 20
  },
  {
   "cell_type": "code",
   "outputs": [
    {
     "ename": "ValueError",
     "evalue": "2",
     "output_type": "error",
     "traceback": [
      "\u001B[1;31m---------------------------------------------------------------------------\u001B[0m",
      "\u001B[1;31mValueError\u001B[0m                                Traceback (most recent call last)",
      "Cell \u001B[1;32mIn[21], line 7\u001B[0m\n\u001B[0;32m      4\u001B[0m X_test, y_test \u001B[38;5;241m=\u001B[39m test_df\u001B[38;5;241m.\u001B[39mdrop(columns\u001B[38;5;241m=\u001B[39m[\u001B[38;5;124m'\u001B[39m\u001B[38;5;124mlabels\u001B[39m\u001B[38;5;124m'\u001B[39m, \u001B[38;5;124m'\u001B[39m\u001B[38;5;124mencoded_labels\u001B[39m\u001B[38;5;124m'\u001B[39m, \u001B[38;5;124m'\u001B[39m\u001B[38;5;124mimage_name\u001B[39m\u001B[38;5;124m'\u001B[39m])\u001B[38;5;241m.\u001B[39mvalues, test_df[\u001B[38;5;124m'\u001B[39m\u001B[38;5;124mencoded_labels\u001B[39m\u001B[38;5;124m'\u001B[39m]\u001B[38;5;241m.\u001B[39mvalues\n\u001B[0;32m      6\u001B[0m \u001B[38;5;66;03m# Print class distributions before SMOTE\u001B[39;00m\n\u001B[1;32m----> 7\u001B[0m \u001B[43mprint_class_distribution\u001B[49m\u001B[43m(\u001B[49m\u001B[43mtrain_df\u001B[49m\u001B[43m,\u001B[49m\u001B[43m \u001B[49m\u001B[38;5;124;43m\"\u001B[39;49m\u001B[38;5;124;43mTraining Before SMOTE\u001B[39;49m\u001B[38;5;124;43m\"\u001B[39;49m\u001B[43m)\u001B[49m\n\u001B[0;32m      8\u001B[0m print_class_distribution(test_df, \u001B[38;5;124m\"\u001B[39m\u001B[38;5;124mTest\u001B[39m\u001B[38;5;124m\"\u001B[39m)\n",
      "Cell \u001B[1;32mIn[14], line 2\u001B[0m, in \u001B[0;36mprint_class_distribution\u001B[1;34m(labels, name)\u001B[0m\n\u001B[0;32m      1\u001B[0m \u001B[38;5;28;01mdef\u001B[39;00m \u001B[38;5;21mprint_class_distribution\u001B[39m(labels, name):\n\u001B[1;32m----> 2\u001B[0m     class_counts \u001B[38;5;241m=\u001B[39m \u001B[43mpd\u001B[49m\u001B[38;5;241;43m.\u001B[39;49m\u001B[43mSeries\u001B[49m\u001B[43m(\u001B[49m\u001B[43mlabels\u001B[49m\u001B[43m)\u001B[49m\u001B[38;5;241m.\u001B[39mvalue_counts()\n\u001B[0;32m      3\u001B[0m     class_names \u001B[38;5;241m=\u001B[39m le\u001B[38;5;241m.\u001B[39minverse_transform(class_counts\u001B[38;5;241m.\u001B[39mindex)\n\u001B[0;32m      4\u001B[0m     \u001B[38;5;28mprint\u001B[39m(\u001B[38;5;124mf\u001B[39m\u001B[38;5;124m\"\u001B[39m\u001B[38;5;130;01m\\n\u001B[39;00m\u001B[38;5;132;01m{\u001B[39;00mname\u001B[38;5;132;01m}\u001B[39;00m\u001B[38;5;124m Class Distribution:\u001B[39m\u001B[38;5;124m\"\u001B[39m)\n",
      "File \u001B[1;32m~\\Documents\\walrus_code\\.venv\\lib\\site-packages\\pandas\\core\\series.py:584\u001B[0m, in \u001B[0;36mSeries.__init__\u001B[1;34m(self, data, index, dtype, name, copy, fastpath)\u001B[0m\n\u001B[0;32m    582\u001B[0m         data \u001B[38;5;241m=\u001B[39m data\u001B[38;5;241m.\u001B[39mcopy()\n\u001B[0;32m    583\u001B[0m \u001B[38;5;28;01melse\u001B[39;00m:\n\u001B[1;32m--> 584\u001B[0m     data \u001B[38;5;241m=\u001B[39m \u001B[43msanitize_array\u001B[49m\u001B[43m(\u001B[49m\u001B[43mdata\u001B[49m\u001B[43m,\u001B[49m\u001B[43m \u001B[49m\u001B[43mindex\u001B[49m\u001B[43m,\u001B[49m\u001B[43m \u001B[49m\u001B[43mdtype\u001B[49m\u001B[43m,\u001B[49m\u001B[43m \u001B[49m\u001B[43mcopy\u001B[49m\u001B[43m)\u001B[49m\n\u001B[0;32m    586\u001B[0m     manager \u001B[38;5;241m=\u001B[39m _get_option(\u001B[38;5;124m\"\u001B[39m\u001B[38;5;124mmode.data_manager\u001B[39m\u001B[38;5;124m\"\u001B[39m, silent\u001B[38;5;241m=\u001B[39m\u001B[38;5;28;01mTrue\u001B[39;00m)\n\u001B[0;32m    587\u001B[0m     \u001B[38;5;28;01mif\u001B[39;00m manager \u001B[38;5;241m==\u001B[39m \u001B[38;5;124m\"\u001B[39m\u001B[38;5;124mblock\u001B[39m\u001B[38;5;124m\"\u001B[39m:\n",
      "File \u001B[1;32m~\\Documents\\walrus_code\\.venv\\lib\\site-packages\\pandas\\core\\construction.py:633\u001B[0m, in \u001B[0;36msanitize_array\u001B[1;34m(data, index, dtype, copy, allow_2d)\u001B[0m\n\u001B[0;32m    631\u001B[0m     \u001B[38;5;28;01melse\u001B[39;00m:\n\u001B[0;32m    632\u001B[0m         data \u001B[38;5;241m=\u001B[39m np\u001B[38;5;241m.\u001B[39marray(data, copy\u001B[38;5;241m=\u001B[39mcopy)\n\u001B[1;32m--> 633\u001B[0m     \u001B[38;5;28;01mreturn\u001B[39;00m \u001B[43msanitize_array\u001B[49m\u001B[43m(\u001B[49m\n\u001B[0;32m    634\u001B[0m \u001B[43m        \u001B[49m\u001B[43mdata\u001B[49m\u001B[43m,\u001B[49m\n\u001B[0;32m    635\u001B[0m \u001B[43m        \u001B[49m\u001B[43mindex\u001B[49m\u001B[38;5;241;43m=\u001B[39;49m\u001B[43mindex\u001B[49m\u001B[43m,\u001B[49m\n\u001B[0;32m    636\u001B[0m \u001B[43m        \u001B[49m\u001B[43mdtype\u001B[49m\u001B[38;5;241;43m=\u001B[39;49m\u001B[43mdtype\u001B[49m\u001B[43m,\u001B[49m\n\u001B[0;32m    637\u001B[0m \u001B[43m        \u001B[49m\u001B[43mcopy\u001B[49m\u001B[38;5;241;43m=\u001B[39;49m\u001B[38;5;28;43;01mFalse\u001B[39;49;00m\u001B[43m,\u001B[49m\n\u001B[0;32m    638\u001B[0m \u001B[43m        \u001B[49m\u001B[43mallow_2d\u001B[49m\u001B[38;5;241;43m=\u001B[39;49m\u001B[43mallow_2d\u001B[49m\u001B[43m,\u001B[49m\n\u001B[0;32m    639\u001B[0m \u001B[43m    \u001B[49m\u001B[43m)\u001B[49m\n\u001B[0;32m    641\u001B[0m \u001B[38;5;28;01melse\u001B[39;00m:\n\u001B[0;32m    642\u001B[0m     _sanitize_non_ordered(data)\n",
      "File \u001B[1;32m~\\Documents\\walrus_code\\.venv\\lib\\site-packages\\pandas\\core\\construction.py:606\u001B[0m, in \u001B[0;36msanitize_array\u001B[1;34m(data, index, dtype, copy, allow_2d)\u001B[0m\n\u001B[0;32m    604\u001B[0m subarr \u001B[38;5;241m=\u001B[39m data\n\u001B[0;32m    605\u001B[0m \u001B[38;5;28;01mif\u001B[39;00m data\u001B[38;5;241m.\u001B[39mdtype \u001B[38;5;241m==\u001B[39m \u001B[38;5;28mobject\u001B[39m:\n\u001B[1;32m--> 606\u001B[0m     subarr \u001B[38;5;241m=\u001B[39m \u001B[43mmaybe_infer_to_datetimelike\u001B[49m\u001B[43m(\u001B[49m\u001B[43mdata\u001B[49m\u001B[43m)\u001B[49m\n\u001B[0;32m    607\u001B[0m     \u001B[38;5;28;01mif\u001B[39;00m (\n\u001B[0;32m    608\u001B[0m         object_index\n\u001B[0;32m    609\u001B[0m         \u001B[38;5;129;01mand\u001B[39;00m using_pyarrow_string_dtype()\n\u001B[0;32m    610\u001B[0m         \u001B[38;5;129;01mand\u001B[39;00m is_string_dtype(subarr)\n\u001B[0;32m    611\u001B[0m     ):\n\u001B[0;32m    612\u001B[0m         \u001B[38;5;66;03m# Avoid inference when string option is set\u001B[39;00m\n\u001B[0;32m    613\u001B[0m         subarr \u001B[38;5;241m=\u001B[39m data\n",
      "File \u001B[1;32m~\\Documents\\walrus_code\\.venv\\lib\\site-packages\\pandas\\core\\dtypes\\cast.py:1182\u001B[0m, in \u001B[0;36mmaybe_infer_to_datetimelike\u001B[1;34m(value)\u001B[0m\n\u001B[0;32m   1179\u001B[0m     \u001B[38;5;28;01mraise\u001B[39;00m \u001B[38;5;167;01mTypeError\u001B[39;00m(\u001B[38;5;28mtype\u001B[39m(value))  \u001B[38;5;66;03m# pragma: no cover\u001B[39;00m\n\u001B[0;32m   1180\u001B[0m \u001B[38;5;28;01mif\u001B[39;00m value\u001B[38;5;241m.\u001B[39mndim \u001B[38;5;241m!=\u001B[39m \u001B[38;5;241m1\u001B[39m:\n\u001B[0;32m   1181\u001B[0m     \u001B[38;5;66;03m# Caller is responsible\u001B[39;00m\n\u001B[1;32m-> 1182\u001B[0m     \u001B[38;5;28;01mraise\u001B[39;00m \u001B[38;5;167;01mValueError\u001B[39;00m(value\u001B[38;5;241m.\u001B[39mndim)  \u001B[38;5;66;03m# pragma: no cover\u001B[39;00m\n\u001B[0;32m   1184\u001B[0m \u001B[38;5;28;01mif\u001B[39;00m \u001B[38;5;129;01mnot\u001B[39;00m \u001B[38;5;28mlen\u001B[39m(value):\n\u001B[0;32m   1185\u001B[0m     \u001B[38;5;28;01mreturn\u001B[39;00m value\n",
      "\u001B[1;31mValueError\u001B[0m: 2"
     ]
    }
   ],
   "source": [
    "# Split the data\n",
    "train_df, test_df = custom_train_test_split(dataset)\n",
    "X_train, y_train = train_df.drop(columns=['labels', 'encoded_labels', 'image_name']).values, train_df['encoded_labels'].values\n",
    "X_test, y_test = test_df.drop(columns=['labels', 'encoded_labels', 'image_name']).values, test_df['encoded_labels'].values\n",
    "\n",
    "# Print class distributions before SMOTE\n",
    "print_class_distribution(train_df, \"Training Before SMOTE\")\n",
    "print_class_distribution(test_df, \"Test\")"
   ],
   "metadata": {
    "collapsed": false,
    "ExecuteTime": {
     "end_time": "2024-06-23T09:05:08.125314700Z",
     "start_time": "2024-06-23T09:04:33.900701900Z"
    }
   },
   "id": "b810e6861c8f82c1",
   "execution_count": 21
  },
  {
   "cell_type": "code",
   "outputs": [],
   "source": [
    "# Apply SMOTE and get the augmented training DataFrame\n",
    "train_df_smote = apply_smote_with_images(train_df)\n",
    "\n",
    "# Print class distributions after SMOTE\n",
    "print_class_distribution(train_df_smote, \"Training After SMOTE\")"
   ],
   "metadata": {
    "collapsed": false
   },
   "id": "6ebf3d34e9e9acd"
  },
  {
   "cell_type": "code",
   "outputs": [],
   "source": [
    "# Visualize class distributions using box plots\n",
    "def plot_class_distribution(df, title):\n",
    "    sns.boxplot(x='encoded_labels', y=df.groupby('encoded_labels').size(), data=df)\n",
    "    plt.title(title)\n",
    "    plt.xlabel('Class')\n",
    "    plt.ylabel('Number of Pixels')\n",
    "    plt.show()\n",
    "\n",
    "plot_class_distribution(train_df, \"Training Before SMOTE\")\n",
    "plot_class_distribution(train_df_smote, \"Training After SMOTE\")\n"
   ],
   "metadata": {
    "collapsed": false
   },
   "id": "fd87a10058cbf57"
  },
  {
   "cell_type": "code",
   "outputs": [],
   "source": [
    "# Print class distribution by island after SMOTE\n",
    "print_class_distribution_by_island(train_df_smote, \"Training After SMOTE\")"
   ],
   "metadata": {
    "collapsed": false
   },
   "id": "ede8c3af1c0202ad"
  },
  {
   "cell_type": "code",
   "outputs": [],
   "source": [
    "# Train the Random Forest model using the SMOTE data\n",
    "X_train_smote = train_df_smote.drop(columns=['encoded_labels', 'image_name']).values\n",
    "y_train_smote = train_df_smote['encoded_labels'].values\n",
    "\n",
    "model = RandomForestClassifier(n_estimators=100, random_state=42)\n",
    "model.fit(X_train_smote, y_train_smote)"
   ],
   "metadata": {
    "collapsed": false
   },
   "id": "2f40c35ac85b2437"
  },
  {
   "cell_type": "code",
   "outputs": [],
   "source": [
    "# Save the model\n",
    "model_filename = \"RF_allislands_SMOTE.joblib\"\n",
    "joblib.dump(model, model_filename)\n",
    "\n",
    "# Evaluate the model\n",
    "y_pred = model.predict(X_test)"
   ],
   "metadata": {
    "collapsed": false
   },
   "id": "64a7620c08bbe6ec"
  },
  {
   "cell_type": "code",
   "outputs": [],
   "source": [
    "# Calculate and print evaluation metrics\n",
    "accuracy = accuracy_score(y_test, y_pred)\n",
    "precision = precision_score(y_test, y_pred, average='weighted')\n",
    "recall = recall_score(y_test, y_pred, average='weighted')\n",
    "f1 = f1_score(y_test, y_pred, average='weighted')\n",
    "kappa = cohen_kappa_score(y_test, y_pred)\n",
    "conf_matrix = confusion_matrix(y_test, y_pred)\n",
    "\n",
    "print(f\"Accuracy: {accuracy}\")\n",
    "print(f\"Precision: {precision}\")\n",
    "print(f\"Recall: {recall}\")\n",
    "print(f\"F1 Score: {f1}\")\n",
    "print(f\"Cohen's Kappa: {kappa}\")\n",
    "\n",
    "print(\"\\nClassification Report:\")\n",
    "print(classification_report(y_test, y_pred, target_names=le.classes_))"
   ],
   "metadata": {
    "collapsed": false
   },
   "id": "a776eebbb8910a82"
  },
  {
   "cell_type": "code",
   "outputs": [],
   "source": [
    "# Plot the confusion matrix using seaborn heatmap\n",
    "plt.figure(figsize=(10, 7))\n",
    "sns.heatmap(conf_matrix, annot=True, fmt='d', cmap='Blues', xticklabels=le.classes_, yticklabels=le.classes_)\n",
    "plt.xlabel('Predicted')\n",
    "plt.ylabel('Actual')\n",
    "plt.title('Confusion Matrix')\n",
    "plt.show()"
   ],
   "metadata": {
    "collapsed": false
   },
   "id": "168dceac9804d84d"
  },
  {
   "cell_type": "code",
   "outputs": [],
   "source": [
    "# Plot the Precision-Recall Curve\n",
    "precision, recall, _ = precision_recall_curve(y_test, model.predict_proba(X_test)[:, 1])\n",
    "plt.plot(recall, precision, marker='.')\n",
    "plt.xlabel('Recall')\n",
    "plt.ylabel('Precision')\n",
    "plt.title('Precision-Recall Curve')\n",
    "plt.show()"
   ],
   "metadata": {
    "collapsed": false
   },
   "id": "522d040a8ddeb5a4"
  },
  {
   "cell_type": "code",
   "outputs": [],
   "source": [
    "# Function to predict classes for a given image\n",
    "def predict_image(image_path, model):\n",
    "    with rasterio.open(image_path) as src:\n",
    "        image = src.read()\n",
    "        image_reshaped = image.reshape((image.shape[0], -1)).T\n",
    "        predictions = model.predict(image_reshaped)\n",
    "        return predictions.reshape((src.height, src.width))\n",
    "\n",
    "predicted_images = {}\n",
    "\n",
    "for image_path, shapefile_path in file_pairs.items():\n",
    "    predicted_images[image_path] = predict_image(image_path, model)\n",
    "\n",
    "# Define a color map for the labels\n",
    "label_colors = {\n",
    "    'ice': 'whitesmoke',\n",
    "    'ocean': 'cornflowerblue',\n",
    "    'rock': 'dimgrey',\n",
    "    'freshwater': 'aquamarine',\n",
    "    'walrus_pure': 'mediumorchid',\n",
    "    'walrus_mixed': 'hotpink'\n",
    "}\n",
    "\n",
    "# Create a fixed color map based on all possible labels\n",
    "cmap = mcolors.ListedColormap([label_colors[label] for label in le.classes_])\n",
    "\n",
    "# Plot the predicted images\n",
    "for image_path, predicted_image in predicted_images.items():\n",
    "    unique_labels = np.unique(predicted_image)\n",
    "    plt.figure(figsize=(10, 10))\n",
    "    plt.title(f\"Predicted classes for {os.path.basename(image_path)}\")\n",
    "    plt.imshow(predicted_image, cmap=cmap, vmin=0, vmax=len(le.classes_)-1)\n",
    "    \n",
    "    # Create a color bar with fixed labels\n",
    "    cbar = plt.colorbar(ticks=range(len(le.classes_)), label='Class')\n",
    "    cbar.ax.set_yticklabels(le.classes_)  # Set text labels instead of numerical labels\n",
    "    \n",
    "    # Highlight the labels present in the current image\n",
    "    present_labels = [le.classes_[i] for i in unique_labels]\n",
    "    print(f\"Labels present in {os.path.basename(image_path)}: {present_labels}\")\n",
    "    \n",
    "    plt.show()"
   ],
   "metadata": {
    "collapsed": false
   },
   "id": "8082424d59de2985"
  },
  {
   "cell_type": "code",
   "outputs": [],
   "source": [
    "# Load the saved model and predict classes for unlabeled images\n",
    "loaded_model = joblib.load(model_filename)\n",
    "print(f\"Model loaded from {model_filename}\")\n",
    "for image_path in unlabeled_image_paths:\n",
    "    predicted_image = predict_image(image_path, loaded_model)\n",
    "    \n",
    "    plt.figure(figsize=(10, 10))\n",
    "    plt.title(f\"Predicted classes for {os.path.basename(image_path)}\")\n",
    "    plt.imshow(pred\n"
   ],
   "metadata": {
    "collapsed": false
   },
   "id": "ef66bc0b6dbb5df"
  },
  {
   "cell_type": "code",
   "outputs": [],
   "source": [],
   "metadata": {
    "collapsed": false
   },
   "id": "33db5de109d66083"
  },
  {
   "cell_type": "code",
   "outputs": [],
   "source": [
    "\n",
    "\n",
    "\n",
    "# Apply SMOTE to the training data and keep image names\n",
    "def apply_smote_with_images(train_df):\n",
    "    smote = SMOTE(random_state=42)\n",
    "    X_train = train_df.drop(columns=['labels', 'encoded_labels', 'image_name']).values\n",
    "    y_train = train_df['encoded_labels'].values\n",
    "    image_names = train_df['image_name'].values\n",
    "\n",
    "    X_train_smote, y_train_smote = smote.fit_resample(X_train, y_train)\n",
    "\n",
    "    # Create a DataFrame for SMOTE applied data with image names\n",
    "    smote_df = pd.DataFrame(X_train_smote, columns=train_df.drop(columns=['labels', 'encoded_labels', 'image_name']).columns)\n",
    "    smote_df['encoded_labels'] = y_train_smote\n",
    "    smote_df['image_name'] = np.repeat(image_names, smote.sample_indices_.shape[0] // len(image_names))\n",
    "\n",
    "    return smote_df\n",
    "\n",
    "# Apply SMOTE and get the augmented training DataFrame\n",
    "train_df_smote = apply_smote_with_images(train_df)\n",
    "\n",
    "# Train the Random Forest model using the SMOTE data\n",
    "X_train_smote = train_df_smote.drop(columns=['encoded_labels', 'image_name']).values\n",
    "y_train_smote = train_df_smote['encoded_labels'].values\n",
    "\n",
    "model = RandomForestClassifier(n_estimators=100, random_state=42)\n",
    "model.fit(X_train_smote, y_train_smote)\n",
    "\n",
    "# Save the model\n",
    "model_filename = \"RF_allislands_balanced.joblib\"\n",
    "joblib.dump(model, model_filename)\n",
    "\n",
    "# Evaluate the model\n",
    "y_pred = model.predict(X_test)\n",
    "\n",
    "# Calculate and print evaluation metrics\n",
    "accuracy = accuracy_score(y_test, y_pred)\n",
    "precision = precision_score(y_test, y_pred, average='weighted')\n",
    "recall = recall_score(y_test, y_pred, average='weighted')\n",
    "f1 = f1_score(y_test, y_pred, average='weighted')\n",
    "kappa = cohen_kappa_score(y_test, y_pred)\n",
    "conf_matrix = confusion_matrix(y_test, y_pred)\n",
    "\n",
    "print(f\"Accuracy: {accuracy}\")\n",
    "print(f\"Precision: {precision}\")\n",
    "print(f\"Recall: {recall}\")\n",
    "print(f\"F1 Score: {f1}\")\n",
    "print(f\"Cohen's Kappa: {kappa}\")\n",
    "\n",
    "print(\"\\nClassification Report:\")\n",
    "print(classification_report(y_test, y_pred, target_names=le.classes_))\n",
    "\n",
    "# Plot the confusion matrix\n",
    "plot_confusion_matrix(model, X_test, y_test, display_labels=le.classes_, cmap=plt.cm.Blues)\n",
    "plt.title(\"Confusion Matrix\")\n",
    "plt.show()\n",
    "\n",
    "# Plot the Precision-Recall Curve\n",
    "precision, recall, _ = precision_recall_curve(y_test, model.predict_proba(X_test)[:, 1])\n",
    "plt.plot(recall, precision, marker='.')\n",
    "plt.xlabel('Recall')\n",
    "plt.ylabel('Precision')\n",
    "plt.title('Precision-Recall Curve')\n",
    "plt.show()\n",
    "\n",
    "# Function to predict classes for a given image\n",
    "def predict_image(image_path, model):\n",
    "    with rasterio.open(image_path) as src:\n",
    "        image = src.read()\n",
    "        image_reshaped = image.reshape((image.shape[0], -1)).T\n",
    "        predictions = model.predict(image_reshaped)\n",
    "        return predictions.reshape((src.height, src.width))\n",
    "\n",
    "predicted_images = {}\n",
    "\n",
    "for image_path, shapefile_path in file_pairs.items():\n",
    "    predicted_images[image_path] = predict_image(image_path, model)\n",
    "\n",
    "# Define a color map for the labels\n",
    "label_colors = {'ice': 'white', 'rock': 'dimgray', 'walrus_pure': 'fuchsia', 'walrus_mixed': 'hotpink', 'freshwater': 'cyan', 'ocean': 'blue'}\n",
    "\n",
    "# Create a fixed color map based on all possible labels\n",
    "cmap = mcolors.ListedColormap([label_colors[label] for label in le.classes_])\n",
    "\n",
    "# Plot the predicted images\n",
    "for image_path, predicted_image in predicted_images.items():\n",
    "    unique_labels = np.unique(predicted_image)\n",
    "    plt.figure(figsize=(10, 10))\n",
    "    plt.title(f\"Predicted classes for {os.path.basename(image_path)}\")\n",
    "    plt.imshow(predicted_image, cmap=cmap, vmin=0, vmax=len(le.classes_)-1)\n",
    "    \n",
    "    # Create a color bar with fixed labels\n",
    "    cbar = plt.colorbar(ticks=range(len(le.classes_)), label='Class')\n",
    "    cbar.ax.set_yticklabels(le.classes_)  # Set text labels instead of numerical labels\n",
    "    \n",
    "    # Highlight the labels present in the current image\n",
    "    present_labels = [le.classes_[i] for i in unique_labels]\n",
    "    print(f\"Labels present in {os.path.basename(image_path)}: {present_labels}\")\n",
    "    \n",
    "    plt.show()\n",
    "\n",
    "# Load the saved model and predict classes for unlabeled images\n",
    "loaded_model = joblib.load(model_filename)\n",
    "print(f\"Model loaded from {model_filename}\")\n",
    "for image_path in unlabeled_image_paths:\n",
    "    predicted_image = predict_image(image_path, loaded_model)\n",
    "    \n",
    "    plt.figure(figsize=(10, 10))\n",
    "    plt.title(f\"Predicted classes for {os.path.basename(image_path)}\")\n",
    "    plt.imshow(predicted_image, cmap=cmap, vmin=0, vmax=len(le.classes_)-1)\n",
    "    \n",
    "    cbar = plt.colorbar(ticks=range(len(le.classes_)), label='Class')\n",
    "    cbar.ax.set_yticklabels(le.classes_)\n",
    "    \n",
    "    plt.show()\n"
   ],
   "metadata": {
    "collapsed": false
   },
   "id": "4fa7ebfe6797a192"
  },
  {
   "cell_type": "markdown",
   "source": [],
   "metadata": {
    "collapsed": false
   },
   "id": "aae45610e1157f2f"
  },
  {
   "cell_type": "markdown",
   "source": [],
   "metadata": {
    "collapsed": false
   },
   "id": "7f0b3dff054d858c"
  },
  {
   "cell_type": "markdown",
   "source": [],
   "metadata": {
    "collapsed": false
   },
   "id": "c65a828e68d1e30d"
  },
  {
   "cell_type": "markdown",
   "source": [],
   "metadata": {
    "collapsed": false
   },
   "id": "bbebc0fb3ebda5d6"
  },
  {
   "cell_type": "markdown",
   "source": [],
   "metadata": {
    "collapsed": false
   },
   "id": "e9d755c1a372ce55"
  },
  {
   "cell_type": "markdown",
   "source": [],
   "metadata": {
    "collapsed": false
   },
   "id": "e9e4eb397c978f96"
  },
  {
   "cell_type": "markdown",
   "source": [],
   "metadata": {
    "collapsed": false
   },
   "id": "f9b12a8bc3a4c6a2"
  },
  {
   "cell_type": "markdown",
   "source": [],
   "metadata": {
    "collapsed": false
   },
   "id": "44f7ad5273228703"
  },
  {
   "cell_type": "markdown",
   "source": [],
   "metadata": {
    "collapsed": false
   },
   "id": "aea0467d4530f3ca"
  },
  {
   "cell_type": "markdown",
   "source": [],
   "metadata": {
    "collapsed": false
   },
   "id": "1f0218295429894d"
  },
  {
   "cell_type": "markdown",
   "source": [],
   "metadata": {
    "collapsed": false
   },
   "id": "41f8491a063a558a"
  },
  {
   "cell_type": "markdown",
   "source": [],
   "metadata": {
    "collapsed": false
   },
   "id": "d6bbe409d7ad654c"
  },
  {
   "cell_type": "code",
   "outputs": [],
   "source": [
    "import glob\n",
    "import os\n",
    "import re\n",
    "import numpy as np\n",
    "import pandas as pd\n",
    "import geopandas as gpd\n",
    "import rasterio\n",
    "from rasterio.mask import geometry_mask\n",
    "from sklearn.preprocessing import LabelEncoder\n",
    "from sklearn.decomposition import PCA\n",
    "import matplotlib.pyplot as plt\n",
    "from sklearn.ensemble import RandomForestClassifier\n",
    "from sklearn.model_selection import train_test_split, StratifiedKFold\n",
    "from sklearn.metrics import classification_report\n",
    "import joblib\n",
    "import matplotlib.colors as mcolors"
   ],
   "metadata": {
    "collapsed": false
   },
   "id": "5756acf40d03a76a"
  },
  {
   "cell_type": "code",
   "outputs": [],
   "source": [
    "# Define the directories containing images and shapefiles\n",
    "image_dir = \"C:\\\\Users\\\\Student\\\\Documents\\\\101_walrus_data\\\\train\\\\clipped_images\"\n",
    "shapefile_dir = \"C:\\\\Users\\\\Student\\\\Documents\\\\101_walrus_data\\\\train\\\\clipped_train\"\n",
    "unlabeled_image_dir = \"C:\\\\Users\\\\Student\\\\Documents\\\\101_walrus_data\\\\train\\\\clipped_unlabeled\"\n",
    "\n",
    "# Use glob to list all .tif and .shp files in the specified directories\n",
    "image_paths = glob.glob(f\"{image_dir}/*.tif\")\n",
    "shapefile_paths = glob.glob(f\"{shapefile_dir}/*.shp\")\n",
    "unlabeled_image_paths = glob.glob(f\"{unlabeled_image_dir}/*.tif\")\n",
    "\n",
    "# Function to extract island name and date from file names\n",
    "def extract_island_and_date(filename):\n",
    "    pattern = r'([a-zA-Z]+)_(\\d{8})'\n",
    "    match = re.search(pattern, filename)\n",
    "    if match:\n",
    "        return match.group(1), match.group(2)\n",
    "    return None, None\n",
    "\n",
    "# Create a dictionary to store paired image and shapefile paths\n",
    "file_pairs = {}\n",
    "\n",
    "# Pair image and shapefile paths based on filenames\n",
    "for image_path in image_paths:\n",
    "    island, date = extract_island_and_date(os.path.basename(image_path))\n",
    "    if island is None or date is None:\n",
    "        print(f\"Failed to extract island and date from {image_path}\")\n",
    "        continue\n",
    "\n",
    "    matching_shapefiles = [shapefile for shapefile in shapefile_paths if island in shapefile and date in shapefile]\n",
    "    if not matching_shapefiles:\n",
    "        print(f\"No matching shapefile found for {image_path}\")\n",
    "        continue\n",
    "\n",
    "    shapefile_path = matching_shapefiles[0]\n",
    "    file_pairs[image_path] = shapefile_path\n",
    "\n",
    "# Function to extract features and labels\n",
    "def extract_features_labels(image_path, shapefile_path):\n",
    "    with rasterio.open(image_path) as src:\n",
    "        image = src.read()\n",
    "        transform = src.transform\n",
    "\n",
    "    gdf = gpd.read_file(shapefile_path)\n",
    "    features = []\n",
    "    labels = []\n",
    "    img_name = []\n",
    "\n",
    "    for _, row in gdf.iterrows():\n",
    "        mask = geometry_mask([row['geometry']], transform=transform, invert=True, out_shape=(src.height, src.width))\n",
    "        feature_pixels = image[:, mask]\n",
    "        label = row['label']\n",
    "\n",
    "        for pixel in feature_pixels.T:  # Transpose to iterate over pixels\n",
    "            features.append(pixel)\n",
    "            labels.append(label)\n",
    "            img_name.append(image_path)\n",
    "\n",
    "    return np.array(features), np.array(labels), np.array(img_name)\n",
    "\n",
    "features = []\n",
    "labels = []\n",
    "image_name = []\n",
    "\n",
    "for image_path, shapefile_path in file_pairs.items():\n",
    "    img_features, img_labels, img_name = extract_features_labels(image_path, shapefile_path)\n",
    "    features.append(img_features)\n",
    "    labels.append(img_labels)\n",
    "    image_name.append(img_name)\n",
    "\n",
    "features = np.vstack(features)\n",
    "labels = np.hstack(labels)\n",
    "image_name = np.hstack(image_name)\n",
    "print(features, labels, image_name)\n",
    "\n",
    "# Encode labels\n",
    "le = LabelEncoder()\n",
    "encoded_labels = le.fit_transform(labels)\n",
    "\n",
    "# Create DataFrame\n",
    "dataset = pd.DataFrame({'Coast_blue': features[:, 0],\n",
    "                        'Blue': features[:, 1],\n",
    "                        'Green1': features[:, 2],\n",
    "                        'Green': features[:, 3],\n",
    "                        'Yellow': features[:, 4],\n",
    "                        'Red': features[:, 5],\n",
    "                        'Red_edge': features[:, 6],\n",
    "                        'NIR': features[:, 7],\n",
    "                        'labels': labels,\n",
    "                        'encoded_labels': encoded_labels,\n",
    "                        'image_name': image_name})"
   ],
   "metadata": {
    "collapsed": false
   },
   "id": "8c4991a6b01f669e"
  },
  {
   "cell_type": "code",
   "outputs": [],
   "source": [
    "# Custom function to ensure each island and rare classes are in the train set\n",
    "def custom_train_test_split(df, test_size=0.2):\n",
    "    skf = StratifiedKFold(n_splits=int(1/test_size), shuffle=True, random_state=42)\n",
    "    for train_index, test_index in skf.split(df, df['encoded_labels']):\n",
    "        train_df = df.iloc[train_index]\n",
    "        test_df = df.iloc[test_index]\n",
    "        # Ensure that rare classes are in the training set\n",
    "        if not all(cls in train_df['encoded_labels'].values for cls in [le.transform(['walrus_pure'])[0], le.transform(['walrus_mixed'])[0]]):\n",
    "            continue\n",
    "        # Ensure each island is in the training set\n",
    "        unique_islands = df['image_name'].apply(lambda x: extract_island_and_date(x)[0]).unique()\n",
    "        if all(island in train_df['image_name'].apply(lambda x: extract_island_and_date(x)[0]).unique() for island in unique_islands):\n",
    "            return train_df, test_df\n",
    "    return train_df, test_df\n",
    "\n",
    "# Split the data\n",
    "train_df, test_df = custom_train_test_split(dataset)\n",
    "X_train, y_train = train_df.drop(columns=['labels', 'encoded_labels', 'image_name']).values, train_df['encoded_labels'].values\n",
    "X_test, y_test = test_df.drop(columns=['labels', 'encoded_labels', 'image_name']).values, test_df['encoded_labels'].values"
   ],
   "metadata": {
    "collapsed": false
   },
   "id": "c5c85643d69c84e3"
  },
  {
   "cell_type": "code",
   "outputs": [],
   "source": [
    "# Calculate and print the number of pixels for each class in the training and test datasets\n",
    "def print_class_distribution(df, name):\n",
    "    class_counts = df['encoded_labels'].value_counts()\n",
    "    class_names = le.inverse_transform(class_counts.index)\n",
    "    print(f\"\\n{name} Class Distribution:\")\n",
    "    for class_name, count in zip(class_names, class_counts):\n",
    "        print(f\"{class_name}: {count}\")\n",
    "\n",
    "# Calculate class distributions\n",
    "print_class_distribution(train_df, \"Training\")\n",
    "print_class_distribution(test_df, \"Test\")\n"
   ],
   "metadata": {
    "collapsed": false
   },
   "id": "5028912405d280ef"
  },
  {
   "cell_type": "code",
   "outputs": [],
   "source": [
    "# Calculate and print the number of pixels from each island in the test dataset\n",
    "def print_island_distribution(df):\n",
    "    islands = df['image_name'].apply(lambda x: extract_island_and_date(os.path.basename(x))[0])\n",
    "    island_counts = islands.value_counts()\n",
    "    print(\"\\nTest Dataset Island Distribution:\")\n",
    "    for island, count in island_counts.items():\n",
    "        print(f\"{island}: {count}\")\n",
    "\n",
    "# Print image names used in the test data and the number of pixels from each island\n",
    "def print_test_images_info(df):\n",
    "    print(\"\\nTest Dataset Image Names and Pixel Counts:\")\n",
    "    image_names = df['image_name'].unique()\n",
    "    for image_name in image_names:\n",
    "        image_pixel_count = (df['image_name'] == image_name).sum()\n",
    "        print(f\"Image: {os.path.basename(image_name)}, Pixels: {image_pixel_count}\")\n",
    "\n",
    "# Print island distribution and test images info\n",
    "print_island_distribution(test_df)\n",
    "print_test_images_info(test_df)\n"
   ],
   "metadata": {
    "collapsed": false
   },
   "id": "8704c91790bf623c"
  },
  {
   "cell_type": "code",
   "execution_count": null,
   "id": "initial_id",
   "metadata": {
    "collapsed": true
   },
   "outputs": [],
   "source": [
    "# Classificaton Report \n",
    "import numpy as np\n",
    "from sklearn.metrics import classification_report\n",
    "print(classification_report(y_test, y_pred, digits=4))"
   ]
  }
 ],
 "metadata": {
  "kernelspec": {
   "display_name": "Python 3",
   "language": "python",
   "name": "python3"
  },
  "language_info": {
   "codemirror_mode": {
    "name": "ipython",
    "version": 2
   },
   "file_extension": ".py",
   "mimetype": "text/x-python",
   "name": "python",
   "nbconvert_exporter": "python",
   "pygments_lexer": "ipython2",
   "version": "2.7.6"
  }
 },
 "nbformat": 4,
 "nbformat_minor": 5
}
