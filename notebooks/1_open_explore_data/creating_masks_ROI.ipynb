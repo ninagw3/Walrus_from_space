{
 "cells": [
  {
   "cell_type": "markdown",
   "source": [
    "This was the attempt to get the regions (classes) by clipping them with shapefiles instead, so pixel values are exact"
   ],
   "metadata": {
    "collapsed": false
   },
   "id": "fdae8d9f37cee31c"
  },
  {
   "cell_type": "code",
   "execution_count": 1,
   "id": "initial_id",
   "metadata": {
    "collapsed": true,
    "ExecuteTime": {
     "end_time": "2024-04-29T10:06:13.712416600Z",
     "start_time": "2024-04-29T10:06:10.084571700Z"
    }
   },
   "outputs": [],
   "source": [
    "import fiona\n",
    "import rasterio\n",
    "import rasterio.mask\n",
    "import matplotlib.pyplot as plt"
   ]
  },
  {
   "cell_type": "code",
   "outputs": [],
   "source": [
    "# Create function to clip the image by the shapefile to create regions of interest \n",
    "def clip_by_shape(rasterpath, shapepath):                                                       #rasterpath = paths to raster\n",
    "    with fiona.open(shapepath, 'r')as shapefile:\n",
    "        shapes = [feature[\"geometry\"] for feature in shapefile]\n",
    "    with rasterio.open(rasterpath) as src:\n",
    "        out_image, out_transform = rasterio.mask.mask(src, shapes, crop=True)\n",
    "    return out_image\n",
    "\n",
    "image_path = 'E:/Mask/LC81660342015119LGN00_B5.TIF'\n",
    "shape_path = 'E:/Mask/Shapefile.shp'"
   ],
   "metadata": {
    "collapsed": false
   },
   "id": "d9436bc2d96634c7"
  },
  {
   "cell_type": "code",
   "outputs": [],
   "source": [
    "clip_by_shape(image_path, shape_path)"
   ],
   "metadata": {
    "collapsed": false
   },
   "id": "9ec65a1df6af02c1"
  },
  {
   "cell_type": "code",
   "outputs": [],
   "source": [
    "image = clip_by_shape(image_path, shape_path)\n",
    "plt.plot()\n",
    "plt.imshow(image[0], cmap='gray')\n",
    "plt.show()"
   ],
   "metadata": {
    "collapsed": false
   },
   "id": "2d456407030e4709"
  },
  {
   "cell_type": "markdown",
   "source": [
    "Rest is carried on through 'creating roi and mask' word document, as it didnt work so tried to start again"
   ],
   "metadata": {
    "collapsed": false
   },
   "id": "9181ac5a24a31ec"
  }
 ],
 "metadata": {
  "kernelspec": {
   "display_name": "Python 3",
   "language": "python",
   "name": "python3"
  },
  "language_info": {
   "codemirror_mode": {
    "name": "ipython",
    "version": 2
   },
   "file_extension": ".py",
   "mimetype": "text/x-python",
   "name": "python",
   "nbconvert_exporter": "python",
   "pygments_lexer": "ipython2",
   "version": "2.7.6"
  }
 },
 "nbformat": 4,
 "nbformat_minor": 5
}
